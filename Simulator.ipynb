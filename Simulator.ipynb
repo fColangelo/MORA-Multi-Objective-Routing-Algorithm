{
 "cells": [
  {
   "cell_type": "code",
   "execution_count": 1,
   "metadata": {},
   "outputs": [],
   "source": [
    "%load_ext autoreload\n",
    "%autoreload 2"
   ]
  },
  {
   "cell_type": "code",
   "execution_count": 2,
   "metadata": {},
   "outputs": [],
   "source": [
    "import sys\n",
    "sys.dont_write_bytecode\n",
    "import os\n",
    "import json\n",
    "import time\n",
    "# TOPOLOGIES\n",
    "from network_topologies.pseudogeant import Pseudogeant\n",
    "from network_topologies.geant import Geant\n",
    "from network_topologies.topology import Topology\n",
    "from network_topologies.topology_preprocessing import preprocess_metadata\n",
    "# ROUTING ALGORITHMS\n",
    "from routing_algorithms.dijkstra import dijkstra\n",
    "from routing_algorithms.dijkstra import calculate_path\n",
    "from routing_algorithms.dijkstra import set_spt\n",
    "from routing_algorithms.ear import ear\n",
    "from routing_algorithms.mora import *\n",
    "# NETWORK OBJECTS\n",
    "from utils.network_objects import *\n",
    "# PA SERVICES\n",
    "from service_flows.traffic_generator import TrafficGenerator\n",
    "from itertools import permutations\n",
    "import random\n",
    "import numpy as np\n",
    "from deap import algorithms, base, creator, tools, algorithms\n",
    "import collections\n",
    "import matplotlib.pyplot as plt\n",
    "import import_ipynb\n",
    "import operator\n",
    "import pandas as pd"
   ]
  },
  {
   "cell_type": "code",
   "execution_count": 3,
   "metadata": {},
   "outputs": [],
   "source": [
    "np.random.seed(64)\n"
   ]
  },
  {
   "cell_type": "code",
   "execution_count": 4,
   "metadata": {},
   "outputs": [
    {
     "name": "stdout",
     "output_type": "stream",
     "text": [
      "Resetting network topology... OK!\n"
     ]
    }
   ],
   "source": [
    "topo = Geant(routing_method='MORA')\n",
    "topo.save_topology_info()"
   ]
  },
  {
   "cell_type": "code",
   "execution_count": 5,
   "metadata": {},
   "outputs": [
    {
     "name": "stdout",
     "output_type": "stream",
     "text": [
      "******* GENERATE_FLOWS -> ITERATION 1 OUT OF 12 *******\n",
      "++++ BEGINNING OF ITERATION @ 04/15/2020, 17:04:25 ++++\n",
      "\n",
      "#### NODE FAILURES PHASE... execution time = 8.106231689453125e-06\n",
      "#### DISRUPTED FLOWS REROUTING PHASE... execution time = 9.012222290039062e-05\n",
      "#### GENERATE NEW FLOWS PHASE... execution time = "
     ]
    },
    {
     "name": "stderr",
     "output_type": "stream",
     "text": [
      "/Users/federicocolangelo/opt/anaconda3/envs/experiments/lib/python3.5/site-packages/deap/creator.py:141: RuntimeWarning: A class named 'FitnessMultiObj' has already been created and it will be overwritten. Consider deleting previous creation of that class or rename it.\n",
      "  RuntimeWarning)\n",
      "/Users/federicocolangelo/opt/anaconda3/envs/experiments/lib/python3.5/site-packages/deap/creator.py:141: RuntimeWarning: A class named 'Individual' has already been created and it will be overwritten. Consider deleting previous creation of that class or rename it.\n",
      "  RuntimeWarning)\n"
     ]
    },
    {
     "name": "stdout",
     "output_type": "stream",
     "text": [
      "100221 0.08330439062500039 0.0009610446129246003 2 2 0 0 - -\n",
      "107.89768600463867\n",
      "++++ END OF ITERATION @ 04/15/2020, 17:06:13 ++++\n",
      "******* GENERATE_FLOWS -> ITERATION 1 OUT OF 12 ELAPSED TIME = 107.90857696533203 *******\n",
      "******* INTERVAL EXCEEDED BY 47.90861415863037 SECONDS *******\n",
      "--------------------------------------------------------------------------\n",
      "\n",
      "******* GENERATE_FLOWS -> ITERATION 2 OUT OF 12 *******\n",
      "++++ BEGINNING OF ITERATION @ 04/15/2020, 17:06:13 ++++\n",
      "\n",
      "#### NODE FAILURES PHASE... execution time = 1.0013580322265625e-05\n",
      "#### DISRUPTED FLOWS REROUTING PHASE... execution time = 6.699562072753906e-05\n",
      "#### GENERATE NEW FLOWS PHASE... execution time = 108642 0.33868326122500036 0.0039446251570652265 2 2 0 0 - -\n",
      "113.33128190040588\n",
      "++++ END OF ITERATION @ 04/15/2020, 17:08:06 ++++\n",
      "******* GENERATE_FLOWS -> ITERATION 2 OUT OF 12 ELAPSED TIME = 113.33189105987549 *******\n",
      "******* INTERVAL EXCEEDED BY 53.33215308189392 SECONDS *******\n",
      "--------------------------------------------------------------------------\n",
      "\n",
      "******* GENERATE_FLOWS -> ITERATION 3 OUT OF 12 *******\n",
      "++++ BEGINNING OF ITERATION @ 04/15/2020, 17:08:06 ++++\n",
      "\n",
      "#### NODE FAILURES PHASE... execution time = 1.5974044799804688e-05\n",
      "#### DISRUPTED FLOWS REROUTING PHASE... execution time = 0.0004589557647705078\n",
      "#### GENERATE NEW FLOWS PHASE... execution time = 101519 0.018590299889062134 0.0002020684770550232 2 2 0 0 - -\n",
      "150.8395869731903\n",
      "++++ END OF ITERATION @ 04/15/2020, 17:10:37 ++++\n",
      "******* GENERATE_FLOWS -> ITERATION 3 OUT OF 12 ELAPSED TIME = 150.84135484695435 *******\n",
      "******* INTERVAL EXCEEDED BY 90.8414409160614 SECONDS *******\n",
      "--------------------------------------------------------------------------\n",
      "\n",
      "******* GENERATE_FLOWS -> ITERATION 4 OUT OF 12 *******\n",
      "++++ BEGINNING OF ITERATION @ 04/15/2020, 17:10:37 ++++\n",
      "\n",
      "#### NODE FAILURES PHASE... execution time = 0.11691904067993164\n",
      "#### DISRUPTED FLOWS REROUTING PHASE... execution time = "
     ]
    },
    {
     "name": "stderr",
     "output_type": "stream",
     "text": [
      "/Users/federicocolangelo/Documents/Codici/MORA-Multi-Objective-Routing-Algorithm/service_flows/traffic_generator.py:331: ComplexWarning: Casting complex values to real discards the imaginary part\n",
      "  print(int(self.topo.get_power_consumption()), max_rel, mean_rel,\\\n",
      "/Users/federicocolangelo/Documents/Codici/MORA-Multi-Objective-Routing-Algorithm/service_flows/traffic_generator.py:334: ComplexWarning: Casting complex values to real discards the imaginary part\n",
      "  row = pd.Series([self.topo.routing_method, int(self.topo.get_power_consumption()), max_rel, mean_rel,\\\n",
      "Exception in thread Thread-4:\n",
      "Traceback (most recent call last):\n",
      "  File \"/Users/federicocolangelo/opt/anaconda3/envs/experiments/lib/python3.5/threading.py\", line 914, in _bootstrap_inner\n",
      "    self.run()\n",
      "  File \"/Users/federicocolangelo/opt/anaconda3/envs/experiments/lib/python3.5/threading.py\", line 862, in run\n",
      "    self._target(*self._args, **self._kwargs)\n",
      "  File \"/Users/federicocolangelo/Documents/Codici/MORA-Multi-Objective-Routing-Algorithm/service_flows/traffic_generator.py\", line 138, in generate_flows\n",
      "    self.apply_flows()\n",
      "  File \"/Users/federicocolangelo/Documents/Codici/MORA-Multi-Objective-Routing-Algorithm/service_flows/traffic_generator.py\", line 266, in apply_flows\n",
      "    flow_path = self.topo.get_path(flow)\n",
      "  File \"/Users/federicocolangelo/Documents/Codici/MORA-Multi-Objective-Routing-Algorithm/routing_algorithms/mora.py\", line 308, in faster_optimize_route\n",
      "    algorithms.eaSimple(pop, toolbox, cxpb=0.75, mutpb=0.2, ngen=10, stats=stats, halloffame=hof, verbose=False)\n",
      "  File \"/Users/federicocolangelo/opt/anaconda3/envs/experiments/lib/python3.5/site-packages/deap/algorithms.py\", line 155, in eaSimple\n",
      "    halloffame.update(population)\n",
      "  File \"/Users/federicocolangelo/opt/anaconda3/envs/experiments/lib/python3.5/site-packages/deap/tools/support.py\", line 627, in update\n",
      "    if not dominates_one and hofer.fitness.dominates(ind.fitness):\n",
      "  File \"/Users/federicocolangelo/opt/anaconda3/envs/experiments/lib/python3.5/site-packages/deap/base.py\", line 215, in dominates\n",
      "    if self_wvalue > other_wvalue:\n",
      "TypeError: unorderable types: float() > complex()\n",
      "\n"
     ]
    },
    {
     "name": "stdout",
     "output_type": "stream",
     "text": [
      "29111 0 0.0 2 2 0 0 - -\n",
      "34.36150908470154\n",
      "#### GENERATE NEW FLOWS PHASE... execution time = "
     ]
    }
   ],
   "source": [
    "# INSTANTIATE TRAFFIC GENERATOR\n",
    "path = '/Users/federicocolangelo/Documents/Codici/MORA-Multi-Objective-Routing-Algorithm/service_flows/test_traffic/'\n",
    "set_spt(topo)\n",
    "tg = TrafficGenerator(interval=60, topology=topo, path=path, faults = 1)\n",
    "time.sleep(1)\n"
   ]
  },
  {
   "cell_type": "code",
   "execution_count": null,
   "metadata": {},
   "outputs": [],
   "source": [
    "test = tg.flows['ATEEassured']"
   ]
  },
  {
   "cell_type": "code",
   "execution_count": 17,
   "metadata": {},
   "outputs": [],
   "source": [
    "l = topo.get_one_link('ROHU')"
   ]
  },
  {
   "cell_type": "code",
   "execution_count": 19,
   "metadata": {},
   "outputs": [
    {
     "data": {
      "text/plain": [
       "(359.99838196601127-0.0019021130325903072j)"
      ]
     },
     "execution_count": 19,
     "metadata": {},
     "output_type": "execute_result"
    }
   ],
   "source": [
    "l.get_power_consumption(-1)"
   ]
  },
  {
   "cell_type": "code",
   "execution_count": 22,
   "metadata": {},
   "outputs": [
    {
     "data": {
      "text/plain": [
       "(-0.0003090169943749476-0.0009510565162951536j)"
      ]
     },
     "execution_count": 22,
     "metadata": {},
     "output_type": "execute_result"
    }
   ],
   "source": [
    "mu = 1e-03\n",
    "alpha = 1.4\n",
    "n_l = 1\n",
    "mu * ((-1/n_l)**alpha)"
   ]
  },
  {
   "cell_type": "code",
   "execution_count": 25,
   "metadata": {},
   "outputs": [
    {
     "data": {
      "text/plain": [
       "(-0.30901699437494756-0.9510565162951535j)"
      ]
     },
     "execution_count": 25,
     "metadata": {},
     "output_type": "execute_result"
    }
   ],
   "source": [
    "(-1)**1.4"
   ]
  },
  {
   "cell_type": "code",
   "execution_count": 11,
   "metadata": {},
   "outputs": [
    {
     "name": "stdout",
     "output_type": "stream",
     "text": [
      "LNLT 367.0676944823639\n",
      "HUSI 360.0\n",
      "CHFR 370.9782409504611\n",
      "IEUK 429.2614109374357\n",
      "UKPT 430.05798345382806\n",
      "FRES 0.0\n",
      "GCAT 0.0\n",
      "ATCZ 416.6262036583108\n",
      "DEDU 460.2548088703212\n",
      "UIFR 362.7880827395436\n",
      "UIUK 370.97824095046064\n",
      "LVET 0.0\n",
      "PLDE 386.1642710615376\n",
      "CZHU 0\n",
      "GRIT 371.0006148879615\n",
      "ATGC 555.5593926753577\n",
      "SIHU 360.0\n",
      "GRGC (360-1.0002638421964765e-20j)\n",
      "BENL 478.78088953583875\n",
      "DUNL 440.2337483070271\n",
      "ITSI 360.0\n",
      "ETEE 0.0\n",
      "PRPT 469.54469970409986\n",
      "ATIT 360.0\n",
      "ROHU (360-3.6077013775481106e-20j)\n",
      "NLBE 423.6839006789466\n",
      "HUAT 360.018400369501\n",
      "PLLT (360-8.297090828036678e-21j)\n",
      "NLUK 422.54048749751337\n",
      "IEIR 0.0\n",
      "ATHU 363.61216173437003\n",
      "CZAT 366.50003878325157\n",
      "HUHR 0.0\n",
      "ATSK 360.0\n",
      "ESFR 0.0\n",
      "DEPL 426.86113017937026\n",
      "DUDE 364.50004182129845\n",
      "UIIR 360.43029191333926\n",
      "HRHU 360.0\n",
      "ITAT 495.7517864411543\n",
      "EEET 367.08747380719814\n",
      "HURO 0.0\n",
      "DUEE 367.0874738071981\n",
      "EEDU (360-2.0622750822474075e-22j)\n",
      "DECZ 378.66163018573457\n",
      "BGRO (360-2.0271730219279606e-20j)\n",
      "ESPR 0.0\n",
      "FRCH 361.0636979964776\n",
      "DENL 407.2162351256994\n",
      "NLDE 577.4845448320821\n",
      "SKAT 360.0\n",
      "PRES 0.0\n",
      "FNIT 527.0013606831384\n",
      "SKHU (360-8.331321646907777e-22j)\n",
      "LTPL 367.0676944823639\n",
      "IRUI 360.43029191333926\n",
      "LVLN 367.0676944823639\n",
      "HRAT 0.0\n",
      "ESCH 0.0\n",
      "HUSK 0.0\n",
      "CZDE 427.89677051502656\n",
      "GCGR (360-2.8712058442435573e-19j)\n",
      "NLDU 364.50004182129874\n",
      "LNLV 0.0\n",
      "ITCH 370.73297375523794\n",
      "BGAT 360.0\n",
      "ATPL (360-6.345857731401687e-20j)\n",
      "UKBE 478.78088953583875\n",
      "ATBG 360.0\n",
      "UKUI 362.78808273954365\n",
      "BEUK 423.6839006789466\n",
      "CHIT 360.0\n",
      "ITFN 370.97824095046093\n",
      "PTPR 395.58443785328143\n",
      "ITGR 360.0\n",
      "ATHR (360-1.0730446607139586e-21j)\n",
      "UKIE 372.4399606170065\n",
      "CHDE 378.6864339921773\n",
      "CHFN 407.25902309287693\n",
      "FRUI 370.9782409504609\n",
      "LTLN 0.0\n",
      "HUCZ 363.7064554458822\n",
      "DECH 416.0051560319975\n",
      "ROBG 360.0\n",
      "UKNL 423.63625582572416\n",
      "ETLV 367.08747380719814\n",
      "PTUK 486.02872973904766\n",
      "FNCH 378.9727314420447\n",
      "CHES 0.0\n",
      "PLAT 458.27714124322773\n",
      "SIIT 360.0\n",
      "IRIE 0.0\n"
     ]
    }
   ],
   "source": [
    "for link in topo.links:\n",
    "    print(link.id, link.power_consumption_MORA)"
   ]
  },
  {
   "cell_type": "code",
   "execution_count": null,
   "metadata": {},
   "outputs": [],
   "source": [
    "get_path = get_optimize_route(topo)"
   ]
  },
  {
   "cell_type": "code",
   "execution_count": null,
   "metadata": {},
   "outputs": [],
   "source": [
    "\n",
    "topo.meta_heuristic = 1"
   ]
  },
  {
   "cell_type": "code",
   "execution_count": null,
   "metadata": {},
   "outputs": [],
   "source": [
    "%timeit get_path(test)"
   ]
  },
  {
   "cell_type": "code",
   "execution_count": 64,
   "metadata": {
    "collapsed": true,
    "jupyter": {
     "outputs_hidden": true
    }
   },
   "outputs": [
    {
     "data": {
      "text/plain": [
       "['AT',\n",
       " 'HR',\n",
       " 'HU',\n",
       " 'CZ',\n",
       " 'DE',\n",
       " 'CH',\n",
       " 'ES',\n",
       " 'FR',\n",
       " 'UI',\n",
       " 'UK',\n",
       " 'BE',\n",
       " 'NL',\n",
       " 'DU',\n",
       " 'EE']"
      ]
     },
     "execution_count": 64,
     "metadata": {},
     "output_type": "execute_result"
    }
   ],
   "source": [
    "from utils.network_objects import Flow\n",
    "from routing_algorithms.mora import mutate_path, crossover_one_point\n",
    "indi = []\n",
    "flow = Flow(test)\n",
    "for i in range(5000):\n",
    "    indi.append(generate_individual(list, flow.starting_node, flow.ending_node, topo))\n",
    "indi[5]"
   ]
  },
  {
   "cell_type": "code",
   "execution_count": 66,
   "metadata": {
    "collapsed": true,
    "jupyter": {
     "outputs_hidden": true
    }
   },
   "outputs": [
    {
     "name": "stdout",
     "output_type": "stream",
     "text": [
      "48.5 ms ± 17.8 ms per loop (mean ± std. dev. of 7 runs, 10 loops each)\n",
      "--------------------------------------------------------------------------\n",
      "\n",
      "******* GENERATE_FLOWS -> ITERATION 2 OUT OF 12 *******\n",
      "++++ BEGINNING OF ITERATION @ 04/15/2020, 12:10:38 ++++\n",
      "\n",
      "#### NODE FAILURES PHASE... execution time = 1.0967254638671875e-05\n",
      "#### DISRUPTED FLOWS REROUTING PHASE... execution time = 3.981590270996094e-05\n",
      "#### GENERATE NEW FLOWS PHASE... execution time = "
     ]
    }
   ],
   "source": [
    "%timeit mutate_path(indi[5], topo, list)"
   ]
  },
  {
   "cell_type": "code",
   "execution_count": 72,
   "metadata": {
    "collapsed": true,
    "jupyter": {
     "outputs_hidden": true
    }
   },
   "outputs": [
    {
     "name": "stdout",
     "output_type": "stream",
     "text": [
      "662 µs ± 64.5 µs per loop (mean ± std. dev. of 7 runs, 1000 loops each)\n",
      "--------------------------------------------------------------------------\n",
      "\n",
      "******* GENERATE_FLOWS -> ITERATION 8 OUT OF 12 *******\n",
      "++++ BEGINNING OF ITERATION @ 04/15/2020, 12:16:38 ++++\n",
      "\n",
      "#### NODE FAILURES PHASE... execution time = 9.059906005859375e-06\n",
      "#### DISRUPTED FLOWS REROUTING PHASE... execution time = 3.910064697265625e-05\n",
      "#### GENERATE NEW FLOWS PHASE... execution time = 18.27043604850769\n",
      "++++ END OF ITERATION @ 04/15/2020, 12:16:56 ++++\n",
      "******* GENERATE_FLOWS -> ITERATION 8 OUT OF 12 ELAPSED TIME = 18.286648988723755 *******\n"
     ]
    }
   ],
   "source": [
    "%timeit mutate_path_faster(indi[5], topo, list)"
   ]
  },
  {
   "cell_type": "code",
   "execution_count": 74,
   "metadata": {
    "jupyter": {
     "source_hidden": true
    }
   },
   "outputs": [],
   "source": [
    "topology=topo\n",
    "flow_obj = Flow(test)\n",
    "# number of weights in the tuple -> number of objective functions\n",
    "creator.create(\"FitnessMultiObj\", base.Fitness, weights=(-1.0, -1.0, -1.0, -1.0,)) \n",
    "creator.create(\"Individual\", list, fitness=creator.FitnessMultiObj)\n",
    "toolbox = base.Toolbox()\n",
    "toolbox.register(\"individual\", generate_individual, creator.Individual, flow_obj.starting_node, flow_obj.ending_node, topology)\n",
    "toolbox.register(\"population\", tools.initRepeat, list, toolbox.individual)\n",
    "toolbox.register(\"mate\", crossover_one_point, topology=topology, ind_class=creator.Individual, toolbox=toolbox)\n",
    "toolbox.register(\"select\", tools.selNSGA2)\n",
    "toolbox.register(\"mutate\", mutate_path, topology=topology, indi_class=creator.Individual)\n",
    "\n",
    "evaluate_individual = get_evaluate_individual(topology, test)\n",
    "toolbox.register(\"evaluate\", evaluate_individual)\n",
    "evaluate_SLA = get_evaluate_SLA(flow_obj.SLA, topology, evaluate_individual)\n",
    "penalty = get_penalty(flow_obj.SLA, topology, evaluate_individual) \n",
    "toolbox.decorate(\"evaluate\", tools.DeltaPenality(evaluate_SLA, 20.0, penalty))"
   ]
  },
  {
   "cell_type": "code",
   "execution_count": 87,
   "metadata": {},
   "outputs": [],
   "source": [
    "from routing_algorithms.mora import get_faster_optimize_route\n",
    "faster_optimize_flow = get_faster_optimize_route(topo)"
   ]
  },
  {
   "cell_type": "code",
   "execution_count": 90,
   "metadata": {
    "collapsed": true,
    "jupyter": {
     "outputs_hidden": true,
     "source_hidden": true
    }
   },
   "outputs": [
    {
     "name": "stdout",
     "output_type": "stream",
     "text": [
      "329 ms ± 68.2 ms per loop (mean ± std. dev. of 7 runs, 1 loop each)\n"
     ]
    }
   ],
   "source": [
    "# Pop = 25\n",
    "%timeit faster_optimize_flow(test)"
   ]
  },
  {
   "cell_type": "code",
   "execution_count": 86,
   "metadata": {
    "jupyter": {
     "source_hidden": true
    }
   },
   "outputs": [
    {
     "name": "stdout",
     "output_type": "stream",
     "text": [
      "671 ms ± 162 ms per loop (mean ± std. dev. of 7 runs, 1 loop each)\n"
     ]
    }
   ],
   "source": [
    "%timeit faster_optimize_flow(test)"
   ]
  },
  {
   "cell_type": "code",
   "execution_count": 81,
   "metadata": {
    "jupyter": {
     "source_hidden": true
    }
   },
   "outputs": [
    {
     "name": "stdout",
     "output_type": "stream",
     "text": [
      "5.12 s ± 940 ms per loop (mean ± std. dev. of 7 runs, 1 loop each)\n"
     ]
    }
   ],
   "source": [
    "%timeit optimize_flow(test)"
   ]
  },
  {
   "cell_type": "code",
   "execution_count": null,
   "metadata": {
    "jupyter": {
     "source_hidden": true
    }
   },
   "outputs": [],
   "source": [
    "%timeit crossover_one_point(indi[5], indi[6], topo, list, toolbox)"
   ]
  },
  {
   "cell_type": "code",
   "execution_count": null,
   "metadata": {},
   "outputs": [],
   "source": [
    "%timeit evaluate_individual(indi[5])"
   ]
  },
  {
   "cell_type": "code",
   "execution_count": 3,
   "metadata": {},
   "outputs": [],
   "source": [
    "cols = ['Routing algorithm', 'Power consumption [W]', 'Reliability score (Max)',\\\n",
    "                    'Reliability score (Mean)', 'Mean latency (premium) [ms]',\\\n",
    "                    'Mean latency (assured) [ms]', 'Premium SLA violations', 'Assured SLA violations',\n",
    "                    'Mean Premium SLA violations' , 'Mean Assured SLA violations']\n",
    "df_o = pd.DataFrame(columns=cols)\n",
    "df_o.to_csv('tezt.csv', mode='w', header=True)\n"
   ]
  },
  {
   "cell_type": "code",
   "execution_count": 58,
   "metadata": {},
   "outputs": [],
   "source": [
    "topo.init_MORA()"
   ]
  },
  {
   "cell_type": "code",
   "execution_count": 132,
   "metadata": {},
   "outputs": [],
   "source": [
    "def enumerate_paths(s, d, max_hops, current_prefix = [], pts = []):\n",
    "    current_prefix.append(s)\n",
    "    N = topo.get_valid_links(current_prefix[-1])\n",
    "    N = [x for x in N if x not in current_prefix]\n",
    "    for n in N:\n",
    "        if d == n:\n",
    "            new = current_prefix.copy()\n",
    "            new.append(d)\n",
    "            pts.append(new)\n",
    "            continue\n",
    "        if len(current_prefix) <= max_hops-1:\n",
    "            pts = enumerate_paths(n, d, max_hops, current_prefix, pts)\n",
    "    current_prefix.pop(-1)\n",
    "    return pts         "
   ]
  },
  {
   "cell_type": "code",
   "execution_count": null,
   "metadata": {},
   "outputs": [],
   "source": []
  }
 ],
 "metadata": {
  "kernelspec": {
   "display_name": "Python (experiments)",
   "language": "python",
   "name": "experiments"
  },
  "language_info": {
   "codemirror_mode": {
    "name": "ipython",
    "version": 3
   },
   "file_extension": ".py",
   "mimetype": "text/x-python",
   "name": "python",
   "nbconvert_exporter": "python",
   "pygments_lexer": "ipython3",
   "version": "3.5.6"
  }
 },
 "nbformat": 4,
 "nbformat_minor": 4
}
