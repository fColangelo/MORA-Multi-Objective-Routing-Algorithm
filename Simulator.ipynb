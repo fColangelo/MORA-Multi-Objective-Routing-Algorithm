{
 "cells": [
  {
   "cell_type": "code",
   "execution_count": null,
   "metadata": {},
   "outputs": [],
   "source": [
    "%load_ext autoreload\n",
    "%autoreload 2"
   ]
  },
  {
   "cell_type": "code",
   "execution_count": null,
   "metadata": {},
   "outputs": [],
   "source": [
    "import sys\n",
    "sys.dont_write_bytecode\n",
    "import os\n",
    "import json\n",
    "import time\n",
    "# TOPOLOGIES\n",
    "from network_topologies.pseudogeant import Pseudogeant\n",
    "from network_topologies.geant import Geant\n",
    "from network_topologies.topology import Topology\n",
    "from network_topologies.topology_preprocessing import preprocess_metadata\n",
    "# ROUTING ALGORITHMS\n",
    "from routing_algorithms.dijkstra import dijkstra\n",
    "from routing_algorithms.dijkstra import calculate_path\n",
    "from routing_algorithms.dijkstra import set_spt\n",
    "from routing_algorithms.ear import ear\n",
    "from routing_algorithms.mora_v2 import *\n",
    "# NETWORK OBJECTS\n",
    "from utils.network_objects import *\n",
    "# PA SERVICES\n",
    "from service_flows.traffic_generator import TrafficGenerator\n",
    "from itertools import permutations\n",
    "import random\n",
    "import numpy as np\n",
    "from deap import algorithms, base, creator, tools, algorithms\n",
    "import collections\n",
    "import matplotlib.pyplot as plt\n",
    "import import_ipynb\n",
    "import operator\n",
    "import pandas as pd"
   ]
  },
  {
   "cell_type": "markdown",
   "metadata": {},
   "source": [
    "### Instructions:\n",
    "<pre>\n",
    "1) Set the routing method. Possible values:\n",
    "    - 'MORA'\n",
    "    - 'Dijkstra'\n",
    "    - 'EAR'\n",
    "2) Select the path of the data by setting the path variable. \n",
    "    - 1 April traffic\n",
    "        /your/path/MORA-Multi-Objective-Routing-Algorithm/service_flows/experiments_1/'\n",
    "    - 22 March traffic\n",
    "        /your/path/MORA-Multi-Objective-Routing-Algorithm/service_flows/experiments_2/'\n",
    "    - 25 + 26 March traffic\n",
    "        /your/path/MORA-Multi-Objective-Routing-Algorithm/service_flows/experiments_3/'\n",
    "3) Set the traffic_boost variable. Normal traffic corresponds to traffic_boost=0\n",
    "</pre>"
   ]
  },
  {
   "cell_type": "code",
   "execution_count": null,
   "metadata": {},
   "outputs": [],
   "source": [
    "# Set the random seed for replicability\n",
    "np.random.seed(64)\n"
   ]
  },
  {
   "cell_type": "code",
   "execution_count": null,
   "metadata": {},
   "outputs": [],
   "source": [
    "# Select the routing method\n",
    "topo = Geant(routing_method='MORA')\n",
    "topo.save_topology_info()"
   ]
  },
  {
   "cell_type": "code",
   "execution_count": null,
   "metadata": {},
   "outputs": [],
   "source": [
    "# Set traffic options and launch the simulation\n",
    "path = '/Users/federicocolangelo/Documents/Codici/MORA-Multi-Objective-Routing-Algorithm/service_flows/experiments_3/'\n",
    "set_spt(topo)\n",
    "tg = TrafficGenerator(interval=60, topology=topo, path=path, faults = 0, traffic_boost = 0)\n",
    "time.sleep(1)\n"
   ]
  }
 ],
 "metadata": {
  "kernelspec": {
   "display_name": "Python (experiments)",
   "language": "python",
   "name": "experiments"
  },
  "language_info": {
   "codemirror_mode": {
    "name": "ipython",
    "version": 3
   },
   "file_extension": ".py",
   "mimetype": "text/x-python",
   "name": "python",
   "nbconvert_exporter": "python",
   "pygments_lexer": "ipython3",
   "version": "3.5.6"
  }
 },
 "nbformat": 4,
 "nbformat_minor": 4
}
