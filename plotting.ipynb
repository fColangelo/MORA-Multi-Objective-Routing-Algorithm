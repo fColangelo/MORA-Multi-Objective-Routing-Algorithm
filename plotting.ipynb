{
 "cells": [
  {
   "cell_type": "code",
   "execution_count": 1,
   "metadata": {},
   "outputs": [],
   "source": [
    "%load_ext autoreload\n",
    "%autoreload 2"
   ]
  },
  {
   "cell_type": "code",
   "execution_count": 35,
   "metadata": {},
   "outputs": [],
   "source": [
    "import plotly.graph_objects as go\n",
    "import numpy as np\n",
    "import pandas as pd\n",
    "from plotly.subplots import make_subplots\n"
   ]
  },
  {
   "cell_type": "code",
   "execution_count": 4,
   "metadata": {},
   "outputs": [],
   "source": [
    "df_MORA = pd.read_csv('log_2020-04-28 10:55:05_MORA.csv')\n",
    "df_EAR = pd.read_csv('log_2020-04-28 11:26:34_EAR.csv')\n",
    "df_D = pd.read_csv('log_2020-04-28 11:10:40_Dijkstra.csv')\n",
    "df_hop = pd.read_csv('log_2020-04-28 11:44:48_Hop_by_hop.csv')"
   ]
  },
  {
   "cell_type": "code",
   "execution_count": 74,
   "metadata": {},
   "outputs": [
    {
     "data": {
      "application/vnd.plotly.v1+json": {
       "config": {
        "plotlyServerURL": "https://plot.ly"
       },
       "data": [
        {
         "marker": {
          "color": "rgba(3, 252, 32)",
          "size": 10,
          "symbol": "circle"
         },
         "mode": "lines+markers",
         "name": "MORA",
         "type": "scatter",
         "x": [
          0,
          1,
          2,
          3,
          4,
          5,
          6,
          7,
          8,
          9,
          10,
          11
         ],
         "xaxis": "x",
         "y": [
          369669,
          534997,
          435115,
          474070,
          534765,
          501610,
          501384,
          508720,
          402717,
          443046,
          571841,
          629356
         ],
         "yaxis": "y"
        },
        {
         "marker": {
          "color": "rgba(252, 3, 3)",
          "size": 10,
          "symbol": "triangle-up"
         },
         "mode": "lines+markers",
         "name": "EAR",
         "type": "scatter",
         "x": [
          0,
          1,
          2,
          3,
          4,
          5,
          6,
          7,
          8,
          9,
          10,
          11
         ],
         "xaxis": "x",
         "y": [
          412657,
          470452,
          424338,
          406998,
          463213,
          408386,
          443161,
          445484,
          371880,
          449625,
          550099,
          486322
         ],
         "yaxis": "y"
        },
        {
         "marker": {
          "color": "rgba(3, 20, 252)",
          "size": 10,
          "symbol": "square"
         },
         "mode": "lines+markers",
         "name": "Hop",
         "type": "scatter",
         "x": [
          0,
          1,
          2,
          3,
          4,
          5,
          6,
          7,
          8,
          9,
          10,
          11
         ],
         "xaxis": "x",
         "y": [
          982643,
          1032242,
          920847,
          834554,
          1081176,
          922617,
          909650,
          959162,
          759603,
          1033277,
          1249697,
          1122785
         ],
         "yaxis": "y"
        },
        {
         "marker": {
          "color": "rgba(252, 132, 3)",
          "size": 10,
          "symbol": "cross"
         },
         "mode": "lines+markers",
         "name": "Dijkstra",
         "type": "scatter",
         "x": [
          0,
          1,
          2,
          3,
          4,
          5,
          6,
          7,
          8,
          9,
          10,
          11
         ],
         "xaxis": "x",
         "y": [
          385574,
          442524,
          397415,
          386597,
          447201,
          388921,
          424958,
          423466,
          359932,
          434135,
          521723,
          468528
         ],
         "yaxis": "y"
        },
        {
         "marker": {
          "color": "rgba(3, 252, 32)",
          "size": 10,
          "symbol": "circle"
         },
         "mode": "lines+markers",
         "name": "MORA",
         "type": "scatter",
         "x": [
          0,
          1,
          2,
          3,
          4,
          5,
          6,
          7,
          8,
          9,
          10,
          11
         ],
         "xaxis": "x2",
         "y": [
          0.1281917465015625,
          1.3645276968999998,
          0.4113218056640635,
          1.5370916420250005,
          0.7406839969000005,
          0.8178037056249979,
          0.4852341451562498,
          0.8434746320765605,
          0.2284816100062504,
          0.5954398642562495,
          0.7698790177562485,
          1.3882553888062503
         ],
         "yaxis": "y2"
        },
        {
         "marker": {
          "color": "rgba(252, 3, 3)",
          "size": 10,
          "symbol": "triangle-up"
         },
         "mode": "lines+markers",
         "name": "EAR",
         "type": "scatter",
         "x": [
          0,
          1,
          2,
          3,
          4,
          5,
          6,
          7,
          8,
          9,
          10,
          11
         ],
         "xaxis": "x2",
         "y": [
          1.430565503906248,
          1.4413503164062504,
          1.4062743158941418,
          1.0559180874515617,
          0.6103349610503903,
          0.4142394637066413,
          0.5271930740003912,
          0.3793097141015638,
          0.15866579307656314,
          0.1962490000000008,
          1.2130268906249997,
          0.06853007730625027
         ],
         "yaxis": "y2"
        },
        {
         "marker": {
          "color": "rgba(3, 20, 252)",
          "size": 10,
          "symbol": "square"
         },
         "mode": "lines+markers",
         "name": "Hop",
         "type": "scatter",
         "x": [
          0,
          1,
          2,
          3,
          4,
          5,
          6,
          7,
          8,
          9,
          10,
          11
         ],
         "xaxis": "x2",
         "y": [
          790.6359830624997,
          2268.783608062501,
          1201.1942930625012,
          248.0152522500002,
          1418.3132602499998,
          1353.4857050624987,
          758.9060780625003,
          607.4499622499992,
          1796.7003681875058,
          3790.557056249997,
          782.4663507599985,
          1895.6445209999977
         ],
         "yaxis": "y2"
        },
        {
         "marker": {
          "color": "rgba(252, 132, 3)",
          "size": 10,
          "symbol": "cross"
         },
         "mode": "lines+markers",
         "name": "Dijkstra",
         "type": "scatter",
         "x": [
          0,
          1,
          2,
          3,
          4,
          5,
          6,
          7,
          8,
          9,
          10,
          11
         ],
         "xaxis": "x2",
         "y": [
          1.3013105625000003,
          1.3115975625000011,
          1.3115975625000011,
          0.9740986775191399,
          0.5647522500000015,
          0.3636090000000012,
          0.4450557656250034,
          0.327041015625003,
          0.12554443400625193,
          0.1962490000000008,
          1.2056040000000001,
          0.03204099999999998
         ],
         "yaxis": "y2"
        },
        {
         "marker": {
          "color": "rgba(3, 252, 32)",
          "size": 10,
          "symbol": "circle"
         },
         "mode": "lines+markers",
         "name": "MORA",
         "type": "scatter",
         "x": [
          0,
          1,
          2,
          3,
          4,
          5,
          6,
          7,
          8,
          9,
          10,
          11
         ],
         "xaxis": "x3",
         "y": [
          0,
          1,
          0,
          2,
          1,
          1,
          0,
          1,
          0,
          0,
          1,
          4
         ],
         "yaxis": "y3"
        },
        {
         "marker": {
          "color": "rgba(252, 3, 3)",
          "size": 10,
          "symbol": "triangle-up"
         },
         "mode": "lines+markers",
         "name": "EAR",
         "type": "scatter",
         "x": [
          0,
          1,
          2,
          3,
          4,
          5,
          6,
          7,
          8,
          9,
          10,
          11
         ],
         "xaxis": "x3",
         "y": [
          2,
          2,
          2,
          2,
          1,
          0,
          0,
          0,
          0,
          0,
          1,
          0
         ],
         "yaxis": "y3"
        },
        {
         "marker": {
          "color": "rgba(3, 20, 252)",
          "size": 10,
          "symbol": "square"
         },
         "mode": "lines+markers",
         "name": "Hop",
         "type": "scatter",
         "x": [
          0,
          1,
          2,
          3,
          4,
          5,
          6,
          7,
          8,
          9,
          10,
          11
         ],
         "xaxis": "x3",
         "y": [
          31,
          41,
          34,
          34,
          34,
          32,
          33,
          40,
          28,
          32,
          34,
          31
         ],
         "yaxis": "y3"
        },
        {
         "marker": {
          "color": "rgba(252, 132, 3)",
          "size": 10,
          "symbol": "cross"
         },
         "mode": "lines+markers",
         "name": "Dijkstra",
         "type": "scatter",
         "x": [
          0,
          1,
          2,
          3,
          4,
          5,
          6,
          7,
          8,
          9,
          10,
          11
         ],
         "xaxis": "x3",
         "y": [
          2,
          2,
          2,
          2,
          0,
          0,
          0,
          0,
          0,
          0,
          1,
          0
         ],
         "yaxis": "y3"
        },
        {
         "marker": {
          "color": "rgba(3, 252, 32)",
          "size": 10,
          "symbol": "circle"
         },
         "mode": "lines+markers",
         "name": "MORA",
         "type": "scatter",
         "x": [
          0,
          1,
          2,
          3,
          4,
          5,
          6,
          7,
          8,
          9,
          10,
          11
         ],
         "xaxis": "x4",
         "y": [
          0,
          2,
          0,
          2,
          0,
          0,
          0,
          0,
          0,
          0,
          0,
          0
         ],
         "yaxis": "y4"
        },
        {
         "marker": {
          "color": "rgba(252, 3, 3)",
          "size": 10,
          "symbol": "triangle-up"
         },
         "mode": "lines+markers",
         "name": "EAR",
         "type": "scatter",
         "x": [
          0,
          1,
          2,
          3,
          4,
          5,
          6,
          7,
          8,
          9,
          10,
          11
         ],
         "xaxis": "x4",
         "y": [
          5,
          4,
          6,
          6,
          0,
          0,
          0,
          0,
          0,
          0,
          4,
          0
         ],
         "yaxis": "y4"
        },
        {
         "marker": {
          "color": "rgba(3, 20, 252)",
          "size": 10,
          "symbol": "square"
         },
         "mode": "lines+markers",
         "name": "Hop",
         "type": "scatter",
         "x": [
          0,
          1,
          2,
          3,
          4,
          5,
          6,
          7,
          8,
          9,
          10,
          11
         ],
         "xaxis": "x4",
         "y": [
          53,
          61,
          58,
          72,
          59,
          54,
          58,
          66,
          53,
          56,
          59,
          58
         ],
         "yaxis": "y4"
        },
        {
         "marker": {
          "color": "rgba(252, 132, 3)",
          "size": 10,
          "symbol": "cross"
         },
         "mode": "lines+markers",
         "name": "Dijkstra",
         "type": "scatter",
         "x": [
          0,
          1,
          2,
          3,
          4,
          5,
          6,
          7,
          8,
          9,
          10,
          11
         ],
         "xaxis": "x4",
         "y": [
          4,
          3,
          5,
          0,
          0,
          0,
          0,
          0,
          0,
          0,
          3,
          0
         ],
         "yaxis": "y4"
        },
        {
         "marker": {
          "color": "rgba(3, 252, 32)",
          "size": 10,
          "symbol": "circle"
         },
         "mode": "lines+markers",
         "name": "MORA",
         "type": "scatter",
         "x": [
          0,
          1,
          2,
          3,
          4,
          5,
          6,
          7,
          8,
          9,
          10,
          11
         ],
         "xaxis": "x5",
         "y": [
          0,
          4,
          0,
          3,
          0,
          0,
          0,
          0,
          0,
          0,
          0,
          2
         ],
         "yaxis": "y5"
        },
        {
         "marker": {
          "color": "rgba(252, 3, 3)",
          "size": 10,
          "symbol": "triangle-up"
         },
         "mode": "lines+markers",
         "name": "EAR",
         "type": "scatter",
         "x": [
          0,
          1,
          2,
          3,
          4,
          5,
          6,
          7,
          8,
          9,
          10,
          11
         ],
         "xaxis": "x5",
         "y": [
          5,
          4,
          6,
          6,
          0,
          0,
          0,
          0,
          0,
          0,
          4,
          0
         ],
         "yaxis": "y5"
        },
        {
         "marker": {
          "color": "rgba(3, 20, 252)",
          "size": 10,
          "symbol": "square"
         },
         "mode": "lines+markers",
         "name": "Hop",
         "type": "scatter",
         "x": [
          0,
          1,
          2,
          3,
          4,
          5,
          6,
          7,
          8,
          9,
          10,
          11
         ],
         "xaxis": "x5",
         "y": [
          53,
          61,
          58,
          72,
          59,
          54,
          58,
          66,
          53,
          56,
          59,
          58
         ],
         "yaxis": "y5"
        },
        {
         "marker": {
          "color": "rgba(252, 132, 3)",
          "size": 10,
          "symbol": "cross"
         },
         "mode": "lines+markers",
         "name": "Dijkstra",
         "type": "scatter",
         "x": [
          0,
          1,
          2,
          3,
          4,
          5,
          6,
          7,
          8,
          9,
          10,
          11
         ],
         "xaxis": "x5",
         "y": [
          4,
          3,
          5,
          0,
          0,
          0,
          0,
          0,
          0,
          0,
          3,
          0
         ],
         "yaxis": "y5"
        }
       ],
       "layout": {
        "annotations": [
         {
          "font": {
           "size": 16
          },
          "showarrow": false,
          "text": "Power consumption [W]",
          "x": 0.5,
          "xanchor": "center",
          "xref": "paper",
          "y": 1,
          "yanchor": "bottom",
          "yref": "paper"
         },
         {
          "font": {
           "size": 16
          },
          "showarrow": false,
          "text": "Reliability score (Max)",
          "x": 0.5,
          "xanchor": "center",
          "xref": "paper",
          "y": 0.78,
          "yanchor": "bottom",
          "yref": "paper"
         },
         {
          "font": {
           "size": 16
          },
          "showarrow": false,
          "text": "Reliability score (# above 60%)",
          "x": 0.5,
          "xanchor": "center",
          "xref": "paper",
          "y": 0.56,
          "yanchor": "bottom",
          "yref": "paper"
         },
         {
          "font": {
           "size": 16
          },
          "showarrow": false,
          "text": "Premium SLA violations",
          "x": 0.5,
          "xanchor": "center",
          "xref": "paper",
          "y": 0.33999999999999997,
          "yanchor": "bottom",
          "yref": "paper"
         },
         {
          "font": {
           "size": 16
          },
          "showarrow": false,
          "text": "Assured SLA violations",
          "x": 0.5,
          "xanchor": "center",
          "xref": "paper",
          "y": 0.12,
          "yanchor": "bottom",
          "yref": "paper"
         }
        ],
        "autosize": false,
        "height": 1200,
        "template": {
         "data": {
          "bar": [
           {
            "error_x": {
             "color": "#2a3f5f"
            },
            "error_y": {
             "color": "#2a3f5f"
            },
            "marker": {
             "line": {
              "color": "#E5ECF6",
              "width": 0.5
             }
            },
            "type": "bar"
           }
          ],
          "barpolar": [
           {
            "marker": {
             "line": {
              "color": "#E5ECF6",
              "width": 0.5
             }
            },
            "type": "barpolar"
           }
          ],
          "carpet": [
           {
            "aaxis": {
             "endlinecolor": "#2a3f5f",
             "gridcolor": "white",
             "linecolor": "white",
             "minorgridcolor": "white",
             "startlinecolor": "#2a3f5f"
            },
            "baxis": {
             "endlinecolor": "#2a3f5f",
             "gridcolor": "white",
             "linecolor": "white",
             "minorgridcolor": "white",
             "startlinecolor": "#2a3f5f"
            },
            "type": "carpet"
           }
          ],
          "choropleth": [
           {
            "colorbar": {
             "outlinewidth": 0,
             "ticks": ""
            },
            "type": "choropleth"
           }
          ],
          "contour": [
           {
            "colorbar": {
             "outlinewidth": 0,
             "ticks": ""
            },
            "colorscale": [
             [
              0,
              "#0d0887"
             ],
             [
              0.1111111111111111,
              "#46039f"
             ],
             [
              0.2222222222222222,
              "#7201a8"
             ],
             [
              0.3333333333333333,
              "#9c179e"
             ],
             [
              0.4444444444444444,
              "#bd3786"
             ],
             [
              0.5555555555555556,
              "#d8576b"
             ],
             [
              0.6666666666666666,
              "#ed7953"
             ],
             [
              0.7777777777777778,
              "#fb9f3a"
             ],
             [
              0.8888888888888888,
              "#fdca26"
             ],
             [
              1,
              "#f0f921"
             ]
            ],
            "type": "contour"
           }
          ],
          "contourcarpet": [
           {
            "colorbar": {
             "outlinewidth": 0,
             "ticks": ""
            },
            "type": "contourcarpet"
           }
          ],
          "heatmap": [
           {
            "colorbar": {
             "outlinewidth": 0,
             "ticks": ""
            },
            "colorscale": [
             [
              0,
              "#0d0887"
             ],
             [
              0.1111111111111111,
              "#46039f"
             ],
             [
              0.2222222222222222,
              "#7201a8"
             ],
             [
              0.3333333333333333,
              "#9c179e"
             ],
             [
              0.4444444444444444,
              "#bd3786"
             ],
             [
              0.5555555555555556,
              "#d8576b"
             ],
             [
              0.6666666666666666,
              "#ed7953"
             ],
             [
              0.7777777777777778,
              "#fb9f3a"
             ],
             [
              0.8888888888888888,
              "#fdca26"
             ],
             [
              1,
              "#f0f921"
             ]
            ],
            "type": "heatmap"
           }
          ],
          "heatmapgl": [
           {
            "colorbar": {
             "outlinewidth": 0,
             "ticks": ""
            },
            "colorscale": [
             [
              0,
              "#0d0887"
             ],
             [
              0.1111111111111111,
              "#46039f"
             ],
             [
              0.2222222222222222,
              "#7201a8"
             ],
             [
              0.3333333333333333,
              "#9c179e"
             ],
             [
              0.4444444444444444,
              "#bd3786"
             ],
             [
              0.5555555555555556,
              "#d8576b"
             ],
             [
              0.6666666666666666,
              "#ed7953"
             ],
             [
              0.7777777777777778,
              "#fb9f3a"
             ],
             [
              0.8888888888888888,
              "#fdca26"
             ],
             [
              1,
              "#f0f921"
             ]
            ],
            "type": "heatmapgl"
           }
          ],
          "histogram": [
           {
            "marker": {
             "colorbar": {
              "outlinewidth": 0,
              "ticks": ""
             }
            },
            "type": "histogram"
           }
          ],
          "histogram2d": [
           {
            "colorbar": {
             "outlinewidth": 0,
             "ticks": ""
            },
            "colorscale": [
             [
              0,
              "#0d0887"
             ],
             [
              0.1111111111111111,
              "#46039f"
             ],
             [
              0.2222222222222222,
              "#7201a8"
             ],
             [
              0.3333333333333333,
              "#9c179e"
             ],
             [
              0.4444444444444444,
              "#bd3786"
             ],
             [
              0.5555555555555556,
              "#d8576b"
             ],
             [
              0.6666666666666666,
              "#ed7953"
             ],
             [
              0.7777777777777778,
              "#fb9f3a"
             ],
             [
              0.8888888888888888,
              "#fdca26"
             ],
             [
              1,
              "#f0f921"
             ]
            ],
            "type": "histogram2d"
           }
          ],
          "histogram2dcontour": [
           {
            "colorbar": {
             "outlinewidth": 0,
             "ticks": ""
            },
            "colorscale": [
             [
              0,
              "#0d0887"
             ],
             [
              0.1111111111111111,
              "#46039f"
             ],
             [
              0.2222222222222222,
              "#7201a8"
             ],
             [
              0.3333333333333333,
              "#9c179e"
             ],
             [
              0.4444444444444444,
              "#bd3786"
             ],
             [
              0.5555555555555556,
              "#d8576b"
             ],
             [
              0.6666666666666666,
              "#ed7953"
             ],
             [
              0.7777777777777778,
              "#fb9f3a"
             ],
             [
              0.8888888888888888,
              "#fdca26"
             ],
             [
              1,
              "#f0f921"
             ]
            ],
            "type": "histogram2dcontour"
           }
          ],
          "mesh3d": [
           {
            "colorbar": {
             "outlinewidth": 0,
             "ticks": ""
            },
            "type": "mesh3d"
           }
          ],
          "parcoords": [
           {
            "line": {
             "colorbar": {
              "outlinewidth": 0,
              "ticks": ""
             }
            },
            "type": "parcoords"
           }
          ],
          "pie": [
           {
            "automargin": true,
            "type": "pie"
           }
          ],
          "scatter": [
           {
            "marker": {
             "colorbar": {
              "outlinewidth": 0,
              "ticks": ""
             }
            },
            "type": "scatter"
           }
          ],
          "scatter3d": [
           {
            "line": {
             "colorbar": {
              "outlinewidth": 0,
              "ticks": ""
             }
            },
            "marker": {
             "colorbar": {
              "outlinewidth": 0,
              "ticks": ""
             }
            },
            "type": "scatter3d"
           }
          ],
          "scattercarpet": [
           {
            "marker": {
             "colorbar": {
              "outlinewidth": 0,
              "ticks": ""
             }
            },
            "type": "scattercarpet"
           }
          ],
          "scattergeo": [
           {
            "marker": {
             "colorbar": {
              "outlinewidth": 0,
              "ticks": ""
             }
            },
            "type": "scattergeo"
           }
          ],
          "scattergl": [
           {
            "marker": {
             "colorbar": {
              "outlinewidth": 0,
              "ticks": ""
             }
            },
            "type": "scattergl"
           }
          ],
          "scattermapbox": [
           {
            "marker": {
             "colorbar": {
              "outlinewidth": 0,
              "ticks": ""
             }
            },
            "type": "scattermapbox"
           }
          ],
          "scatterpolar": [
           {
            "marker": {
             "colorbar": {
              "outlinewidth": 0,
              "ticks": ""
             }
            },
            "type": "scatterpolar"
           }
          ],
          "scatterpolargl": [
           {
            "marker": {
             "colorbar": {
              "outlinewidth": 0,
              "ticks": ""
             }
            },
            "type": "scatterpolargl"
           }
          ],
          "scatterternary": [
           {
            "marker": {
             "colorbar": {
              "outlinewidth": 0,
              "ticks": ""
             }
            },
            "type": "scatterternary"
           }
          ],
          "surface": [
           {
            "colorbar": {
             "outlinewidth": 0,
             "ticks": ""
            },
            "colorscale": [
             [
              0,
              "#0d0887"
             ],
             [
              0.1111111111111111,
              "#46039f"
             ],
             [
              0.2222222222222222,
              "#7201a8"
             ],
             [
              0.3333333333333333,
              "#9c179e"
             ],
             [
              0.4444444444444444,
              "#bd3786"
             ],
             [
              0.5555555555555556,
              "#d8576b"
             ],
             [
              0.6666666666666666,
              "#ed7953"
             ],
             [
              0.7777777777777778,
              "#fb9f3a"
             ],
             [
              0.8888888888888888,
              "#fdca26"
             ],
             [
              1,
              "#f0f921"
             ]
            ],
            "type": "surface"
           }
          ],
          "table": [
           {
            "cells": {
             "fill": {
              "color": "#EBF0F8"
             },
             "line": {
              "color": "white"
             }
            },
            "header": {
             "fill": {
              "color": "#C8D4E3"
             },
             "line": {
              "color": "white"
             }
            },
            "type": "table"
           }
          ]
         },
         "layout": {
          "annotationdefaults": {
           "arrowcolor": "#2a3f5f",
           "arrowhead": 0,
           "arrowwidth": 1
          },
          "coloraxis": {
           "colorbar": {
            "outlinewidth": 0,
            "ticks": ""
           }
          },
          "colorscale": {
           "diverging": [
            [
             0,
             "#8e0152"
            ],
            [
             0.1,
             "#c51b7d"
            ],
            [
             0.2,
             "#de77ae"
            ],
            [
             0.3,
             "#f1b6da"
            ],
            [
             0.4,
             "#fde0ef"
            ],
            [
             0.5,
             "#f7f7f7"
            ],
            [
             0.6,
             "#e6f5d0"
            ],
            [
             0.7,
             "#b8e186"
            ],
            [
             0.8,
             "#7fbc41"
            ],
            [
             0.9,
             "#4d9221"
            ],
            [
             1,
             "#276419"
            ]
           ],
           "sequential": [
            [
             0,
             "#0d0887"
            ],
            [
             0.1111111111111111,
             "#46039f"
            ],
            [
             0.2222222222222222,
             "#7201a8"
            ],
            [
             0.3333333333333333,
             "#9c179e"
            ],
            [
             0.4444444444444444,
             "#bd3786"
            ],
            [
             0.5555555555555556,
             "#d8576b"
            ],
            [
             0.6666666666666666,
             "#ed7953"
            ],
            [
             0.7777777777777778,
             "#fb9f3a"
            ],
            [
             0.8888888888888888,
             "#fdca26"
            ],
            [
             1,
             "#f0f921"
            ]
           ],
           "sequentialminus": [
            [
             0,
             "#0d0887"
            ],
            [
             0.1111111111111111,
             "#46039f"
            ],
            [
             0.2222222222222222,
             "#7201a8"
            ],
            [
             0.3333333333333333,
             "#9c179e"
            ],
            [
             0.4444444444444444,
             "#bd3786"
            ],
            [
             0.5555555555555556,
             "#d8576b"
            ],
            [
             0.6666666666666666,
             "#ed7953"
            ],
            [
             0.7777777777777778,
             "#fb9f3a"
            ],
            [
             0.8888888888888888,
             "#fdca26"
            ],
            [
             1,
             "#f0f921"
            ]
           ]
          },
          "colorway": [
           "#636efa",
           "#EF553B",
           "#00cc96",
           "#ab63fa",
           "#FFA15A",
           "#19d3f3",
           "#FF6692",
           "#B6E880",
           "#FF97FF",
           "#FECB52"
          ],
          "font": {
           "color": "#2a3f5f"
          },
          "geo": {
           "bgcolor": "white",
           "lakecolor": "white",
           "landcolor": "#E5ECF6",
           "showlakes": true,
           "showland": true,
           "subunitcolor": "white"
          },
          "hoverlabel": {
           "align": "left"
          },
          "hovermode": "closest",
          "mapbox": {
           "style": "light"
          },
          "paper_bgcolor": "white",
          "plot_bgcolor": "#E5ECF6",
          "polar": {
           "angularaxis": {
            "gridcolor": "white",
            "linecolor": "white",
            "ticks": ""
           },
           "bgcolor": "#E5ECF6",
           "radialaxis": {
            "gridcolor": "white",
            "linecolor": "white",
            "ticks": ""
           }
          },
          "scene": {
           "xaxis": {
            "backgroundcolor": "#E5ECF6",
            "gridcolor": "white",
            "gridwidth": 2,
            "linecolor": "white",
            "showbackground": true,
            "ticks": "",
            "zerolinecolor": "white"
           },
           "yaxis": {
            "backgroundcolor": "#E5ECF6",
            "gridcolor": "white",
            "gridwidth": 2,
            "linecolor": "white",
            "showbackground": true,
            "ticks": "",
            "zerolinecolor": "white"
           },
           "zaxis": {
            "backgroundcolor": "#E5ECF6",
            "gridcolor": "white",
            "gridwidth": 2,
            "linecolor": "white",
            "showbackground": true,
            "ticks": "",
            "zerolinecolor": "white"
           }
          },
          "shapedefaults": {
           "line": {
            "color": "#2a3f5f"
           }
          },
          "ternary": {
           "aaxis": {
            "gridcolor": "white",
            "linecolor": "white",
            "ticks": ""
           },
           "baxis": {
            "gridcolor": "white",
            "linecolor": "white",
            "ticks": ""
           },
           "bgcolor": "#E5ECF6",
           "caxis": {
            "gridcolor": "white",
            "linecolor": "white",
            "ticks": ""
           }
          },
          "title": {
           "x": 0.05
          },
          "xaxis": {
           "automargin": true,
           "gridcolor": "white",
           "linecolor": "white",
           "ticks": "",
           "title": {
            "standoff": 15
           },
           "zerolinecolor": "white",
           "zerolinewidth": 2
          },
          "yaxis": {
           "automargin": true,
           "gridcolor": "white",
           "linecolor": "white",
           "ticks": "",
           "title": {
            "standoff": 15
           },
           "zerolinecolor": "white",
           "zerolinewidth": 2
          }
         }
        },
        "width": 1300,
        "xaxis": {
         "anchor": "y",
         "autorange": true,
         "domain": [
          0,
          1
         ],
         "range": [
          -0.6900578751550229,
          11.690057875155023
         ],
         "type": "linear"
        },
        "xaxis2": {
         "anchor": "y2",
         "autorange": true,
         "domain": [
          0,
          1
         ],
         "range": [
          -0.6900578751550229,
          11.690057875155023
         ],
         "type": "linear"
        },
        "xaxis3": {
         "anchor": "y3",
         "autorange": true,
         "domain": [
          0,
          1
         ],
         "range": [
          -0.6900578751550229,
          11.690057875155023
         ],
         "type": "linear"
        },
        "xaxis4": {
         "anchor": "y4",
         "autorange": true,
         "domain": [
          0,
          1
         ],
         "range": [
          -0.6900578751550229,
          11.690057875155023
         ],
         "type": "linear"
        },
        "xaxis5": {
         "anchor": "y5",
         "autorange": true,
         "domain": [
          0,
          1
         ],
         "range": [
          -0.6900578751550229,
          11.690057875155023
         ],
         "type": "linear"
        },
        "yaxis": {
         "anchor": "x",
         "autorange": true,
         "domain": [
          0.88,
          1
         ],
         "range": [
          247230.86289166496,
          1362398.137108335
         ],
         "type": "linear"
        },
        "yaxis2": {
         "anchor": "x2",
         "autorange": true,
         "domain": [
          0.66,
          0.78
         ],
         "range": [
          -480.0907773354748,
          4270.679874585472
         ],
         "type": "linear"
        },
        "yaxis3": {
         "anchor": "x3",
         "autorange": true,
         "domain": [
          0.44,
          0.56
         ],
         "range": [
          -5.193221380298995,
          46.19322138029899
         ],
         "type": "linear"
        },
        "yaxis4": {
         "anchor": "x4",
         "autorange": true,
         "domain": [
          0.22,
          0.33999999999999997
         ],
         "range": [
          -9.119803399549458,
          81.11980339954945
         ],
         "type": "linear"
        },
        "yaxis5": {
         "anchor": "x5",
         "autorange": true,
         "domain": [
          0,
          0.12
         ],
         "range": [
          -9.119803399549458,
          81.11980339954945
         ],
         "type": "linear"
        }
       }
      },
      "image/png": "[encoded data removed]",
      "text/html": [
       "<div>\n",
       "        \n",
       "        \n",
       "            <div id=\"52d3abae-944b-40f9-bfce-ff070c4caa83\" class=\"plotly-graph-div\" style=\"height:1200px; width:1300px;\"></div>\n",
       "            <script type=\"text/javascript\">\n",
       "                require([\"plotly\"], function(Plotly) {\n",
       "                    window.PLOTLYENV=window.PLOTLYENV || {};\n",
       "                    \n",
       "                if (document.getElementById(\"52d3abae-944b-40f9-bfce-ff070c4caa83\")) {\n",
       "                    Plotly.newPlot(\n",
       "                        '52d3abae-944b-40f9-bfce-ff070c4caa83',\n",
       "                        [{\"marker\": {\"color\": \"rgba(3, 252, 32)\", \"size\": 10, \"symbol\": \"circle\"}, \"mode\": \"lines+markers\", \"name\": \"MORA\", \"type\": \"scatter\", \"x\": [0, 1, 2, 3, 4, 5, 6, 7, 8, 9, 10, 11], \"xaxis\": \"x\", \"y\": [369669, 534997, 435115, 474070, 534765, 501610, 501384, 508720, 402717, 443046, 571841, 629356], \"yaxis\": \"y\"}, {\"marker\": {\"color\": \"rgba(252, 3, 3)\", \"size\": 10, \"symbol\": \"triangle-up\"}, \"mode\": \"lines+markers\", \"name\": \"EAR\", \"type\": \"scatter\", \"x\": [0, 1, 2, 3, 4, 5, 6, 7, 8, 9, 10, 11], \"xaxis\": \"x\", \"y\": [412657, 470452, 424338, 406998, 463213, 408386, 443161, 445484, 371880, 449625, 550099, 486322], \"yaxis\": \"y\"}, {\"marker\": {\"color\": \"rgba(3, 20, 252)\", \"size\": 10, \"symbol\": \"square\"}, \"mode\": \"lines+markers\", \"name\": \"Hop\", \"type\": \"scatter\", \"x\": [0, 1, 2, 3, 4, 5, 6, 7, 8, 9, 10, 11], \"xaxis\": \"x\", \"y\": [982643, 1032242, 920847, 834554, 1081176, 922617, 909650, 959162, 759603, 1033277, 1249697, 1122785], \"yaxis\": \"y\"}, {\"marker\": {\"color\": \"rgba(252, 132, 3)\", \"size\": 10, \"symbol\": \"cross\"}, \"mode\": \"lines+markers\", \"name\": \"Dijkstra\", \"type\": \"scatter\", \"x\": [0, 1, 2, 3, 4, 5, 6, 7, 8, 9, 10, 11], \"xaxis\": \"x\", \"y\": [385574, 442524, 397415, 386597, 447201, 388921, 424958, 423466, 359932, 434135, 521723, 468528], \"yaxis\": \"y\"}, {\"marker\": {\"color\": \"rgba(3, 252, 32)\", \"size\": 10, \"symbol\": \"circle\"}, \"mode\": \"lines+markers\", \"name\": \"MORA\", \"type\": \"scatter\", \"x\": [0, 1, 2, 3, 4, 5, 6, 7, 8, 9, 10, 11], \"xaxis\": \"x2\", \"y\": [0.1281917465015625, 1.3645276968999998, 0.4113218056640635, 1.5370916420250005, 0.7406839969000005, 0.8178037056249979, 0.4852341451562498, 0.8434746320765605, 0.2284816100062504, 0.5954398642562495, 0.7698790177562485, 1.3882553888062503], \"yaxis\": \"y2\"}, {\"marker\": {\"color\": \"rgba(252, 3, 3)\", \"size\": 10, \"symbol\": \"triangle-up\"}, \"mode\": \"lines+markers\", \"name\": \"EAR\", \"type\": \"scatter\", \"x\": [0, 1, 2, 3, 4, 5, 6, 7, 8, 9, 10, 11], \"xaxis\": \"x2\", \"y\": [1.430565503906248, 1.4413503164062504, 1.4062743158941418, 1.0559180874515617, 0.6103349610503903, 0.4142394637066413, 0.5271930740003912, 0.3793097141015638, 0.15866579307656314, 0.1962490000000008, 1.2130268906249997, 0.06853007730625027], \"yaxis\": \"y2\"}, {\"marker\": {\"color\": \"rgba(3, 20, 252)\", \"size\": 10, \"symbol\": \"square\"}, \"mode\": \"lines+markers\", \"name\": \"Hop\", \"type\": \"scatter\", \"x\": [0, 1, 2, 3, 4, 5, 6, 7, 8, 9, 10, 11], \"xaxis\": \"x2\", \"y\": [790.6359830624997, 2268.783608062501, 1201.1942930625012, 248.0152522500002, 1418.3132602499998, 1353.4857050624987, 758.9060780625003, 607.4499622499992, 1796.7003681875058, 3790.557056249997, 782.4663507599985, 1895.6445209999977], \"yaxis\": \"y2\"}, {\"marker\": {\"color\": \"rgba(252, 132, 3)\", \"size\": 10, \"symbol\": \"cross\"}, \"mode\": \"lines+markers\", \"name\": \"Dijkstra\", \"type\": \"scatter\", \"x\": [0, 1, 2, 3, 4, 5, 6, 7, 8, 9, 10, 11], \"xaxis\": \"x2\", \"y\": [1.3013105625000003, 1.3115975625000011, 1.3115975625000011, 0.9740986775191399, 0.5647522500000015, 0.3636090000000012, 0.4450557656250034, 0.327041015625003, 0.12554443400625193, 0.1962490000000008, 1.2056040000000001, 0.03204099999999998], \"yaxis\": \"y2\"}, {\"marker\": {\"color\": \"rgba(3, 252, 32)\", \"size\": 10, \"symbol\": \"circle\"}, \"mode\": \"lines+markers\", \"name\": \"MORA\", \"type\": \"scatter\", \"x\": [0, 1, 2, 3, 4, 5, 6, 7, 8, 9, 10, 11], \"xaxis\": \"x3\", \"y\": [0, 1, 0, 2, 1, 1, 0, 1, 0, 0, 1, 4], \"yaxis\": \"y3\"}, {\"marker\": {\"color\": \"rgba(252, 3, 3)\", \"size\": 10, \"symbol\": \"triangle-up\"}, \"mode\": \"lines+markers\", \"name\": \"EAR\", \"type\": \"scatter\", \"x\": [0, 1, 2, 3, 4, 5, 6, 7, 8, 9, 10, 11], \"xaxis\": \"x3\", \"y\": [2, 2, 2, 2, 1, 0, 0, 0, 0, 0, 1, 0], \"yaxis\": \"y3\"}, {\"marker\": {\"color\": \"rgba(3, 20, 252)\", \"size\": 10, \"symbol\": \"square\"}, \"mode\": \"lines+markers\", \"name\": \"Hop\", \"type\": \"scatter\", \"x\": [0, 1, 2, 3, 4, 5, 6, 7, 8, 9, 10, 11], \"xaxis\": \"x3\", \"y\": [31, 41, 34, 34, 34, 32, 33, 40, 28, 32, 34, 31], \"yaxis\": \"y3\"}, {\"marker\": {\"color\": \"rgba(252, 132, 3)\", \"size\": 10, \"symbol\": \"cross\"}, \"mode\": \"lines+markers\", \"name\": \"Dijkstra\", \"type\": \"scatter\", \"x\": [0, 1, 2, 3, 4, 5, 6, 7, 8, 9, 10, 11], \"xaxis\": \"x3\", \"y\": [2, 2, 2, 2, 0, 0, 0, 0, 0, 0, 1, 0], \"yaxis\": \"y3\"}, {\"marker\": {\"color\": \"rgba(3, 252, 32)\", \"size\": 10, \"symbol\": \"circle\"}, \"mode\": \"lines+markers\", \"name\": \"MORA\", \"type\": \"scatter\", \"x\": [0, 1, 2, 3, 4, 5, 6, 7, 8, 9, 10, 11], \"xaxis\": \"x4\", \"y\": [0, 2, 0, 2, 0, 0, 0, 0, 0, 0, 0, 0], \"yaxis\": \"y4\"}, {\"marker\": {\"color\": \"rgba(252, 3, 3)\", \"size\": 10, \"symbol\": \"triangle-up\"}, \"mode\": \"lines+markers\", \"name\": \"EAR\", \"type\": \"scatter\", \"x\": [0, 1, 2, 3, 4, 5, 6, 7, 8, 9, 10, 11], \"xaxis\": \"x4\", \"y\": [5, 4, 6, 6, 0, 0, 0, 0, 0, 0, 4, 0], \"yaxis\": \"y4\"}, {\"marker\": {\"color\": \"rgba(3, 20, 252)\", \"size\": 10, \"symbol\": \"square\"}, \"mode\": \"lines+markers\", \"name\": \"Hop\", \"type\": \"scatter\", \"x\": [0, 1, 2, 3, 4, 5, 6, 7, 8, 9, 10, 11], \"xaxis\": \"x4\", \"y\": [53, 61, 58, 72, 59, 54, 58, 66, 53, 56, 59, 58], \"yaxis\": \"y4\"}, {\"marker\": {\"color\": \"rgba(252, 132, 3)\", \"size\": 10, \"symbol\": \"cross\"}, \"mode\": \"lines+markers\", \"name\": \"Dijkstra\", \"type\": \"scatter\", \"x\": [0, 1, 2, 3, 4, 5, 6, 7, 8, 9, 10, 11], \"xaxis\": \"x4\", \"y\": [4, 3, 5, 0, 0, 0, 0, 0, 0, 0, 3, 0], \"yaxis\": \"y4\"}, {\"marker\": {\"color\": \"rgba(3, 252, 32)\", \"size\": 10, \"symbol\": \"circle\"}, \"mode\": \"lines+markers\", \"name\": \"MORA\", \"type\": \"scatter\", \"x\": [0, 1, 2, 3, 4, 5, 6, 7, 8, 9, 10, 11], \"xaxis\": \"x5\", \"y\": [0, 4, 0, 3, 0, 0, 0, 0, 0, 0, 0, 2], \"yaxis\": \"y5\"}, {\"marker\": {\"color\": \"rgba(252, 3, 3)\", \"size\": 10, \"symbol\": \"triangle-up\"}, \"mode\": \"lines+markers\", \"name\": \"EAR\", \"type\": \"scatter\", \"x\": [0, 1, 2, 3, 4, 5, 6, 7, 8, 9, 10, 11], \"xaxis\": \"x5\", \"y\": [5, 4, 6, 6, 0, 0, 0, 0, 0, 0, 4, 0], \"yaxis\": \"y5\"}, {\"marker\": {\"color\": \"rgba(3, 20, 252)\", \"size\": 10, \"symbol\": \"square\"}, \"mode\": \"lines+markers\", \"name\": \"Hop\", \"type\": \"scatter\", \"x\": [0, 1, 2, 3, 4, 5, 6, 7, 8, 9, 10, 11], \"xaxis\": \"x5\", \"y\": [53, 61, 58, 72, 59, 54, 58, 66, 53, 56, 59, 58], \"yaxis\": \"y5\"}, {\"marker\": {\"color\": \"rgba(252, 132, 3)\", \"size\": 10, \"symbol\": \"cross\"}, \"mode\": \"lines+markers\", \"name\": \"Dijkstra\", \"type\": \"scatter\", \"x\": [0, 1, 2, 3, 4, 5, 6, 7, 8, 9, 10, 11], \"xaxis\": \"x5\", \"y\": [4, 3, 5, 0, 0, 0, 0, 0, 0, 0, 3, 0], \"yaxis\": \"y5\"}],\n",
       "                        {\"annotations\": [{\"font\": {\"size\": 16}, \"showarrow\": false, \"text\": \"Power consumption [W]\", \"x\": 0.5, \"xanchor\": \"center\", \"xref\": \"paper\", \"y\": 1.0, \"yanchor\": \"bottom\", \"yref\": \"paper\"}, {\"font\": {\"size\": 16}, \"showarrow\": false, \"text\": \"Reliability score (Max)\", \"x\": 0.5, \"xanchor\": \"center\", \"xref\": \"paper\", \"y\": 0.78, \"yanchor\": \"bottom\", \"yref\": \"paper\"}, {\"font\": {\"size\": 16}, \"showarrow\": false, \"text\": \"Reliability score (# above 60%)\", \"x\": 0.5, \"xanchor\": \"center\", \"xref\": \"paper\", \"y\": 0.56, \"yanchor\": \"bottom\", \"yref\": \"paper\"}, {\"font\": {\"size\": 16}, \"showarrow\": false, \"text\": \"Premium SLA violations\", \"x\": 0.5, \"xanchor\": \"center\", \"xref\": \"paper\", \"y\": 0.33999999999999997, \"yanchor\": \"bottom\", \"yref\": \"paper\"}, {\"font\": {\"size\": 16}, \"showarrow\": false, \"text\": \"Assured SLA violations\", \"x\": 0.5, \"xanchor\": \"center\", \"xref\": \"paper\", \"y\": 0.12, \"yanchor\": \"bottom\", \"yref\": \"paper\"}], \"autosize\": false, \"height\": 1200, \"template\": {\"data\": {\"bar\": [{\"error_x\": {\"color\": \"#2a3f5f\"}, \"error_y\": {\"color\": \"#2a3f5f\"}, \"marker\": {\"line\": {\"color\": \"#E5ECF6\", \"width\": 0.5}}, \"type\": \"bar\"}], \"barpolar\": [{\"marker\": {\"line\": {\"color\": \"#E5ECF6\", \"width\": 0.5}}, \"type\": \"barpolar\"}], \"carpet\": [{\"aaxis\": {\"endlinecolor\": \"#2a3f5f\", \"gridcolor\": \"white\", \"linecolor\": \"white\", \"minorgridcolor\": \"white\", \"startlinecolor\": \"#2a3f5f\"}, \"baxis\": {\"endlinecolor\": \"#2a3f5f\", \"gridcolor\": \"white\", \"linecolor\": \"white\", \"minorgridcolor\": \"white\", \"startlinecolor\": \"#2a3f5f\"}, \"type\": \"carpet\"}], \"choropleth\": [{\"colorbar\": {\"outlinewidth\": 0, \"ticks\": \"\"}, \"type\": \"choropleth\"}], \"contour\": [{\"colorbar\": {\"outlinewidth\": 0, \"ticks\": \"\"}, \"colorscale\": [[0.0, \"#0d0887\"], [0.1111111111111111, \"#46039f\"], [0.2222222222222222, \"#7201a8\"], [0.3333333333333333, \"#9c179e\"], [0.4444444444444444, \"#bd3786\"], [0.5555555555555556, \"#d8576b\"], [0.6666666666666666, \"#ed7953\"], [0.7777777777777778, \"#fb9f3a\"], [0.8888888888888888, \"#fdca26\"], [1.0, \"#f0f921\"]], \"type\": \"contour\"}], \"contourcarpet\": [{\"colorbar\": {\"outlinewidth\": 0, \"ticks\": \"\"}, \"type\": \"contourcarpet\"}], \"heatmap\": [{\"colorbar\": {\"outlinewidth\": 0, \"ticks\": \"\"}, \"colorscale\": [[0.0, \"#0d0887\"], [0.1111111111111111, \"#46039f\"], [0.2222222222222222, \"#7201a8\"], [0.3333333333333333, \"#9c179e\"], [0.4444444444444444, \"#bd3786\"], [0.5555555555555556, \"#d8576b\"], [0.6666666666666666, \"#ed7953\"], [0.7777777777777778, \"#fb9f3a\"], [0.8888888888888888, \"#fdca26\"], [1.0, \"#f0f921\"]], \"type\": \"heatmap\"}], \"heatmapgl\": [{\"colorbar\": {\"outlinewidth\": 0, \"ticks\": \"\"}, \"colorscale\": [[0.0, \"#0d0887\"], [0.1111111111111111, \"#46039f\"], [0.2222222222222222, \"#7201a8\"], [0.3333333333333333, \"#9c179e\"], [0.4444444444444444, \"#bd3786\"], [0.5555555555555556, \"#d8576b\"], [0.6666666666666666, \"#ed7953\"], [0.7777777777777778, \"#fb9f3a\"], [0.8888888888888888, \"#fdca26\"], [1.0, \"#f0f921\"]], \"type\": \"heatmapgl\"}], \"histogram\": [{\"marker\": {\"colorbar\": {\"outlinewidth\": 0, \"ticks\": \"\"}}, \"type\": \"histogram\"}], \"histogram2d\": [{\"colorbar\": {\"outlinewidth\": 0, \"ticks\": \"\"}, \"colorscale\": [[0.0, \"#0d0887\"], [0.1111111111111111, \"#46039f\"], [0.2222222222222222, \"#7201a8\"], [0.3333333333333333, \"#9c179e\"], [0.4444444444444444, \"#bd3786\"], [0.5555555555555556, \"#d8576b\"], [0.6666666666666666, \"#ed7953\"], [0.7777777777777778, \"#fb9f3a\"], [0.8888888888888888, \"#fdca26\"], [1.0, \"#f0f921\"]], \"type\": \"histogram2d\"}], \"histogram2dcontour\": [{\"colorbar\": {\"outlinewidth\": 0, \"ticks\": \"\"}, \"colorscale\": [[0.0, \"#0d0887\"], [0.1111111111111111, \"#46039f\"], [0.2222222222222222, \"#7201a8\"], [0.3333333333333333, \"#9c179e\"], [0.4444444444444444, \"#bd3786\"], [0.5555555555555556, \"#d8576b\"], [0.6666666666666666, \"#ed7953\"], [0.7777777777777778, \"#fb9f3a\"], [0.8888888888888888, \"#fdca26\"], [1.0, \"#f0f921\"]], \"type\": \"histogram2dcontour\"}], \"mesh3d\": [{\"colorbar\": {\"outlinewidth\": 0, \"ticks\": \"\"}, \"type\": \"mesh3d\"}], \"parcoords\": [{\"line\": {\"colorbar\": {\"outlinewidth\": 0, \"ticks\": \"\"}}, \"type\": \"parcoords\"}], \"pie\": [{\"automargin\": true, \"type\": \"pie\"}], \"scatter\": [{\"marker\": {\"colorbar\": {\"outlinewidth\": 0, \"ticks\": \"\"}}, \"type\": \"scatter\"}], \"scatter3d\": [{\"line\": {\"colorbar\": {\"outlinewidth\": 0, \"ticks\": \"\"}}, \"marker\": {\"colorbar\": {\"outlinewidth\": 0, \"ticks\": \"\"}}, \"type\": \"scatter3d\"}], \"scattercarpet\": [{\"marker\": {\"colorbar\": {\"outlinewidth\": 0, \"ticks\": \"\"}}, \"type\": \"scattercarpet\"}], \"scattergeo\": [{\"marker\": {\"colorbar\": {\"outlinewidth\": 0, \"ticks\": \"\"}}, \"type\": \"scattergeo\"}], \"scattergl\": [{\"marker\": {\"colorbar\": {\"outlinewidth\": 0, \"ticks\": \"\"}}, \"type\": \"scattergl\"}], \"scattermapbox\": [{\"marker\": {\"colorbar\": {\"outlinewidth\": 0, \"ticks\": \"\"}}, \"type\": \"scattermapbox\"}], \"scatterpolar\": [{\"marker\": {\"colorbar\": {\"outlinewidth\": 0, \"ticks\": \"\"}}, \"type\": \"scatterpolar\"}], \"scatterpolargl\": [{\"marker\": {\"colorbar\": {\"outlinewidth\": 0, \"ticks\": \"\"}}, \"type\": \"scatterpolargl\"}], \"scatterternary\": [{\"marker\": {\"colorbar\": {\"outlinewidth\": 0, \"ticks\": \"\"}}, \"type\": \"scatterternary\"}], \"surface\": [{\"colorbar\": {\"outlinewidth\": 0, \"ticks\": \"\"}, \"colorscale\": [[0.0, \"#0d0887\"], [0.1111111111111111, \"#46039f\"], [0.2222222222222222, \"#7201a8\"], [0.3333333333333333, \"#9c179e\"], [0.4444444444444444, \"#bd3786\"], [0.5555555555555556, \"#d8576b\"], [0.6666666666666666, \"#ed7953\"], [0.7777777777777778, \"#fb9f3a\"], [0.8888888888888888, \"#fdca26\"], [1.0, \"#f0f921\"]], \"type\": \"surface\"}], \"table\": [{\"cells\": {\"fill\": {\"color\": \"#EBF0F8\"}, \"line\": {\"color\": \"white\"}}, \"header\": {\"fill\": {\"color\": \"#C8D4E3\"}, \"line\": {\"color\": \"white\"}}, \"type\": \"table\"}]}, \"layout\": {\"annotationdefaults\": {\"arrowcolor\": \"#2a3f5f\", \"arrowhead\": 0, \"arrowwidth\": 1}, \"coloraxis\": {\"colorbar\": {\"outlinewidth\": 0, \"ticks\": \"\"}}, \"colorscale\": {\"diverging\": [[0, \"#8e0152\"], [0.1, \"#c51b7d\"], [0.2, \"#de77ae\"], [0.3, \"#f1b6da\"], [0.4, \"#fde0ef\"], [0.5, \"#f7f7f7\"], [0.6, \"#e6f5d0\"], [0.7, \"#b8e186\"], [0.8, \"#7fbc41\"], [0.9, \"#4d9221\"], [1, \"#276419\"]], \"sequential\": [[0.0, \"#0d0887\"], [0.1111111111111111, \"#46039f\"], [0.2222222222222222, \"#7201a8\"], [0.3333333333333333, \"#9c179e\"], [0.4444444444444444, \"#bd3786\"], [0.5555555555555556, \"#d8576b\"], [0.6666666666666666, \"#ed7953\"], [0.7777777777777778, \"#fb9f3a\"], [0.8888888888888888, \"#fdca26\"], [1.0, \"#f0f921\"]], \"sequentialminus\": [[0.0, \"#0d0887\"], [0.1111111111111111, \"#46039f\"], [0.2222222222222222, \"#7201a8\"], [0.3333333333333333, \"#9c179e\"], [0.4444444444444444, \"#bd3786\"], [0.5555555555555556, \"#d8576b\"], [0.6666666666666666, \"#ed7953\"], [0.7777777777777778, \"#fb9f3a\"], [0.8888888888888888, \"#fdca26\"], [1.0, \"#f0f921\"]]}, \"colorway\": [\"#636efa\", \"#EF553B\", \"#00cc96\", \"#ab63fa\", \"#FFA15A\", \"#19d3f3\", \"#FF6692\", \"#B6E880\", \"#FF97FF\", \"#FECB52\"], \"font\": {\"color\": \"#2a3f5f\"}, \"geo\": {\"bgcolor\": \"white\", \"lakecolor\": \"white\", \"landcolor\": \"#E5ECF6\", \"showlakes\": true, \"showland\": true, \"subunitcolor\": \"white\"}, \"hoverlabel\": {\"align\": \"left\"}, \"hovermode\": \"closest\", \"mapbox\": {\"style\": \"light\"}, \"paper_bgcolor\": \"white\", \"plot_bgcolor\": \"#E5ECF6\", \"polar\": {\"angularaxis\": {\"gridcolor\": \"white\", \"linecolor\": \"white\", \"ticks\": \"\"}, \"bgcolor\": \"#E5ECF6\", \"radialaxis\": {\"gridcolor\": \"white\", \"linecolor\": \"white\", \"ticks\": \"\"}}, \"scene\": {\"xaxis\": {\"backgroundcolor\": \"#E5ECF6\", \"gridcolor\": \"white\", \"gridwidth\": 2, \"linecolor\": \"white\", \"showbackground\": true, \"ticks\": \"\", \"zerolinecolor\": \"white\"}, \"yaxis\": {\"backgroundcolor\": \"#E5ECF6\", \"gridcolor\": \"white\", \"gridwidth\": 2, \"linecolor\": \"white\", \"showbackground\": true, \"ticks\": \"\", \"zerolinecolor\": \"white\"}, \"zaxis\": {\"backgroundcolor\": \"#E5ECF6\", \"gridcolor\": \"white\", \"gridwidth\": 2, \"linecolor\": \"white\", \"showbackground\": true, \"ticks\": \"\", \"zerolinecolor\": \"white\"}}, \"shapedefaults\": {\"line\": {\"color\": \"#2a3f5f\"}}, \"ternary\": {\"aaxis\": {\"gridcolor\": \"white\", \"linecolor\": \"white\", \"ticks\": \"\"}, \"baxis\": {\"gridcolor\": \"white\", \"linecolor\": \"white\", \"ticks\": \"\"}, \"bgcolor\": \"#E5ECF6\", \"caxis\": {\"gridcolor\": \"white\", \"linecolor\": \"white\", \"ticks\": \"\"}}, \"title\": {\"x\": 0.05}, \"xaxis\": {\"automargin\": true, \"gridcolor\": \"white\", \"linecolor\": \"white\", \"ticks\": \"\", \"title\": {\"standoff\": 15}, \"zerolinecolor\": \"white\", \"zerolinewidth\": 2}, \"yaxis\": {\"automargin\": true, \"gridcolor\": \"white\", \"linecolor\": \"white\", \"ticks\": \"\", \"title\": {\"standoff\": 15}, \"zerolinecolor\": \"white\", \"zerolinewidth\": 2}}}, \"width\": 1300, \"xaxis\": {\"anchor\": \"y\", \"domain\": [0.0, 1.0]}, \"xaxis2\": {\"anchor\": \"y2\", \"domain\": [0.0, 1.0]}, \"xaxis3\": {\"anchor\": \"y3\", \"domain\": [0.0, 1.0]}, \"xaxis4\": {\"anchor\": \"y4\", \"domain\": [0.0, 1.0]}, \"xaxis5\": {\"anchor\": \"y5\", \"domain\": [0.0, 1.0]}, \"yaxis\": {\"anchor\": \"x\", \"domain\": [0.88, 1.0]}, \"yaxis2\": {\"anchor\": \"x2\", \"domain\": [0.66, 0.78]}, \"yaxis3\": {\"anchor\": \"x3\", \"domain\": [0.44, 0.56]}, \"yaxis4\": {\"anchor\": \"x4\", \"domain\": [0.22, 0.33999999999999997]}, \"yaxis5\": {\"anchor\": \"x5\", \"domain\": [0.0, 0.12]}},\n",
       "                        {\"responsive\": true}\n",
       "                    ).then(function(){\n",
       "                            \n",
       "var gd = document.getElementById('52d3abae-944b-40f9-bfce-ff070c4caa83');\n",
       "var x = new MutationObserver(function (mutations, observer) {{\n",
       "        var display = window.getComputedStyle(gd).display;\n",
       "        if (!display || display === 'none') {{\n",
       "            console.log([gd, 'removed!']);\n",
       "            Plotly.purge(gd);\n",
       "            observer.disconnect();\n",
       "        }}\n",
       "}});\n",
       "\n",
       "// Listen for the removal of the full notebook cells\n",
       "var notebookContainer = gd.closest('#notebook-container');\n",
       "if (notebookContainer) {{\n",
       "    x.observe(notebookContainer, {childList: true});\n",
       "}}\n",
       "\n",
       "// Listen for the clearing of the current output cell\n",
       "var outputEl = gd.closest('.output');\n",
       "if (outputEl) {{\n",
       "    x.observe(outputEl, {childList: true});\n",
       "}}\n",
       "\n",
       "                        })\n",
       "                };\n",
       "                });\n",
       "            </script>\n",
       "        </div>"
      ]
     },
     "metadata": {},
     "output_type": "display_data"
    }
   ],
   "source": [
    "attributes = [df_MORA.columns[1], df_MORA.columns[2], df_MORA.columns[3], df_MORA.columns[6], df_MORA.columns[7]]\n",
    "fig = make_subplots(rows=len(attributes), cols=1, subplot_titles=(df_MORA.columns[1], df_MORA.columns[2], df_MORA.columns[3], df_MORA.columns[6], df_MORA.columns[7]))\n",
    "for idx, att in enumerate(attributes):\n",
    "    \n",
    "    pw_MORA = df_MORA[att]\n",
    "    pw_EAR = df_EAR[att]\n",
    "    pw_Hop = df_hop[att]\n",
    "    pw_D = df_D[att]\n",
    "\n",
    "    fig.add_trace(go.Scatter(x=x_axis, y=pw_MORA,\n",
    "                        mode='lines+markers',\n",
    "                        name='MORA', marker_symbol='circle', marker=dict(\n",
    "                                color='rgba(3, 252, 32)',\n",
    "                                size=10,)), row = idx+1, col=1)\n",
    "\n",
    "    fig.add_trace(go.Scatter(x=x_axis, y=pw_EAR,\n",
    "                        mode='lines+markers',\n",
    "                        name='EAR', marker_symbol='triangle-up', marker=dict(\n",
    "                                color='rgba(252, 3, 3)',\n",
    "                                size=10,)), row = idx+1, col=1)\n",
    "    \n",
    "    fig.add_trace(go.Scatter(x=x_axis, y=pw_Hop,\n",
    "                        mode='lines+markers',\n",
    "                        name='Hop', marker_symbol='square', marker=dict(\n",
    "                                color='rgba(3, 20, 252)',\n",
    "                                size=10,)), row = idx+1, col=1)\n",
    "    \n",
    "    \n",
    "    fig.add_trace(go.Scatter(x=x_axis, y=pw_D,\n",
    "                        mode='lines+markers',\n",
    "                        name='Dijkstra', marker_symbol='cross', marker=dict(\n",
    "                                color='rgba(252, 132, 3)',\n",
    "                                size=10,)), row = idx+1, col=1)\n",
    "    \n",
    "fig.update_layout(\n",
    "autosize=False,\n",
    "width=1300,\n",
    "height=1200,)\n",
    "\n",
    "\n",
    "fig.show()"
   ]
  },
  {
   "cell_type": "code",
   "execution_count": 73,
   "metadata": {},
   "outputs": [
    {
     "data": {
      "application/vnd.plotly.v1+json": {
       "config": {
        "plotlyServerURL": "https://plot.ly"
       },
       "data": [
        {
         "name": "MORA",
         "type": "histogram",
         "x": [
          0.6488521999999999,
          0.02349,
          0.47368000000000005,
          0,
          0.007949999999999999,
          0.06296000000000003,
          0.012375,
          0,
          0.359196,
          0.027719999999999998,
          0.2989,
          0.239891,
          0.11002200000000001,
          0.080325,
          0.3980459999999999,
          0.35395999999999994,
          0.026025,
          0.14634000000000003,
          0.11625,
          0.690609,
          0.0066976,
          0.6345069999999999,
          0.0003,
          0.061056000000000006,
          0.22179,
          0.6293145,
          0.42705,
          0.16518645,
          0,
          0.7432155,
          0.24334619999999996,
          0.10162790000000002,
          0,
          0,
          0.0382962,
          0.33855,
          0.166725,
          0.06761204999999999,
          0.058305,
          0.0393,
          0,
          0.00615,
          0.21243380000000003,
          0.006225,
          0.08517,
          0.34851620000000005,
          0.026625,
          0.0003,
          0.018899999999999997,
          0.062406,
          0.01008,
          0.31880379999999997,
          0.2276062,
          0,
          0.009075,
          0,
          0.14484,
          0.20655,
          0.12645,
          0,
          0.31529000000000007,
          0.6834640000000001,
          0,
          0.28182,
          0.0186,
          0.37885,
          0.3197,
          0.19147000000000003,
          0.07329,
          0.697119,
          0,
          0.18300999999999998,
          0.143775,
          0.20414000000000002,
          0.0032864999999999995,
          0,
          0.012374999999999999,
          0.21090000000000003,
          0.026625,
          0.03153,
          0.7368,
          0.655193,
          0.14718,
          0,
          0.1403908,
          0.727902,
          0.2863538,
          0.001302,
          0.0996,
          0.5420880000000001,
          0.022874400000000007,
          0.28964999999999996,
          0.39535309999999985,
          9.179999999999837e-05,
          0.5173909999999999,
          0,
          0.25469699999999995,
          0.32040379999999996,
          0.006525,
          0.600789,
          0.7084125,
          0.578055,
          0.5179041000000001,
          0.5419570000000001,
          0.1424055,
          0.058425,
          0.4948679999999999,
          0.048086800000000034,
          0.026175000000000007,
          0.28178955,
          0.322437,
          0.5407239999999998,
          0.3405543,
          0.6711959999999999,
          0.3006945,
          0.052200000000000024,
          0.514902,
          0.07173600000000006,
          0.4548,
          0.10624860000000004,
          0.048608,
          0.7936230000000002,
          0.11211029999999997,
          0.20076520000000006,
          0,
          0.4996920000000001,
          0.0174062,
          0.2605625999999999,
          0.5466652499999999,
          0.11823750000000002,
          0.1641468,
          0.05897474999999999,
          0.3384525,
          0.000749999999999999,
          0.32811359999999995,
          0.00015000000000000164,
          0.44787,
          0.36519650000000026,
          0.0014999999999999979,
          0.24408600000000003,
          0.00014999999999999828,
          0.3017445000000001,
          0.15720120000000004,
          0.5892657000000001,
          0.19181839999999994,
          0,
          0.021782249999999996,
          0.48787200000000003,
          0.15276749999999992,
          0.15243974999999998,
          0.27360329999999994,
          0.072912,
          0.27298720000000004,
          1.0672519999999999,
          0.0426165,
          0.08102489999999996,
          0.0002249999999999999,
          0.5094178,
          0.31778660000000014,
          0.21384690000000015,
          0.111015,
          0.5999040000000001,
          0.0617181,
          0.1432708,
          0.5888002499999999,
          0.5396945,
          0.01966875,
          0.18024869999999998,
          0.006524999999999999,
          0.48016800000000004,
          0.0014999999999999979,
          0.16496370000000002,
          0.18765,
          0.8265850000000001,
          0.29351760000000005,
          0.000918,
          0.3877593,
          0.7783095000000001,
          0.3672484000000003,
          0.0562437,
          0.30591824999999995,
          0.5555715000000001,
          0.01023855,
          0.3051854999999999,
          0.4774399999999998,
          0.0296469,
          0.35200200000000004,
          0.0396786,
          0.21532590000000001,
          0.12725469999999994,
          0.012150000000000003,
          0.24730199999999997,
          0.034741499999999974,
          0.061028999999999965,
          0.48296129999999965,
          0.3205670000000001,
          0.08271120000000007,
          0.2793,
          0.038200499999999915,
          0.25624430000000004,
          0.03142500000000001,
          0.11520359999999999,
          0.23479049999999987,
          0.6086119999999998,
          0.016787199999999974,
          0.5552789999999999,
          0.12395099999999994,
          0.106011,
          0.3311766000000001,
          0.7528275000000001,
          0.050550000000000025,
          0.10345935000000006,
          0.18351599999999998,
          0.6623917500000002,
          0.14295350000000004,
          0.11992610000000001,
          0.031292,
          0.12431325000000011,
          0.09826239999999994,
          0.2667299999999999,
          0.07534125000000001,
          0.17350109999999996,
          0.06220275000000002,
          0.11281874999999995,
          0.13013370000000013,
          0.005924999999999999,
          0.2523678,
          0.006075000000000001,
          0.154989,
          0.3387090000000002,
          0.21284999999999996,
          0.0003,
          0.22387500000000005,
          0.12156449999999999,
          0.1984905000000001,
          0.39916809999999997,
          0.2531274,
          0.022713,
          0.007650000000000003,
          0,
          0.12921,
          0.12233775000000001,
          0.08378459999999988,
          0.25104899999999997,
          0.25414770000000003,
          0.54419,
          0.10185975000000001,
          0.25533329999999993,
          0.21795,
          0.41116159999999985,
          0.47290189999999993,
          0.25607870000000016,
          0.09375149999999992,
          0.8565375000000002,
          0.03688079999999999,
          0.16447819999999996,
          0.19909724999999998,
          0.3324255999999997,
          0.01695,
          0.06598259999999999,
          0.005774999999999999,
          0.3800114999999999,
          0.219225,
          0.19100910000000015,
          0.17955,
          0.6389000000000001,
          0.32165489999999985,
          0.396786,
          0.17138489999999992,
          0.66239175,
          0.4820549000000004,
          0.0037929,
          0.08173469999999994,
          0.5639625,
          0.0859269,
          0.2978999999999998,
          0.4807681000000001,
          0.003488100000000002,
          0.413741,
          0.029346299999999995,
          0.010510800000000004,
          0.0983503999999999,
          0.007425000000000003,
          9.599999999995817e-05,
          0.5870414999999999,
          0.4519830000000002,
          0.3060489999999998,
          0.3768750000000002,
          0.1047618000000001,
          0.058874999999999955,
          0.6608999999999999,
          0.31650019999999984,
          0.028125000000000046,
          0.46959629999999997,
          0.08910899999999988,
          0.606729,
          0.041776599999999976,
          0.7555930000000001,
          0.05233199999999995,
          1.095918,
          0.14142150000000012,
          0.3316125,
          0.45929999999999993,
          0.20346570000000008,
          0,
          0.5870655000000001,
          0.48123630000000006,
          0.22744080000000005,
          0,
          0.4013017500000001,
          0.11761449999999993,
          0.3398153999999999,
          0.5547217499999999,
          0.2288164499999999,
          0.18392460000000002,
          0.03671324999999995,
          0.4831287000000001,
          0.00014999999999999733,
          0.11776950000000004,
          0.0002249999999999991,
          0.48598620000000003,
          0.3388628000000003,
          0.001649999999999926,
          0.052182000000000006,
          7.500000000001066e-05,
          1.0599255,
          0.11605590000000011,
          0.2626593000000004,
          0.2502434999999999,
          0,
          0.006750000000000002,
          9.6e-05,
          0.11521919999999995,
          0.20276325000000003,
          0.04915409999999988,
          0,
          0.38286440000000016,
          0.7730229999999999,
          0.006149999999999986,
          0.11325449999999986,
          7.499999999998294e-05,
          0.23198509999999986,
          0.37613159999999995,
          0.29355420000000026,
          0.49694594999999986,
          0.8736269999999998,
          0.026394299999999996,
          0.3039182,
          0.5400967499999999,
          0.2808984999999999,
          0.01425525,
          0.19750995,
          0.007425000000000001,
          0.39945149999999996,
          0.0016499999999999603,
          0.42423090000000013,
          0.168897,
          0.8373179999999999,
          0.26937239999999996,
          0.2945519999999999,
          0.1823960999999999,
          0.5841457499999999,
          0.15365630000000072,
          0.0429594,
          0.20902559999999987,
          0.28823849999999973,
          0.027108900000000023,
          0.3323999999999999,
          0.5845779999999999,
          0.24728610000000012,
          0.499206,
          0.0351351,
          0.35123550000000003,
          0.12700809999999993,
          0.007650000000000001,
          -4.18332035678759e-17,
          0.23388749999999978,
          0.0819000000000001,
          0.3515102999999996,
          0.25533200000000006,
          0.30452100000000015,
          0.27696225,
          0.23934599999999986,
          0.18833799999999973,
          0.024933750000000046,
          0.42740235,
          0.09109799999999986,
          0.587068,
          0.033034499999999974,
          0.6572769999999997,
          0.00029999999999994495,
          0,
          0.5594904000000002,
          0.24983849999999996,
          2.549999999996545e-05,
          0.13592385000000012,
          0.3108,
          0.8680057499999999,
          0.4167170000000002,
          0.012286200000000023,
          0.137178,
          0.03249600000000005,
          0.04267399999999996,
          0.3384203999999996,
          0.09258749999999989,
          0.10585319999999991,
          0.15136665000000002,
          0.41283450000000005,
          0.20187240000000012,
          0.0002999999999999973,
          0.16102270000000007,
          0.0002999999999999991,
          0.2114807999999999,
          0.37434940000000044,
          0.22274999999999992,
          0.0003,
          0.22131225,
          0.00135,
          0.08076540000000015,
          0.37325310000000045,
          0.2140058,
          0.35336100000000004,
          0.07632525000000001,
          0,
          0.1420974,
          0.48755099999999996,
          0.3640760999999998,
          0.6137940000000001,
          0.4644823000000005,
          0.9442520000000001,
          0.3624345,
          0.5196473999999999,
          0.22123724999999994,
          0.4544709999999998,
          0.4233652999999997,
          0.12768280000000026,
          0.42207464999999994,
          0.12040349999999994,
          0.05623019999999999,
          0.3716656,
          0.17298824999999993,
          0.36712569999999967,
          0.07810050000000002,
          0.36248805,
          0.007437750000000001,
          0.13876649999999993,
          0.22296224999999995,
          0.08632980000000008,
          0.16620000000000004,
          0.8549679999999995,
          0.1295399999999999,
          0.356151,
          0.15037349999999994,
          0.8630309999999998,
          0.42645530000000054,
          0.005370000000000006,
          0.36331829999999987,
          0.21683999999999973,
          0.05413530000000002,
          0.26044949999999983,
          0.17556359999999982,
          0.01136130000000012,
          0.635872,
          0.026393400000000004,
          0.12309180000000002,
          0.30630289999999977,
          0.055011749999999984,
          4.7999999999958165e-05,
          0.035809499999999786,
          0.5277480000000001,
          0.5302920999999997,
          0.2707840000000001,
          0.12140280000000021,
          0.11736300000000008,
          0.01684949999999982,
          0.04016649999999975,
          0.029499750000000047,
          0.24819525000000006,
          0.4197000000000001,
          0.444216,
          0.28605219999999987,
          0.9617299999999996,
          0.00029999999999994495,
          0.1209435,
          0.029466600000000114,
          0.41417249999999983,
          0.16127399999999995,
          0.11326860000000019,
          0,
          0.4969319999999997,
          0.16817830000000009,
          0.19636750000000003,
          0,
          0.45748950000000016,
          0.20201609999999995,
          0.2693057999999997,
          0.5328795000000001,
          0.17980559999999987,
          0.09411344999999999,
          0.11048850000000016,
          0.3188691000000002,
          0.04764975,
          0.3963585000000002,
          0.047724749999999996,
          0.4316198999999999,
          0.38646850000000005,
          0.11240024999999991,
          0.000126,
          0.11091300000000001,
          0.147162,
          0.07177590000000011,
          0.3182325000000006,
          0.28165819999999997,
          0.09658049999999999,
          0.008400000000000017,
          0,
          0.0567294,
          0.2689049999999998,
          0.09326999999999978,
          0.09658050000000003,
          0.12824180000000018,
          0.583926,
          0.127365,
          0.049165199999999874,
          0.11098799999999996,
          0.45024610000000004,
          0.4259472,
          0.2001803000000003,
          0.26905409999999996,
          0.752451,
          0.02870999999999998,
          0.003952900000000093,
          0.5003879999999997,
          0.4396936999999997,
          0.010904250000000013,
          0.4535418,
          0.054911999999999975,
          0.4948709999999999,
          0.11249999999999996,
          0.5458734000000003,
          0.09865050000000006,
          0.3133699999999994,
          0.15332999999999994,
          0.2574330000000001,
          0.42816500000000013,
          0.49156124999999956,
          0.3634336000000006,
          0.05078490000000001,
          0.4912052999999998,
          0.4793369999999998,
          0.021518850000000003,
          0.3589499999999999,
          0.7308398999999998,
          0.013827300000000119,
          0.475717,
          0.029808600000000005,
          0.00044999999999999646,
          0.19037759999999992,
          0.09495,
          0.36601500000000003,
          0.31924799999999975,
          0.0666270000000002,
          0.24029939999999972,
          0.376282,
          0.07876140000000018,
          0.05212500000000008,
          0.6786824999999995,
          0.5641113999999997,
          0.12202500000000005,
          0.3564198,
          0.12085800000000009,
          0.6055559999999999,
          0.04530219999999982,
          0.6868899999999997,
          0.517446,
          0.44319600000000026,
          0.5395176000000003,
          0.2969234999999999,
          0.387,
          0.10761735000000022,
          0.066272,
          0.8402287499999996,
          0.5534176000000001,
          0.0741424000000001,
          0,
          0.016050000000000106,
          0.06400919999999996,
          0.29583389999999976,
          0.1435500000000001,
          0.0929990999999999,
          0.07091714999999998,
          0.016425000000000183,
          0.2852112000000002,
          0.0876,
          0.23386820000000028,
          0.0876,
          0.4207446000000002,
          0.3890494000000002,
          0.001724999999999903,
          0.4402094999999999,
          7.499999999997727e-05,
          0.2126969999999999,
          0.03566700000000008,
          0.3018453000000008,
          0.23615640000000004,
          -1.1368683772161604e-17,
          0.05494799999999999,
          0.211842,
          0.1364208,
          0.2107499999999997,
          0.12851429999999975,
          0.09940800000000002,
          0.4650505000000002,
          0.8786349999999999,
          0.027000000000000034,
          0.17666999999999988,
          0.0001499999999999204,
          0.3344613999999997,
          0.1993616,
          0.10616310000000032,
          0.3497546999999999,
          0.24498449999999974,
          0.04550999999999999,
          0.5372722000000002,
          0.07507499999999968,
          0.11471159999999979,
          0.004344750000000012,
          0.019389899999999974,
          0.095025,
          0.2014215,
          0.0016499999999999317,
          0.05454000000000023,
          0.00015000000000005355,
          0.8677479999999995,
          0.17945759999999994,
          0.2716860000000002,
          0.2166615000000001,
          0.7762004999999996,
          0.2708486000000008,
          0.006662700000000002,
          0.09709499999999983,
          0.7262414999999998,
          0.09556110000000001,
          0.4225079999999999,
          0.39092959999999954,
          0.0002490000000001178,
          0.476337,
          0.0831609,
          0.172533,
          0.03767079999999988,
          0.007499999999999997,
          0.01099500000000002,
          0.5583075000000001,
          0.4524840000000002,
          0.39755209999999946,
          0.2970710000000002,
          0.06075630000000016,
          0.1041000000000001,
          0.5406209999999997,
          0.24631679999999959,
          0.030750000000000034,
          0.4607356500000001,
          0.4719855000000001,
          0.6363389999999997,
          0.08767819999999985,
          0.8865229999999998,
          0.00032549999999992,
          0.13905000000000015,
          0.5430300000000001,
          0.840675,
          0.2337,
          0.1383633000000003,
          0.295738,
          0.3783824999999995,
          0.4514357999999999,
          0.20256360000000023,
          0,
          0.38857950000000013,
          0.18000129999999995,
          0.2864198999999998,
          0.5091172499999999,
          0.16188599999999997,
          0.06929999999999996,
          0.03427500000000017,
          0.1027479000000002,
          7.500000000001161e-05,
          0.27818580000000037,
          0.0001500000000000225,
          0.2125131,
          0.48480910000000005,
          0.0534749999999999,
          0.00014999999999995453,
          0.05189999999999997,
          0.16218149999999995,
          0.0249588000000001,
          0.21084670000000122,
          0.2762650000000002,
          -1.1368683772161604e-17,
          0.15041475,
          0.010944,
          0.1115982,
          0.2225249999999998,
          0.2611277999999997,
          0.443607,
          0.24684070000000027,
          0.5206179999999995,
          0.03328725000000002,
          0.08889299999999992,
          0.051974999999999896,
          0.3329676999999998,
          0.48726839999999966,
          0.1665482000000003,
          0.31006064999999994,
          0.9673634999999997,
          0.08591999999999998,
          0.26008110000000034,
          0.4554172499999997,
          0.4346562999999998,
          0.15978974999999992,
          0.4385562000000001,
          0.007500000000000003,
          0.353142,
          0.05347499999999993,
          0.055496100000000236,
          0.15420000000000003,
          0.6445869999999995,
          0.18182609999999993,
          0.710211,
          0.13307620000000006,
          0.3783824999999995,
          0.4139016000000004,
          0.054808200000000015,
          0.4983311999999998,
          0.37854899999999986,
          0.05001884999999999,
          0.14062049999999993,
          0.46228279999999977,
          0.005280000000000118,
          0.29868800000000006,
          0.00273,
          0.00044999999999999885,
          0.19964719999999986,
          0.006974999999999997,
          1.9895196601282805e-17,
          0.15647700000000003,
          0.1449000000000002,
          0.4631082999999995,
          0.4270970000000004,
          0.10479000000000016,
          0.05820000000000013,
          0.15641699999999964,
          0.17160149999999952,
          0.029850000000000033,
          0.1542769500000001,
          0.10923750000000014,
          0.3427859999999997,
          0.09039129999999986,
          0.7911989999999999,
          0.00029999999999991996,
          0.08325000000000014,
          0.06709920000000008,
          0.04588799999999992,
          0.3322005000000001,
          0.07615380000000027,
          0,
          0.6688964999999997,
          0.24582130000000013,
          0.0867709000000003,
          0,
          0.4738072500000003,
          0.0618618,
          0.051620699999999776,
          0.5690362499999999,
          0.1192548,
          0.06870749999999994,
          0.1860660000000002,
          0.33296970000000026,
          7.50000000000116e-05,
          0.43421230000000044,
          0.00022500000000002252,
          0.1606608000000001,
          0.22100300000000028,
          0.0017999999999998848,
          0.00014999999999995453,
          7.499999999997442e-05,
          0.07270499999999998,
          0.0161400000000001,
          0.25527890000000114,
          0.2126443,
          -1.1368683772161604e-17,
          0.068061,
          1.4210854715202004e-18,
          0.10464000000000002,
          0.3607409999999997,
          0.09269999999999971,
          0,
          0.0722040000000002,
          0.6206839999999996,
          0.21194100000000002,
          0.19491239999999993,
          7.499999999990621e-05,
          0.5241068999999998,
          0.36243639999999977,
          0.1908365000000004,
          0.12114329999999987,
          0.32642999999999966,
          0.020759999999999973,
          0.14567570000000046,
          0.5286022499999997,
          0.4199698999999998,
          0.060635999999999884,
          0.007943250000000098,
          0.009500250000000002,
          0.25972500000000004,
          0.0017249999999999304,
          0.38833080000000025,
          0.15975,
          0.6338839999999996,
          0.14459999999999995,
          0,
          0.22269530000000004,
          0.6502214999999995,
          0.38076740000000053,
          0.014820000000000022,
          0.10788194999999981,
          0.5145284999999997,
          0.04573365,
          0.3934499999999999,
          0.6683711999999997,
          1.1823431123048066e-16,
          0.454629,
          0.00273,
          0.1318062,
          0.16831000000000004,
          0.009149999999999998,
          1.9895196601282805e-17,
          0.733515,
          0.2016000000000002,
          0.33400639999999915,
          0.1993940000000004,
          0.10410000000000015,
          0.09757500000000018,
          0.8113754999999997,
          0.4228979999999994,
          0.002250000000000037,
          0.07450815000000009,
          0.27677700000000016,
          0.8574299999999995,
          0.051468299999999835,
          0.908659,
          0.10233599999999993,
          0.14319600000000013,
          0.4379808000000001,
          0.16899149999999993,
          0.14835000000000015,
          0.08086950000000027,
          0,
          0.4284449999999995,
          0.27610910000000005,
          0.035380300000000336,
          0,
          0.36000300000000024,
          0.0407477,
          0.13840079999999974,
          0.4393289999999998,
          0.16125884999999998,
          0.11004569999999994,
          0.15516375000000004,
          0.1469100000000002,
          0.0022500000000000115,
          0.36828780000000044,
          0.0022500000000000232,
          0.0955455,
          0.4227669000000002,
          0.0725249999999999,
          0.10248599999999994,
          0.07267499999999996,
          0.452787,
          0.13036620000000015,
          0.23386200000000118,
          0.19577770000000005,
          -1.1368683772161604e-17,
          0.06487124999999999,
          0.0006000000000000014,
          0.10480919999999998,
          0.21596474999999965,
          0.11071919999999973,
          0,
          0.3253781000000003,
          0.4609639999999993,
          0.06874799999999998,
          0.0956195999999999,
          0.07267499999999989,
          0.4305209999999996,
          0.3757715999999999,
          0.11881000000000036,
          0.12943679999999988,
          0.49519649999999965,
          0.048260399999999974,
          0.3373050000000004,
          0.5052779999999996,
          0.19543489999999974,
          0.0747697499999999,
          0.09818625000000009,
          0.006975000000000003,
          0.34540350000000014,
          0.07424999999999993,
          0.08525130000000027,
          0.15990000000000004,
          0.6551649999999997,
          0.22546799999999995,
          0,
          0.21307920000000005,
          0.4258184999999994,
          0.4301780000000005,
          0.020460000000000016,
          0.06806759999999985,
          0.34608899999999987,
          0.045281549999999976,
          0.1735574999999997,
          0.4180592999999998,
          1.1823431123048066e-16,
          0.48536800000000013,
          0.011879099999999998,
          0.021923700000000018,
          0.2895595,
          0.013425,
          1.9895196601282805e-17,
          0.014602500000000122,
          0.24870000000000017,
          0.5265091999999993,
          0.4444650000000005,
          0.09477090000000017,
          0.05752500000000014,
          0.2502689999999997,
          0.3225556999999992,
          0.030075000000000036,
          0.5423292,
          0.5918220000000001,
          0.6510299999999996,
          0.18822579999999986,
          0.9509709999999997,
          0.0001499999999999204,
          0.15495450000000013,
          0.10859190000000013,
          0.352836,
          0.3165000000000001,
          0.1196805000000003,
          0,
          0.4644854999999995,
          0.4150432999999999,
          0.1406626000000003,
          0,
          0.41346750000000027,
          0.05607410000000001,
          0.2643386999999998,
          0.40308524999999995,
          0.2801884499999999,
          0.10075094999999998,
          0.3139005000000001,
          0.3816396000000003,
          0.006450000000000009,
          0.27044830000000036,
          0.00667500000000002,
          0.4791405000000001,
          0.3348035000000004,
          0.002174999999999896,
          0.00014999999999994315,
          0.00014999999999997584,
          0.7902809999999999,
          0.0230154000000002,
          0.31841460000000094,
          0.3586327,
          -1.1368683772161604e-17,
          0.01597499999999999,
          1.3322676295501879e-18,
          0.10929089999999997,
          0.3706214999999997,
          0.13805249999999974,
          0,
          0.4537038000000003,
          0.7310849999999995,
          0.27345375,
          0.13768649999999988,
          0.00014999999999990764,
          0.26556419999999953,
          0.32866839999999997,
          0.19470950000000034,
          0.6054077999999998,
          0.31782299999999963,
          0.02114639999999997,
          0.39574630000000005,
          0.4774642499999998,
          0.1431807999999998,
          -1.1368683772161603e-16,
          0.4054171500000001,
          0.013125000000000003,
          0.6547905000000003,
          0.0023249999999999417,
          0.5765538000000002,
          0.14070000000000005,
          0.6839039999999995,
          0.20853929999999993,
          0.11879100000000001,
          0.3442550999999999,
          0.4485854999999994,
          0.5022712000000007,
          0.023160000000000017,
          0.32445854999999985,
          0.6537089999999999,
          0.08134109999999994,
          0.37349999999999983,
          0.6380318999999992,
          0.7194393000000001,
          0.4697850000000001,
          0.7183356,
          0.053127000000000035,
          0.11925840000000006,
          0.007125,
          0.893244,
          0.26248950000000015,
          0.3220380000000002,
          0.40461919999999935,
          0.5777890000000004,
          0.8212959000000003,
          0.04845000000000016,
          0.8081309999999996,
          0.5349776999999991,
          0.022650000000000038,
          0.23305784999999984,
          0.039754500000000095,
          0.8686889999999994,
          0.09336239999999982,
          1.071297,
          0.9652005000000001,
          0.17139600000000013,
          0.2931108000000001,
          0.33229349999999996,
          0.2839500000000001,
          0.1510581000000002,
          0.470758,
          0.017939999999999474,
          0.5439024999999996,
          0.07986200000000032,
          0,
          0.15891825000000015,
          0.08076720000000003,
          0.2153615999999998,
          0.1359022499999999,
          0.14163615000000002,
          0.03426404999999997,
          0.16960199999999995,
          0.2866956000000001,
          0.00015000000000001,
          0.41194960000000036,
          0.00015000000000002173,
          0.2418716999999999,
          0.5368251000000003,
          0.002174999999999896,
          0.9652005000000002,
          0.00014999999999997584,
          0.10800599999999995,
          0.020912700000000183,
          0.2658797000000009,
          0.3174022999999997,
          -1.1368683772161604e-17,
          0.15418575,
          0.893244,
          0.13146090000000002,
          0.2418029999999996,
          0.16595519999999978,
          0.706137,
          0.35150750000000014,
          0.5616739999999995,
          0.20519399999999988,
          0.3441557999999998,
          0.00022499999999990762,
          0.45482599999999956,
          0.25922530000000005,
          0.20636670000000049,
          0.16204514999999994,
          0.9329639999999998,
          0.15207810000000002,
          0.31182800000000005,
          0.2019262499999997,
          0.3061202999999997,
          0.21525074999999988,
          0.6100019999999999,
          0.0070500000000000024,
          0.2102625000000004,
          0.0022499999999999413,
          0.4259898000000002,
          0.14010000000000006,
          0.7831809999999992,
          0.23800439999999987,
          0.131472,
          0.16890840000000004,
          0.06347999999999941,
          0.4011533000000006,
          0.7350522,
          0.4278596999999998,
          0.6572279999999999,
          0.09874095000000001,
          0.2302784999999998
         ],
         "xaxis": "x",
         "yaxis": "y"
        },
        {
         "name": "EAR",
         "type": "histogram",
         "x": [
          0.02349,
          0.7304,
          0,
          0,
          0.012374999999999999,
          0.5301100000000002,
          0.148665,
          0.22049999999999995,
          0.22449000000000005,
          0.1365,
          0.008175,
          0.18954,
          0.00825,
          0.4659999999999999,
          0,
          0.0819,
          0.8231,
          0.1221,
          0.35647999999999996,
          0.7283000000000002,
          0.4970199999999999,
          0.34,
          0.03153,
          0.02789999999999999,
          1.0784249999999997,
          0,
          0.12471,
          0,
          0,
          0.10725,
          0.04292999999999999,
          0.18032000000000004,
          0.00057,
          0,
          0.00198,
          0.46395,
          0,
          0.32592,
          0,
          0,
          0.21850000000000006,
          0,
          0.00045,
          0.14482499999999998,
          0.3905600000000001,
          0.00015,
          0,
          0.061875,
          0.0003,
          0.0267,
          0.18697500000000003,
          0.10796999999999997,
          0.18887000000000004,
          0.072825,
          0.0393,
          0.17658,
          0.1155,
          0,
          0.14484,
          0.14635499999999996,
          0.00615,
          0,
          0.35916,
          0.22179,
          0.02247,
          0.0123,
          0,
          0.0003,
          0,
          0.31806,
          0.61534,
          0.04119,
          0.00051,
          0.10268000000000002,
          0.07095,
          0,
          0.35602999999999996,
          0,
          0.5141700000000001,
          0,
          0.05592000000000001,
          0,
          0.006075,
          0.7369500000000001,
          0.00298,
          0.15389999999999998,
          0,
          0.20206000000000002,
          0,
          0.13221000000000002,
          0.02595,
          1.0598249999999998,
          0.022110000000000005,
          0.7455,
          0,
          0,
          0.006599999999999998,
          0.5670000000000002,
          0.13867500000000005,
          0.2304299999999999,
          0.30534000000000017,
          0.15492000000000006,
          0.0014250000000000007,
          0.17466999999999994,
          0.0015000000000000007,
          0.43330000000000013,
          0,
          0.09645,
          0.8036000000000002,
          0.13244999999999998,
          0.45127000000000017,
          0.7006999999999998,
          0.6317899999999999,
          0.3669,
          0.03318,
          0.02869499999999999,
          1.0802250000000002,
          0,
          0.13298999999999997,
          0,
          0,
          0.10671,
          0.11612999999999998,
          0.18333000000000002,
          0.0005700000000000002,
          0,
          0.0020099999999999996,
          0.4549500000000001,
          0,
          0.3307299999999999,
          0,
          0,
          0.1874999999999998,
          0,
          7.5e-05,
          0.16912499999999991,
          0.43284000000000034,
          0.00015,
          0,
          0.05835,
          0.0003,
          0.0267,
          0.181875,
          0.09907500000000002,
          0.24352000000000018,
          0.0546,
          0.03915,
          0.14403000000000005,
          0.10087500000000002,
          0,
          0.13097999999999993,
          0.18911999999999982,
          0.00015000000000000115,
          0,
          0.40989,
          0.46764,
          0.04319999999999998,
          0.006525,
          0,
          0.00015000000000000001,
          0,
          0.28991999999999984,
          0.63019,
          0.04362,
          0.00054,
          0.1170000000000001,
          0.057300000000000025,
          0,
          0.4398800000000004,
          0,
          0.5588300000000005,
          0,
          0.034020000000000016,
          0,
          0.0007499999999999986,
          0.18764999999999998,
          0.08021999999999997,
          0.17437500000000006,
          0,
          0.13582000000000005,
          0,
          0.15337999999999996,
          0.026175,
          1.061775,
          0.020370000000000013,
          0.6127999999999999,
          0,
          0,
          0.006375,
          0.4908799999999999,
          0.14189999999999992,
          0.17224999999999985,
          0.2781000000000002,
          0.15229920000000008,
          0.001350000000000001,
          0.20962999999999996,
          0.0014250000000000011,
          0.49710000000000004,
          0,
          0.0924375,
          0.7924000000000002,
          0.11145000000000002,
          0.50744,
          0.6430999999999998,
          0.5490599999999994,
          0.3112000000000001,
          0.04944,
          0.033045,
          1.0743457500000002,
          0,
          0.15584999999999996,
          0,
          0,
          0.10701,
          0.07738499999999997,
          0.1586200000000001,
          0.0005100000000000003,
          0,
          0.0026399999999999987,
          0.4863000000000003,
          0,
          0.37453,
          0,
          0,
          0.17552999999999985,
          0,
          0.006000000000000001,
          0.14894999999999992,
          0.3368900000000002,
          7.500000000000002e-05,
          0,
          0.06142499999999998,
          0.0003,
          0.0326295,
          0.19769999999999993,
          0.08136000000000003,
          0.20055000000000012,
          0.0327,
          0.01897499999999999,
          0.14920499999999998,
          0.097125,
          0,
          0.12923999999999988,
          0.11249999999999977,
          0.00022500000000000116,
          0,
          0.3311999999999997,
          0.2976000000000001,
          0.027539999999999995,
          0.0063,
          0,
          0.0003,
          0,
          0.29631,
          0.42260999999999993,
          0.03744,
          0.00033,
          0.08940000000000001,
          0.0501,
          0,
          0.6276300000000002,
          0,
          0.4772600000000001,
          0,
          0.05655000000000004,
          0,
          7.499999999999862e-05,
          0.19125,
          -3.1832314562052486e-17,
          0.1566000000000001,
          0,
          0.027510000000000073,
          0,
          0.2608700000000001,
          0.025575000000000004,
          1.0573957499999997,
          0.022379400000000025,
          0.8545,
          0,
          0,
          0.007425,
          0.3030298000000005,
          0.1444349999999999,
          0.19998999999999983,
          0.3308800000000002,
          0.16518000000000005,
          0.0016500000000000006,
          0.22878809999999988,
          0.0017250000000000015,
          0.7500950000000002,
          0,
          0.069834,
          0.8616000000000003,
          0.1077,
          0.46643,
          0.35669799999999985,
          0.3106596000000001,
          0.633595,
          0.035730000000000005,
          0.028439999999999997,
          1.0110314999999999,
          0,
          0.16799999999999995,
          0,
          0,
          0.10791000000000002,
          0.05876999999999996,
          0.4433400000000001,
          0.00102,
          0,
          0.002459999999999999,
          0.4593000000000002,
          0,
          0.3435500000000003,
          0,
          0,
          0.1615099999999998,
          0,
          7.500000000000071e-05,
          0.16619999999999996,
          0.3486391000000003,
          7.500000000000001e-05,
          0,
          0.058874999999999955,
          0.00030000000000000003,
          0.025695000000000006,
          0.17219999999999988,
          0.085095,
          0.2313398000000001,
          0.07755,
          0.04671824999999999,
          0.17264999999999997,
          0.09832500000000001,
          0,
          0.12470999999999985,
          0.13379969999999983,
          0.0001500000000000012,
          0,
          0.24221999999999974,
          0.42855000000000015,
          0.026394299999999996,
          0.00735,
          0,
          0.00015,
          0,
          0.2955899999999999,
          0.4707898000000001,
          0.05031000000000001,
          0.00033,
          0.08124000000000005,
          0.07739999999999998,
          0,
          0.4924800000000005,
          0,
          0.2034089000000003,
          0,
          0.03382000000000003,
          0,
          7.499999999999864e-05,
          0.169047,
          0.19417999999999994,
          0.1729500000000001,
          0,
          0.11115910000000008,
          0,
          0.39956,
          0.028050000000000005,
          0.9938564999999994,
          0.021810000000000013,
          0.9006000000000003,
          0,
          0,
          0.0075,
          0.5278300000000002,
          0.14453999999999992,
          0.18999999999999972,
          0.4223900000000001,
          0.1509135,
          0.0018000000000000004,
          0.1675853999999999,
          0.001875000000000001,
          0.4710090000000005,
          0,
          0.1221915,
          0.8929539999999999,
          0.129,
          0.37084999999999946,
          0.6526999999999998,
          0.48395,
          0.4174000000000004,
          0.04401000000000001,
          0.028740000000000005,
          0.91249575,
          0,
          0.12953999999999996,
          0,
          0,
          0.10647,
          0.13970999999999997,
          0.4199399999999999,
          0.0010500000000000002,
          0,
          0.0028199999999999987,
          0.44235,
          0,
          0.37478000000000056,
          0,
          0,
          0.18811999999999984,
          0,
          0.00015000000000000072,
          0.19822499999999987,
          0.3884300000000005,
          7.500000000000001e-05,
          0,
          0.05579999999999992,
          0.00030000000000000003,
          0.0314235,
          0.20407499999999987,
          0.11316000000000002,
          0.24502999999999991,
          0.07096725,
          0.05039999999999996,
          0.17869499999999996,
          0.119925,
          0,
          0.10997999999999987,
          0.13900499999999988,
          7.50000000000012e-05,
          0,
          0.36413999999999985,
          0.5808900000000001,
          0.03531,
          0.007425,
          0,
          0.0003,
          0,
          0.2976299999999999,
          0.61903,
          0.05488,
          0.00048,
          0.12016000000000004,
          0.06952499999999999,
          0,
          0.37686000000000014,
          0,
          0.4085800000000004,
          0,
          0.06074000000000004,
          0,
          7.499999999999864e-05,
          0.16664999999999996,
          0.07800999999999995,
          0.20655000000000004,
          0,
          0.26453000000000015,
          0,
          0.2063000000000001,
          0.024708750000000005,
          0.8974207499999993,
          0.022830000000000024,
          0.7383000000000005,
          0,
          0,
          0.007499999999999999,
          0.5177900000000003,
          0.14006999999999992,
          0.18449999999999983,
          0.3270400000000002,
          0.15425999999999995,
          0.0016500000000000006,
          0.1805599999999999,
          0.0017250000000000015,
          0.42480000000000057,
          0,
          0.11529149999999995,
          0.7818000000000003,
          0.12255,
          0.3845499999999998,
          0.5351999999999998,
          0.4827900000000002,
          0.32550000000000034,
          0.04398,
          0.03123,
          0.8574457500000002,
          0,
          0.15332999999999997,
          0,
          0,
          0.10583999999999998,
          0.070695,
          0.25501,
          0.0005700000000000003,
          0,
          0.0029699999999999996,
          0.38295000000000007,
          0,
          0.32538000000000056,
          0,
          0,
          0.1599999999999999,
          0,
          7.500000000000071e-05,
          0.1794749999999999,
          0.40168000000000026,
          0.00015,
          0,
          0.05407499999999993,
          0.00030000000000000003,
          0.0314235,
          0.18787499999999996,
          0.09792,
          0.2160899999999999,
          0.03449999999999999,
          0.02392499999999996,
          0.16756499999999988,
          0.09644999999999995,
          0,
          0.14315999999999984,
          0.09638999999999984,
          0.0001500000000000012,
          0,
          0.32270999999999994,
          0.5313600000000002,
          0.028710000000000003,
          0.007425,
          0,
          0.00015000000000000001,
          0,
          0.28793999999999986,
          0.53628,
          0.03760000000000001,
          0.00033,
          0.10142,
          0.04919999999999998,
          0,
          0.3968200000000005,
          0,
          0.41034000000000015,
          0,
          0.061820000000000035,
          0,
          7.499999999999864e-05,
          0.1938,
          -5.4569682106375696e-17,
          0.18787500000000007,
          0,
          0.22803999999999996,
          0,
          0.16894000000000023,
          0.02947500000000001,
          0.8411707499999996,
          0.020190000000000024,
          0.7861000000000005,
          0,
          0,
          0.0075,
          0.5687700000000007,
          0.13478999999999988,
          0.20763999999999988,
          0.27716,
          0.1254705,
          0.0016500000000000006,
          0.1908834999999999,
          0.0017250000000000015,
          0.4164000000000005,
          0,
          0.2177144999999999,
          0.7221,
          0.34664999999999996,
          0.32286999999999977,
          0.5189999999999999,
          0.5532535000000003,
          0.3438260000000003,
          0.05454,
          0.028005,
          0.8904322500000004,
          0,
          0.16931999999999997,
          0,
          0,
          0.10563,
          0.06574499999999998,
          0.23476,
          0.0004200000000000003,
          0,
          0.002939999999999999,
          0.3870000000000002,
          0,
          0.33646000000000076,
          0,
          0,
          0.17833999999999986,
          0,
          7.500000000000073e-05,
          0.20175,
          0.4568100000000001,
          0.00015,
          0,
          0.05212499999999993,
          0.00030000000000000003,
          0.0314235,
          0.2268,
          0.092895,
          0.22894349999999997,
          0.03449999999999999,
          0.016349999999999972,
          0.15857999999999986,
          0.13545,
          0,
          0.13274999999999987,
          0.10504499999999983,
          7.500000000000121e-05,
          0,
          0.33084000000000024,
          0.5293800000000003,
          0.045510000000000016,
          0.007425,
          0,
          0.00015,
          0,
          0.30481049999999993,
          0.5856700000000005,
          0.04355000000000003,
          0.0003,
          0.10364000000000001,
          0.05144999999999999,
          0,
          0.3703200000000007,
          0,
          0.4585400000000003,
          0,
          0.07342000000000001,
          0,
          7.499999999999864e-05,
          0.17520000000000005,
          0.012339999999999945,
          0.20962500000000014,
          0,
          0.41581999999999986,
          0,
          0.12967000000000029,
          0.034500000000000024,
          0.8691322499999996,
          0.019350000000000016,
          0.6958000000000006,
          0,
          0,
          0.0075,
          0.6156200000000004,
          0.1367699999999999,
          0.1693399999999999,
          0.28546000000000016,
          0.12519480000000002,
          0.0016500000000000006,
          0.18315809999999982,
          0.0017250000000000015,
          0.3871650000000006,
          0,
          0.1583549999999999,
          0.787465,
          0.1638,
          0.33802979999999994,
          0.49839999999999995,
          0.5564216,
          0.3250980000000004,
          0.04677,
          0.025409999999999995,
          0.8463525000000005,
          0,
          0.17309999999999998,
          0,
          0,
          0.10563,
          0.06620999999999999,
          0.20609000000000005,
          0.0004500000000000004,
          0,
          0.0028799999999999993,
          0.3373500000000002,
          0,
          0.3238600000000005,
          0,
          0,
          0.1399399999999998,
          0,
          7.500000000000071e-05,
          0.212925,
          0.4820100000000001,
          0.00015,
          0,
          0.052274999999999947,
          0.0003,
          0.0314235,
          0.18825000000000008,
          0.08652,
          0.21562159999999983,
          0.05077499999999999,
          0.03502499999999996,
          0.14423999999999998,
          0.10447499999999997,
          0,
          0.10208939999999986,
          0.22478999999999993,
          7.50000000000012e-05,
          0,
          0.34007999999999994,
          0.5430300000000001,
          0.08592000000000002,
          0.007425,
          0,
          0.00015,
          0,
          0.27969479999999997,
          0.6174900000000005,
          0.041290000000000014,
          0.0003,
          0.08255,
          0.05009999999999999,
          0,
          0.3729598000000003,
          0,
          0.47128,
          0,
          0.06872000000000003,
          0,
          -1.3600232051658168e-18,
          0.15435000000000001,
          6.999999999994543e-05,
          0.22072500000000017,
          0,
          0.3590699999999999,
          0,
          0.16777000000000022,
          0.030675000000000018,
          0.8291774999999998,
          0.019290000000000026,
          0.7021000000000005,
          0,
          0,
          0.00950025,
          0.5240100000000009,
          0.13807454999999988,
          0.1793,
          0.39744670000000015,
          0.10884000000000003,
          0.0017250000000000015,
          0.14374689999999982,
          0.0018000000000000015,
          0.34110000000000057,
          0,
          0.11845499999999991,
          0.6733000000000002,
          0.10785,
          0.3470467000000001,
          0.3790999999999999,
          0.41193690000000033,
          0.3250980000000004,
          0.03606,
          0.02789999999999999,
          0.7593315000000005,
          0,
          0.14459999999999998,
          0,
          0,
          0.10431000000000001,
          0.0453,
          0.26596,
          0.00045000000000000037,
          0,
          0.002729999999999999,
          0.3322005000000003,
          0,
          0.24919000000000072,
          0,
          0,
          0.15325999999999976,
          0,
          7.500000000000071e-05,
          0.196725,
          0.3155900000000003,
          7.5e-05,
          0,
          0.05819999999999995,
          0.0003,
          0.024288000000000004,
          0.18675000000000003,
          0.07413,
          0.1686168999999998,
          0.05479499999999998,
          0.030074999999999966,
          0.1516900499999999,
          0.10730399999999997,
          0,
          0.10463999999999987,
          0.08488499999999999,
          0.0002250000000000012,
          0,
          0.37122000000000005,
          0.4193700000000001,
          0.020760000000000008,
          0.006975,
          0,
          0.00015,
          0,
          0.2851406999999999,
          0.598140000000001,
          0.035800000000000026,
          0.00033,
          0.09590999999999998,
          0.05594999999999998,
          0,
          0.33256670000000077,
          0,
          0.30633000000000016,
          0,
          0.06002000000000004,
          0,
          7.499999999999865e-05,
          0.15975,
          0.07505999999999995,
          0.2041500000000002,
          0,
          0.25172,
          0,
          0.1314200000000002,
          0.029850000000000022,
          0.7406565,
          0.020160000000000025,
          0.7772000000000004,
          0,
          0,
          0.00705,
          0.5365300000000002,
          0.13337999999999978,
          0.20059000000000005,
          0.3304099999999999,
          0.13440000000000002,
          0.001650000000000001,
          0.11788999999999986,
          0.002175000000000001,
          0.5155000000000007,
          0,
          0.15779849999999987,
          0.7388000000000003,
          0.54525,
          0.4417800000000002,
          0.49349999999999977,
          0.53009,
          0.45390000000000047,
          0.03837,
          0.02980499999999999,
          0.6638992500000004,
          0,
          0.17457629999999996,
          0,
          0,
          0.1041,
          0.081465,
          0.2541199999999998,
          0.0005700000000000005,
          0,
          0.002729999999999999,
          0.29355000000000026,
          0,
          0.23556000000000088,
          0,
          0,
          0.20317999999999972,
          0,
          7.500000000000071e-05,
          0.1463249999999999,
          0.4868421000000002,
          7.5e-05,
          0,
          0.055874999999999966,
          0.00030000000000000003,
          0.024288000000000004,
          0.19417500000000001,
          0.06993,
          0.17870999999999984,
          0.07259999999999998,
          0.08641574999999997,
          0.15310500000000002,
          0.14002499999999998,
          0,
          0.10118999999999985,
          0.11421,
          7.500000000000123e-05,
          0,
          0.3192899999999999,
          0.40575,
          0.020040000000000006,
          0.006975,
          0,
          0.00015,
          0,
          0.30243,
          0.650200000000001,
          0.04556000000000002,
          0.0002999999999999999,
          0.15379000000000004,
          0.07267499999999995,
          0,
          0.49417000000000066,
          0,
          0.4414720999999999,
          0,
          0.03656,
          0,
          7.499999999999865e-05,
          0.16425000000000003,
          0.04494999999999994,
          0.15165000000000015,
          0,
          0.24013210000000001,
          0,
          0.2627400000000001,
          0.030975000000000006,
          0.6460492499999998,
          0.02211000000000003,
          0.8357800000000003,
          0,
          0,
          0.00705,
          0.4277914000000001,
          0.1340699999999998,
          0.34339999999999987,
          0.2978680000000001,
          0.13575330000000005,
          0.0022500000000000007,
          0.13374279999999986,
          0.0024000000000000015,
          0.6143280000000009,
          0,
          0.16955699999999987,
          0.7694280000000003,
          1.04055,
          0.5779700000000004,
          0.45149999999999973,
          0.6269100000000006,
          0.5307710000000004,
          0.0501,
          0.02965499999999999,
          0.6155242500000004,
          0,
          0.16118999999999992,
          0,
          0,
          0.10389000000000005,
          0.06372,
          0.14292999999999986,
          0.0006000000000000004,
          0,
          0.0027599999999999994,
          0.31665000000000015,
          0,
          0.2997480000000007,
          0,
          0,
          0.22035109999999966,
          0,
          7.500000000000073e-05,
          0.18674999999999994,
          0.6248200000000008,
          7.500000000000001e-05,
          0,
          0.057449999999999946,
          0.00015000000000000004,
          0.015745500000000003,
          0.2100750000000001,
          0.11284500000000001,
          0.16314999999999957,
          0.013724999999999984,
          0.04109999999999996,
          0.18751500000000004,
          0.09269999999999995,
          0,
          0.10781999999999986,
          0.20665499999999992,
          0.0003000000000000012,
          0,
          0.3363641999999999,
          0.59655,
          0.029999999999999995,
          0.00705,
          0,
          0.00015,
          0,
          0.30558000000000013,
          0.37757140000000095,
          0.04890000000000003,
          0.0010500000000000002,
          0.15347110000000003,
          0.050924999999999956,
          0,
          0.7471980000000008,
          0,
          0.5953000000000006,
          0,
          0.007388000000000005,
          0,
          7.499999999999862e-05,
          0.15345,
          0.0001299999999999333,
          0.20272500000000016,
          0,
          0.32982999999999996,
          0,
          0.6253611,
          0.023700000000000002,
          0.59962425,
          0.02127000000000003,
          0.6716000000000002,
          0,
          0,
          0.007125,
          0.5641400000000003,
          0.13798499999999977,
          0.3235999999999997,
          0.33510000000000006,
          0.12588,
          0.0021750000000000003,
          0.10969129999999983,
          0.0022500000000000016,
          0.4234130000000008,
          0,
          0.18599849999999993,
          0.7047130000000005,
          0.6682499999999995,
          0.26990000000000036,
          0.5448999999999997,
          0.4572500000000002,
          0.33721000000000045,
          0.05208810000000002,
          0.07438499999999999,
          0.4765492500000002,
          0,
          0.21533999999999992,
          0,
          0,
          0.10407000000000005,
          0.034279050000000005,
          0.30477999999999994,
          9.00000000000005e-05,
          0,
          0.0027599999999999994,
          0.2841000000000001,
          0,
          0.2570200000000006,
          0,
          0,
          0.1930499999999997,
          0,
          7.500000000000073e-05,
          0.2616749999999999,
          0.44398000000000026,
          0.00015,
          0,
          0.04837499999999996,
          0.0003,
          0.015745500000000003,
          0.18420000000000003,
          0.13886999999999997,
          0.14659999999999956,
          0.05429999999999998,
          0.030449999999999987,
          0.13284,
          0.10027499999999995,
          0,
          0.12350999999999991,
          0.3859949999999997,
          7.500000000000123e-05,
          0,
          0.3748500000000001,
          0.5273399999999998,
          0.03507,
          0.00705,
          0,
          0.0003,
          0,
          0.2996700000000002,
          0.600350000000001,
          0.045800000000000035,
          0.00042,
          0.1434000000000001,
          0.054749999999999965,
          0,
          0.44647000000000087,
          0,
          0.4364000000000005,
          0,
          0.0558,
          0,
          7.499999999999862e-05,
          0.14025,
          0.08515999999999992,
          0.26932500000000004,
          0,
          0.4789599999999999,
          0,
          0.5014699999999999,
          0.022574999999999998,
          0.45337424999999965
         ],
         "xaxis": "x2",
         "yaxis": "y2"
        },
        {
         "name": "Dijkstra",
         "type": "histogram",
         "x": [
          0.1803,
          0.0123,
          0,
          0.5301100000000002,
          0,
          0.00198,
          0.7304,
          0.012374999999999999,
          0.03765,
          0.07095,
          0.019725,
          0.0078,
          0.1503,
          0.00015,
          0.141225,
          0.04425,
          0.0003,
          0.00615,
          0,
          0,
          0.17899000000000004,
          0.147945,
          0.5593,
          0.22216000000000005,
          0.0072,
          0.00135,
          0.072825,
          0.31017,
          0.10796999999999997,
          1.0377,
          0.12645,
          0.6176500000000001,
          0.35417,
          0,
          0.06542000000000002,
          0,
          0,
          0.34,
          0.14484,
          0.008175,
          0.05592000000000001,
          0.20176,
          0.027764999999999995,
          0.12075,
          0.0003,
          0.061875,
          0.019575,
          0.34140000000000004,
          0.02595,
          0,
          0.17841,
          0,
          0.29608,
          0.46395,
          0.00825,
          0,
          0,
          0.22179,
          0.04292999999999999,
          0.5164500000000001,
          0.14635499999999996,
          0.32592,
          0.01005,
          0.18697500000000003,
          0.2022,
          0.02349,
          0.00057,
          0.18075,
          0.07329,
          0.7369500000000001,
          0.15827000000000002,
          0.00298,
          0.13938,
          0.03894,
          0,
          0.09577500000000001,
          0.22049999999999995,
          0.7283000000000002,
          0,
          0.2638,
          0,
          0.03153,
          0.00051,
          0.07095,
          0.3936299999999999,
          0.10725,
          0.18887000000000004,
          0.006075,
          0.13221000000000002,
          0.10329,
          0.00045,
          1.0563,
          0.20825,
          0.006525,
          0,
          0.5669800000000002,
          0,
          0.0020099999999999996,
          0.7455,
          0.006599999999999998,
          0.0522,
          0.057300000000000025,
          0,
          0.04319999999999999,
          0.17077500000000004,
          0.00015,
          0.165525,
          0.04425,
          0.0003,
          0.00015000000000000115,
          0,
          0,
          0.16218000000000007,
          0.13795500000000005,
          0.5725,
          0.32960000000000017,
          0.0072,
          0.00135,
          0.0546,
          0.2749499999999999,
          0.09907500000000002,
          1.0396500000000002,
          0.13464,
          0.6308300000000001,
          0.4312500000000003,
          0,
          0.0725100000000001,
          0,
          0,
          0.3669,
          0.1315499999999999,
          0.0014250000000000007,
          0.053380000000000045,
          0.10272000000000012,
          0.02855999999999999,
          0.13109999999999997,
          0.00015000000000000001,
          0.05835,
          0.039150000000000004,
          0.3732400000000002,
          0.026175,
          0,
          0.25683,
          0,
          0.42196000000000045,
          0.4549500000000001,
          0.0015000000000000007,
          0,
          0,
          0.46764,
          0.11612999999999998,
          0.5340900000000002,
          0.18911999999999982,
          0.3307299999999999,
          0.020279999999999992,
          0.181875,
          0.20219999999999996,
          0.022110000000000005,
          0,
          0.15305999999999997,
          0.05300999999999999,
          0.18764999999999998,
          0.1513600000000001,
          0.07139999999999998,
          0.13299,
          0.04343,
          0,
          0.10087500000000005,
          0.21106999999999992,
          0.7006999999999998,
          0,
          0.23109999999999997,
          0.01497,
          0.03318,
          0.00054,
          0.07095,
          0.54896,
          0.10671,
          0.2239600000000002,
          0.0007499999999999986,
          0.15339999999999995,
          0.09102000000000003,
          7.5e-05,
          1.0581000000000003,
          0.16115000000000002,
          0.0063,
          0,
          0.4908799999999998,
          0,
          0.0026399999999999987,
          0.6127999999999999,
          0.006375,
          0.059946000000000006,
          0.0501,
          0,
          0.027540000000000005,
          0.15300000000000008,
          7.500000000000002e-05,
          0.14535,
          0.0324915,
          0.0003,
          0.00022500000000000116,
          0,
          0,
          0.14733000000000002,
          0.14117999999999992,
          0.5306,
          0.25134000000000023,
          0.0072,
          0.00135,
          0.0327,
          0.28265999999999997,
          0.08136000000000003,
          1.04115,
          0.12927000000000008,
          0.4519000000000001,
          0.4781399999999999,
          0,
          0.06120000000000012,
          0,
          0,
          0.2987000000000001,
          0.12920999999999985,
          0.001350000000000001,
          0.05781000000000007,
          0.05427000000000017,
          0.032909999999999995,
          0.11010000000000002,
          0.0003,
          0.06142499999999998,
          0.018975,
          0.33118000000000003,
          0.025575000000000004,
          0,
          0.14658000000000002,
          0,
          0.5393300000000005,
          0.4863000000000003,
          0.0014250000000000011,
          0,
          0,
          0.2976000000000001,
          0.07738499999999997,
          0.4896199999999997,
          0.11249999999999977,
          0.37453,
          0.023029199999999986,
          0.19769999999999993,
          0.22279999999999994,
          0.020370000000000013,
          0.0005399999999999999,
          0.18462,
          0.04870499999999999,
          0.19125,
          0.16856000000000007,
          -2.7284841053187848e-17,
          0.15585000000000004,
          0.037439999999999994,
          0,
          0.09712500000000004,
          0.17224999999999988,
          0.6555999999999997,
          0,
          0.26180000000000003,
          0.01365,
          0.04944,
          0.00033,
          0.065121,
          0.4548399999999997,
          0.10701,
          0.18565000000000015,
          7.499999999999862e-05,
          0.26087000000000005,
          0.1005,
          0.006000000000000001,
          1.0581000000000003,
          0.40510910000000006,
          0.00735,
          0,
          0.3030198000000003,
          0,
          0.002459999999999999,
          0.8545,
          0.007425,
          0.037342499999999994,
          0.07739999999999998,
          0,
          0.026394300000000002,
          0.16935000000000006,
          7.500000000000001e-05,
          0.16260000000000005,
          0.0324915,
          0.00030000000000000003,
          0.0001500000000000012,
          0,
          0,
          0.16149999999999998,
          0.1437149999999999,
          0.5687,
          0.28083910000000034,
          0.0072,
          0.00135,
          0.07755,
          0.29312999999999995,
          0.085095,
          0.9776107499999996,
          0.14883000000000005,
          0.4825898000000003,
          0.45462,
          0,
          0.08157000000000014,
          0,
          0,
          0.3918,
          0.1257299999999998,
          0.0016500000000000006,
          0.05799950000000006,
          0.07578000000000018,
          0.028304999999999997,
          0.10635,
          0.00015,
          0.058874999999999955,
          0.04671825,
          0.3562500000000001,
          0.028050000000000005,
          0,
          0.08024999999999999,
          0,
          0.4738691000000007,
          0.4593000000000002,
          0.0017250000000000015,
          0,
          0,
          0.42855000000000015,
          0.05876999999999996,
          0.2912298000000001,
          0.13379969999999983,
          0.3435500000000003,
          0.016349999999999983,
          0.17219999999999988,
          0.2154,
          0.022379400000000025,
          -1.7763568394002506e-20,
          0.16197000000000003,
          0.06364499999999998,
          0.169047,
          0.14989810000000023,
          0.10876999999999995,
          0.16800000000000004,
          0.04997000000000001,
          0,
          0.09832500000000005,
          0.19998999999999992,
          0.5984929999999997,
          0,
          0.2929,
          0.002459999999999998,
          0.035730000000000005,
          0.00033,
          0.0581865,
          0.2983596,
          0.10791000000000002,
          0.18173980000000026,
          7.499999999999864e-05,
          0.3995699999999999,
          0.10900500000000003,
          7.500000000000071e-05,
          0.9947857499999998,
          0.4761200000000001,
          0.007425,
          0,
          0.5278300000000002,
          0,
          0.0028199999999999987,
          0.9006000000000003,
          0.0075,
          0.0897,
          0.06952499999999999,
          0.025275,
          0.03531000000000001,
          0.20295000000000002,
          7.500000000000001e-05,
          0.19462499999999996,
          0.0324915,
          0.00030000000000000003,
          7.50000000000012e-05,
          0,
          0,
          0.14355,
          0.14381999999999992,
          0.6116450000000001,
          0.4785700000000004,
          0.0072,
          0.00135,
          0.07096725,
          0.26895,
          0.11316000000000002,
          0.8811749999999996,
          0.13371000000000013,
          0.6190300000000003,
          0.3706599999999995,
          0,
          0.07594000000000019,
          0,
          0,
          0.4174,
          0.11045999999999977,
          0.0018000000000000004,
          0.06093000000000006,
          0.1373400000000002,
          0.028605000000000005,
          0.12765,
          0.0003,
          0.05579999999999992,
          0.025124999999999995,
          0.28837000000000007,
          0.024708750000000005,
          0,
          0.26292,
          0,
          0.4703100000000002,
          0.44235,
          0.001875000000000001,
          0,
          0,
          0.58032,
          0.13970999999999997,
          0.3490300000000003,
          0.13900499999999988,
          0.37478000000000056,
          0.01720349999999998,
          0.20407499999999987,
          0.18970000000000004,
          0.021810000000000013,
          0.00057,
          0.10122000000000002,
          0.060764999999999965,
          0.16664999999999996,
          0.13945450000000018,
          0.010369999999999982,
          0.12954000000000004,
          0.05453000000000001,
          0,
          0.0946500000000001,
          0.18999999999999984,
          0.6526999999999998,
          0,
          0.28130900000000003,
          0.01857,
          0.04458000000000001,
          0.00048,
          0.063915,
          0.4619399999999999,
          0.10647,
          0.2450300000000002,
          7.499999999999864e-05,
          0.20630000000000004,
          0.11793000000000009,
          0.00015000000000000072,
          0.8962500000000003,
          0.2574300000000004,
          0.007425,
          0,
          0.5177900000000001,
          0,
          0.0029699999999999996,
          0.7383000000000005,
          0.007499999999999999,
          0.0828,
          0.04919999999999998,
          0,
          0.028710000000000013,
          0.1842750000000001,
          0.00015,
          0.175875,
          0.0324915,
          0.00030000000000000003,
          0.0001500000000000012,
          0,
          0,
          0.14523999999999995,
          0.13934999999999992,
          0.5367999999999999,
          0.2900800000000005,
          0.0072,
          0.00135,
          0.03449999999999999,
          0.26936999999999994,
          0.09792,
          0.824925,
          0.13755000000000012,
          0.5756600000000002,
          0.34516999999999975,
          0,
          0.08666000000000011,
          0,
          0,
          0.3255,
          0.14315999999999973,
          0.0016500000000000006,
          0.06182000000000007,
          0.2650000000000003,
          0.031095,
          0.1212,
          0.00015000000000000001,
          0.05407499999999993,
          0.023925,
          0.3992599999999996,
          0.02947500000000001,
          0,
          0.23190000000000002,
          0,
          0.3295900000000002,
          0.38295000000000007,
          0.0017250000000000015,
          0,
          0,
          0.5313599999999999,
          0.070695,
          0.4390099999999999,
          0.09638999999999984,
          0.32538000000000056,
          0.01670999999999997,
          0.18787499999999996,
          0.17980000000000007,
          0.022830000000000024,
          0.0005699999999999999,
          0.09081,
          0.059069999999999956,
          0.1938,
          0.12497000000000012,
          -1.8189894035458566e-17,
          0.15333000000000005,
          0.03760000000000001,
          0,
          0.09645000000000006,
          0.18449999999999991,
          0.5351999999999998,
          0,
          0.245,
          0.01857,
          0.04398,
          0.00033,
          0.063915,
          0.39300000000000007,
          0.10583999999999998,
          0.18500000000000008,
          7.499999999999864e-05,
          0.1689400000000002,
          0.10849500000000009,
          7.500000000000071e-05,
          0.8412000000000005,
          0.4455200000000001,
          0.007425,
          0,
          0.5687700000000004,
          0,
          0.002939999999999999,
          0.7861000000000005,
          0.0075,
          0.17055,
          0.05144999999999999,
          0.01635,
          0.04551000000000003,
          0.20602500000000018,
          0.00015,
          0.1981500000000001,
          0.0471645,
          0.00030000000000000003,
          7.500000000000121e-05,
          0,
          0,
          0.17834,
          0.13406999999999988,
          0.509,
          0.4879200000000003,
          0.0072,
          0.00135,
          0.03449999999999999,
          0.2982705,
          0.092895,
          0.8455499999999998,
          0.10852050000000009,
          0.5856700000000006,
          0.32285999999999976,
          0,
          0.10364000000000016,
          0,
          0,
          0.33072599999999996,
          0.13271999999999975,
          0.0016500000000000006,
          0.07474000000000006,
          0.19054000000000018,
          0.02787,
          0.34529999999999994,
          0.00015,
          0.05212499999999993,
          0,
          0.2028799999999996,
          0.034500000000000024,
          0,
          0.18308999999999997,
          0,
          0.5463500000000001,
          0.3870000000000002,
          0.0017250000000000015,
          0,
          0,
          0.52938,
          0.06574499999999998,
          0.2817735000000002,
          0.10504499999999983,
          0.33646000000000076,
          0.01694999999999998,
          0.2268,
          0.19020000000000006,
          0.020190000000000024,
          0.0004499999999999999,
          0.14774999999999983,
          0.06148499999999993,
          0.17520000000000005,
          0.13340000000000016,
          -1.8189894035458566e-17,
          0.16932000000000003,
          0.04355000000000003,
          0,
          0.11910000000000007,
          0.20763999999999996,
          0.5321,
          0,
          0.2131,
          -5.684341886080802e-19,
          0.05454,
          0.0003,
          0.078588,
          0.46617,
          0.10563,
          0.19276000000000026,
          7.499999999999864e-05,
          0.1296700000000002,
          0.09709500000000007,
          7.500000000000073e-05,
          0.8668500000000009,
          0.2877799999999999,
          0.007425,
          0,
          0.6156200000000002,
          0,
          0.0028799999999999993,
          0.6958000000000006,
          0.0075,
          0.12314999999999998,
          0.05009999999999999,
          0,
          0.08592000000000002,
          0.18742500000000023,
          0.00015,
          0.17962500000000015,
          0.03520499999999999,
          0.0003,
          7.50000000000012e-05,
          0,
          0,
          0.12867000000000003,
          0.1360499999999999,
          0.5814000000000001,
          0.36615,
          0.0666,
          0.06075,
          0.05077499999999999,
          0.27969480000000013,
          0.08652,
          0.8115750000000004,
          0.12201480000000009,
          0.6184900000000008,
          0.33702979999999993,
          0,
          0.07536000000000015,
          0,
          0,
          0.32509799999999994,
          0.10208939999999973,
          0.0016500000000000006,
          0.06872000000000009,
          0.27838000000000007,
          0.025274999999999995,
          0.10305,
          0.00015,
          0.052274999999999947,
          0.035024999999999994,
          0.36219999999999963,
          0.030675000000000018,
          0,
          0.23153999999999997,
          0,
          0.41746979999999945,
          0.3373500000000002,
          0.0017250000000000015,
          0,
          0,
          0.5430299999999999,
          0.06620999999999999,
          0.4189916,
          0.22478999999999993,
          0.3238600000000005,
          0.0031799999999999762,
          0.18825000000000008,
          0.18110000000000012,
          0.019350000000000016,
          0.0004499999999999999,
          0.1085399999999998,
          0.058679999999999934,
          0.15435000000000001,
          0.13315000000000018,
          6.99999999999818e-05,
          0.17310000000000003,
          0.041290000000000014,
          0,
          0.1044750000000001,
          0.17342,
          0.49840000000000007,
          0,
          0.206065,
          -5.684341886080802e-19,
          0.04677,
          0.0003,
          0.0666285,
          0.46319,
          0.10563,
          0.18622000000000016,
          -1.3600232051658168e-18,
          0.1677700000000001,
          0.08556000000000007,
          7.500000000000071e-05,
          0.8287500000000011,
          0.19465,
          0.006975,
          0,
          0.5240100000000006,
          0,
          0.002729999999999999,
          0.7021000000000005,
          0.00950025,
          0.08325,
          0.05594999999999998,
          0,
          0.020760000000000008,
          0.20055000000000014,
          7.5e-05,
          0.1931250000000001,
          0.03520499999999999,
          0.0003,
          0.0002250000000000012,
          0,
          0,
          0.14501,
          0.13735454999999988,
          0.5053000000000002,
          0.3044099999999999,
          0.0071999999999999955,
          0.0013499999999999957,
          0.05479499999999998,
          0.27152070000000006,
          0.07413,
          0.7230540000000006,
          0.09270000000000009,
          0.6198667000000013,
          0.32532000000000005,
          0,
          0.08766000000000013,
          0,
          0,
          0.32509799999999994,
          0.10463999999999976,
          0.0017250000000000015,
          0.06002000000000009,
          0.2714567000000001,
          0.02776499999999999,
          0.1065,
          0.00015,
          0.05819999999999995,
          0.030074999999999987,
          0.36508999999999964,
          0.029850000000000022,
          0,
          0.28287,
          0,
          0.28337999999999974,
          0.3322005000000003,
          0.0018000000000000015,
          0,
          0,
          0.4193699999999998,
          0.0453,
          0.4002900000000001,
          0.08488499999999999,
          0.24919000000000072,
          0.016139999999999977,
          0.18675000000000003,
          0.17310000000000006,
          0.019290000000000026,
          0.00044999999999999977,
          0.08834999999999972,
          0.06530504999999995,
          0.15975,
          0.1042969000000001,
          0.0017599999999999823,
          0.14460000000000006,
          0.035800000000000026,
          0,
          0.1073040000000001,
          0.1793000000000001,
          0.3791000000000001,
          0,
          0.16799999999999998,
          0.01362,
          0.03606,
          0.00033,
          0.059493,
          0.39473000000000014,
          0.10431000000000001,
          0.14596690000000023,
          7.499999999999865e-05,
          0.1314200000000001,
          0.08638500000000003,
          7.500000000000071e-05,
          0.7417290000000012,
          0.3806220999999999,
          0.006975,
          0,
          0.53653,
          0,
          0.002729999999999999,
          0.7772000000000004,
          0.00705,
          0.11385,
          0.07267499999999995,
          0.046725,
          0.020040000000000006,
          0.1480500000000001,
          7.5e-05,
          0.142725,
          0.04394849999999999,
          0.00030000000000000003,
          7.500000000000123e-05,
          0,
          0,
          0.16336000000000006,
          0.13265999999999978,
          0.4938000000000003,
          0.4569121000000001,
          0.0071999999999999955,
          0.0013499999999999957,
          0.07259999999999998,
          0.27168000000000014,
          0.06993,
          0.6240750000000005,
          0.11946000000000011,
          0.6502000000000013,
          0.4417800000000003,
          0,
          0.11397000000000017,
          0,
          0,
          0.3486,
          0.10118999999999974,
          0.001650000000000001,
          0.04709000000000003,
          0.06245000000000022,
          0.02966999999999999,
          0.5439,
          0.00015,
          0.055874999999999966,
          0.03969074999999999,
          0.31086999999999965,
          0.030975000000000006,
          0,
          0.20424,
          0,
          0.6335020999999997,
          0.29355000000000026,
          0.002175000000000001,
          0,
          0,
          0.4057499999999997,
          0.081465,
          0.30874000000000007,
          0.11421,
          0.23556000000000088,
          0.014939999999999972,
          0.19417500000000001,
          0.1652,
          0.020160000000000025,
          0.00057,
          0.11504999999999971,
          0.06485999999999995,
          0.16425000000000003,
          0.09339000000000006,
          -1.7810937909719844e-17,
          0.17457630000000005,
          0.04556000000000002,
          0,
          0.09330000000000012,
          0.20059000000000016,
          0.5987999999999998,
          0,
          0.24499999999999997,
          0.012059999999999996,
          0.03837,
          0.0002999999999999999,
          0.0682365,
          0.4844799999999998,
          0.1041,
          0.1787100000000002,
          7.499999999999865e-05,
          0.26274,
          0.08824500000000009,
          7.500000000000071e-05,
          0.6419250000000011,
          0.14933999999999995,
          0.00705,
          0,
          0.4277913999999999,
          0,
          0.0027599999999999994,
          0.8357800000000003,
          0.00705,
          0.1256085,
          0.050924999999999956,
          0,
          0.029999999999999995,
          0.1991250000000001,
          7.500000000000001e-05,
          0.18315000000000003,
          0.04394849999999999,
          0.00015000000000000004,
          0.0003000000000000012,
          0,
          0,
          0.18376000000000006,
          0.1333499999999998,
          0.5121000000000003,
          0.2744280000000005,
          0.0071999999999999955,
          0.0013499999999999957,
          0.013724999999999984,
          0.27237000000000017,
          0.11284500000000001,
          0.5776500000000007,
          0.11913330000000011,
          0.4074214000000014,
          0.5481200000000005,
          0,
          0.11708000000000014,
          0,
          0,
          0.34277100000000005,
          0.10841999999999974,
          0.0022500000000000007,
          0.026188000000000013,
          0.35327000000000014,
          0.02951999999999999,
          1.0392,
          0.00015,
          0.057449999999999946,
          0.0411,
          0.5973099999999996,
          0.023700000000000002,
          0,
          0.2216742,
          0,
          0.6855279999999997,
          0.31665000000000015,
          0.0024000000000000015,
          0,
          0,
          0.5965499999999997,
          0.06372,
          0.5920100000000001,
          0.20665499999999992,
          0.2997480000000007,
          0.01661999999999998,
          0.2100750000000001,
          0.16900000000000004,
          0.02211000000000003,
          -1.021405182655144e-19,
          0.11468999999999978,
          0.07642499999999994,
          0.15345,
          0.10489000000000014,
          0.00012999999999998218,
          0.16118999999999997,
          0.048700000000000014,
          0,
          0.09270000000000007,
          0.34340000000000004,
          0.6395000000000001,
          0,
          0.257328,
          0.03321,
          0.0501,
          0.0010500000000000002,
          0.059694000000000004,
          0.5361199999999999,
          0.10389000000000005,
          0.16002999999999995,
          7.499999999999862e-05,
          0.6253610999999999,
          0.11109000000000008,
          7.500000000000073e-05,
          0.5935500000000011,
          0.28182000000000007,
          0.00705,
          0,
          0.5641400000000001,
          0,
          0.0027599999999999994,
          0.6716000000000002,
          0.007125,
          0.14205,
          0.054749999999999965,
          0,
          0.03507,
          0.26572500000000004,
          0.00015,
          0.25807500000000005,
          0.04394849999999999,
          0.0003,
          7.500000000000123e-05,
          0,
          0,
          0.16020000000000012,
          0.13726499999999978,
          0.45710000000000034,
          0.31214000000000053,
          0.0071999999999999955,
          0.0013499999999999957,
          0.05429999999999998,
          0.2996700000000001,
          0.13886999999999997,
          0.43140000000000056,
          0.10755000000000009,
          0.6003500000000015,
          0.26916000000000057,
          0,
          0.11055000000000018,
          0,
          0,
          0.33721,
          0.12128999999999975,
          0.0021750000000000003,
          0.05654000000000002,
          0.41676,
          0.07425,
          0.6668999999999995,
          0.0003,
          0.04837499999999996,
          0.030450000000000012,
          0.4284099999999992,
          0.022574999999999998,
          0,
          0.26195999999999986,
          0,
          0.47104000000000007,
          0.2841000000000001,
          0.0022500000000000016,
          0,
          0,
          0.5251199999999996,
          0.034279050000000005,
          0.4623599999999999,
          0.3859949999999997,
          0.2570200000000006,
          0.018329999999999968,
          0.18420000000000003,
          0.1758000000000001,
          0.02127000000000003,
          0.00231,
          0.1128899999999998,
          0.05779499999999996,
          0.14025,
          0.08193000000000014,
          -1.782278028864918e-17,
          0.21534,
          0.04580000000000002,
          0,
          0.10027500000000003,
          0.3235999999999999,
          0.5449,
          0,
          0.24761299999999997,
          -2.2737367544323208e-18,
          0.05430810000000002,
          0.00042,
          0.059694000000000004,
          0.4425199999999997,
          0.10407000000000005,
          0.14359999999999987,
          7.499999999999862e-05,
          0.5014699999999999,
          0.07504500000000003,
          7.500000000000073e-05,
          0.4545750000000009
         ],
         "xaxis": "x3",
         "yaxis": "y3"
        }
       ],
       "layout": {
        "annotations": [
         {
          "font": {
           "size": 16
          },
          "showarrow": false,
          "text": "MORA",
          "x": 0.5,
          "xanchor": "center",
          "xref": "paper",
          "y": 1,
          "yanchor": "bottom",
          "yref": "paper"
         },
         {
          "font": {
           "size": 16
          },
          "showarrow": false,
          "text": "EAR",
          "x": 0.5,
          "xanchor": "center",
          "xref": "paper",
          "y": 0.6111111111111112,
          "yanchor": "bottom",
          "yref": "paper"
         },
         {
          "font": {
           "size": 16
          },
          "showarrow": false,
          "text": "Dijkstra",
          "x": 0.5,
          "xanchor": "center",
          "xref": "paper",
          "y": 0.22222222222222224,
          "yanchor": "bottom",
          "yref": "paper"
         }
        ],
        "autosize": false,
        "height": 1200,
        "template": {
         "data": {
          "bar": [
           {
            "error_x": {
             "color": "#2a3f5f"
            },
            "error_y": {
             "color": "#2a3f5f"
            },
            "marker": {
             "line": {
              "color": "#E5ECF6",
              "width": 0.5
             }
            },
            "type": "bar"
           }
          ],
          "barpolar": [
           {
            "marker": {
             "line": {
              "color": "#E5ECF6",
              "width": 0.5
             }
            },
            "type": "barpolar"
           }
          ],
          "carpet": [
           {
            "aaxis": {
             "endlinecolor": "#2a3f5f",
             "gridcolor": "white",
             "linecolor": "white",
             "minorgridcolor": "white",
             "startlinecolor": "#2a3f5f"
            },
            "baxis": {
             "endlinecolor": "#2a3f5f",
             "gridcolor": "white",
             "linecolor": "white",
             "minorgridcolor": "white",
             "startlinecolor": "#2a3f5f"
            },
            "type": "carpet"
           }
          ],
          "choropleth": [
           {
            "colorbar": {
             "outlinewidth": 0,
             "ticks": ""
            },
            "type": "choropleth"
           }
          ],
          "contour": [
           {
            "colorbar": {
             "outlinewidth": 0,
             "ticks": ""
            },
            "colorscale": [
             [
              0,
              "#0d0887"
             ],
             [
              0.1111111111111111,
              "#46039f"
             ],
             [
              0.2222222222222222,
              "#7201a8"
             ],
             [
              0.3333333333333333,
              "#9c179e"
             ],
             [
              0.4444444444444444,
              "#bd3786"
             ],
             [
              0.5555555555555556,
              "#d8576b"
             ],
             [
              0.6666666666666666,
              "#ed7953"
             ],
             [
              0.7777777777777778,
              "#fb9f3a"
             ],
             [
              0.8888888888888888,
              "#fdca26"
             ],
             [
              1,
              "#f0f921"
             ]
            ],
            "type": "contour"
           }
          ],
          "contourcarpet": [
           {
            "colorbar": {
             "outlinewidth": 0,
             "ticks": ""
            },
            "type": "contourcarpet"
           }
          ],
          "heatmap": [
           {
            "colorbar": {
             "outlinewidth": 0,
             "ticks": ""
            },
            "colorscale": [
             [
              0,
              "#0d0887"
             ],
             [
              0.1111111111111111,
              "#46039f"
             ],
             [
              0.2222222222222222,
              "#7201a8"
             ],
             [
              0.3333333333333333,
              "#9c179e"
             ],
             [
              0.4444444444444444,
              "#bd3786"
             ],
             [
              0.5555555555555556,
              "#d8576b"
             ],
             [
              0.6666666666666666,
              "#ed7953"
             ],
             [
              0.7777777777777778,
              "#fb9f3a"
             ],
             [
              0.8888888888888888,
              "#fdca26"
             ],
             [
              1,
              "#f0f921"
             ]
            ],
            "type": "heatmap"
           }
          ],
          "heatmapgl": [
           {
            "colorbar": {
             "outlinewidth": 0,
             "ticks": ""
            },
            "colorscale": [
             [
              0,
              "#0d0887"
             ],
             [
              0.1111111111111111,
              "#46039f"
             ],
             [
              0.2222222222222222,
              "#7201a8"
             ],
             [
              0.3333333333333333,
              "#9c179e"
             ],
             [
              0.4444444444444444,
              "#bd3786"
             ],
             [
              0.5555555555555556,
              "#d8576b"
             ],
             [
              0.6666666666666666,
              "#ed7953"
             ],
             [
              0.7777777777777778,
              "#fb9f3a"
             ],
             [
              0.8888888888888888,
              "#fdca26"
             ],
             [
              1,
              "#f0f921"
             ]
            ],
            "type": "heatmapgl"
           }
          ],
          "histogram": [
           {
            "marker": {
             "colorbar": {
              "outlinewidth": 0,
              "ticks": ""
             }
            },
            "type": "histogram"
           }
          ],
          "histogram2d": [
           {
            "colorbar": {
             "outlinewidth": 0,
             "ticks": ""
            },
            "colorscale": [
             [
              0,
              "#0d0887"
             ],
             [
              0.1111111111111111,
              "#46039f"
             ],
             [
              0.2222222222222222,
              "#7201a8"
             ],
             [
              0.3333333333333333,
              "#9c179e"
             ],
             [
              0.4444444444444444,
              "#bd3786"
             ],
             [
              0.5555555555555556,
              "#d8576b"
             ],
             [
              0.6666666666666666,
              "#ed7953"
             ],
             [
              0.7777777777777778,
              "#fb9f3a"
             ],
             [
              0.8888888888888888,
              "#fdca26"
             ],
             [
              1,
              "#f0f921"
             ]
            ],
            "type": "histogram2d"
           }
          ],
          "histogram2dcontour": [
           {
            "colorbar": {
             "outlinewidth": 0,
             "ticks": ""
            },
            "colorscale": [
             [
              0,
              "#0d0887"
             ],
             [
              0.1111111111111111,
              "#46039f"
             ],
             [
              0.2222222222222222,
              "#7201a8"
             ],
             [
              0.3333333333333333,
              "#9c179e"
             ],
             [
              0.4444444444444444,
              "#bd3786"
             ],
             [
              0.5555555555555556,
              "#d8576b"
             ],
             [
              0.6666666666666666,
              "#ed7953"
             ],
             [
              0.7777777777777778,
              "#fb9f3a"
             ],
             [
              0.8888888888888888,
              "#fdca26"
             ],
             [
              1,
              "#f0f921"
             ]
            ],
            "type": "histogram2dcontour"
           }
          ],
          "mesh3d": [
           {
            "colorbar": {
             "outlinewidth": 0,
             "ticks": ""
            },
            "type": "mesh3d"
           }
          ],
          "parcoords": [
           {
            "line": {
             "colorbar": {
              "outlinewidth": 0,
              "ticks": ""
             }
            },
            "type": "parcoords"
           }
          ],
          "pie": [
           {
            "automargin": true,
            "type": "pie"
           }
          ],
          "scatter": [
           {
            "marker": {
             "colorbar": {
              "outlinewidth": 0,
              "ticks": ""
             }
            },
            "type": "scatter"
           }
          ],
          "scatter3d": [
           {
            "line": {
             "colorbar": {
              "outlinewidth": 0,
              "ticks": ""
             }
            },
            "marker": {
             "colorbar": {
              "outlinewidth": 0,
              "ticks": ""
             }
            },
            "type": "scatter3d"
           }
          ],
          "scattercarpet": [
           {
            "marker": {
             "colorbar": {
              "outlinewidth": 0,
              "ticks": ""
             }
            },
            "type": "scattercarpet"
           }
          ],
          "scattergeo": [
           {
            "marker": {
             "colorbar": {
              "outlinewidth": 0,
              "ticks": ""
             }
            },
            "type": "scattergeo"
           }
          ],
          "scattergl": [
           {
            "marker": {
             "colorbar": {
              "outlinewidth": 0,
              "ticks": ""
             }
            },
            "type": "scattergl"
           }
          ],
          "scattermapbox": [
           {
            "marker": {
             "colorbar": {
              "outlinewidth": 0,
              "ticks": ""
             }
            },
            "type": "scattermapbox"
           }
          ],
          "scatterpolar": [
           {
            "marker": {
             "colorbar": {
              "outlinewidth": 0,
              "ticks": ""
             }
            },
            "type": "scatterpolar"
           }
          ],
          "scatterpolargl": [
           {
            "marker": {
             "colorbar": {
              "outlinewidth": 0,
              "ticks": ""
             }
            },
            "type": "scatterpolargl"
           }
          ],
          "scatterternary": [
           {
            "marker": {
             "colorbar": {
              "outlinewidth": 0,
              "ticks": ""
             }
            },
            "type": "scatterternary"
           }
          ],
          "surface": [
           {
            "colorbar": {
             "outlinewidth": 0,
             "ticks": ""
            },
            "colorscale": [
             [
              0,
              "#0d0887"
             ],
             [
              0.1111111111111111,
              "#46039f"
             ],
             [
              0.2222222222222222,
              "#7201a8"
             ],
             [
              0.3333333333333333,
              "#9c179e"
             ],
             [
              0.4444444444444444,
              "#bd3786"
             ],
             [
              0.5555555555555556,
              "#d8576b"
             ],
             [
              0.6666666666666666,
              "#ed7953"
             ],
             [
              0.7777777777777778,
              "#fb9f3a"
             ],
             [
              0.8888888888888888,
              "#fdca26"
             ],
             [
              1,
              "#f0f921"
             ]
            ],
            "type": "surface"
           }
          ],
          "table": [
           {
            "cells": {
             "fill": {
              "color": "#EBF0F8"
             },
             "line": {
              "color": "white"
             }
            },
            "header": {
             "fill": {
              "color": "#C8D4E3"
             },
             "line": {
              "color": "white"
             }
            },
            "type": "table"
           }
          ]
         },
         "layout": {
          "annotationdefaults": {
           "arrowcolor": "#2a3f5f",
           "arrowhead": 0,
           "arrowwidth": 1
          },
          "coloraxis": {
           "colorbar": {
            "outlinewidth": 0,
            "ticks": ""
           }
          },
          "colorscale": {
           "diverging": [
            [
             0,
             "#8e0152"
            ],
            [
             0.1,
             "#c51b7d"
            ],
            [
             0.2,
             "#de77ae"
            ],
            [
             0.3,
             "#f1b6da"
            ],
            [
             0.4,
             "#fde0ef"
            ],
            [
             0.5,
             "#f7f7f7"
            ],
            [
             0.6,
             "#e6f5d0"
            ],
            [
             0.7,
             "#b8e186"
            ],
            [
             0.8,
             "#7fbc41"
            ],
            [
             0.9,
             "#4d9221"
            ],
            [
             1,
             "#276419"
            ]
           ],
           "sequential": [
            [
             0,
             "#0d0887"
            ],
            [
             0.1111111111111111,
             "#46039f"
            ],
            [
             0.2222222222222222,
             "#7201a8"
            ],
            [
             0.3333333333333333,
             "#9c179e"
            ],
            [
             0.4444444444444444,
             "#bd3786"
            ],
            [
             0.5555555555555556,
             "#d8576b"
            ],
            [
             0.6666666666666666,
             "#ed7953"
            ],
            [
             0.7777777777777778,
             "#fb9f3a"
            ],
            [
             0.8888888888888888,
             "#fdca26"
            ],
            [
             1,
             "#f0f921"
            ]
           ],
           "sequentialminus": [
            [
             0,
             "#0d0887"
            ],
            [
             0.1111111111111111,
             "#46039f"
            ],
            [
             0.2222222222222222,
             "#7201a8"
            ],
            [
             0.3333333333333333,
             "#9c179e"
            ],
            [
             0.4444444444444444,
             "#bd3786"
            ],
            [
             0.5555555555555556,
             "#d8576b"
            ],
            [
             0.6666666666666666,
             "#ed7953"
            ],
            [
             0.7777777777777778,
             "#fb9f3a"
            ],
            [
             0.8888888888888888,
             "#fdca26"
            ],
            [
             1,
             "#f0f921"
            ]
           ]
          },
          "colorway": [
           "#636efa",
           "#EF553B",
           "#00cc96",
           "#ab63fa",
           "#FFA15A",
           "#19d3f3",
           "#FF6692",
           "#B6E880",
           "#FF97FF",
           "#FECB52"
          ],
          "font": {
           "color": "#2a3f5f"
          },
          "geo": {
           "bgcolor": "white",
           "lakecolor": "white",
           "landcolor": "#E5ECF6",
           "showlakes": true,
           "showland": true,
           "subunitcolor": "white"
          },
          "hoverlabel": {
           "align": "left"
          },
          "hovermode": "closest",
          "mapbox": {
           "style": "light"
          },
          "paper_bgcolor": "white",
          "plot_bgcolor": "#E5ECF6",
          "polar": {
           "angularaxis": {
            "gridcolor": "white",
            "linecolor": "white",
            "ticks": ""
           },
           "bgcolor": "#E5ECF6",
           "radialaxis": {
            "gridcolor": "white",
            "linecolor": "white",
            "ticks": ""
           }
          },
          "scene": {
           "xaxis": {
            "backgroundcolor": "#E5ECF6",
            "gridcolor": "white",
            "gridwidth": 2,
            "linecolor": "white",
            "showbackground": true,
            "ticks": "",
            "zerolinecolor": "white"
           },
           "yaxis": {
            "backgroundcolor": "#E5ECF6",
            "gridcolor": "white",
            "gridwidth": 2,
            "linecolor": "white",
            "showbackground": true,
            "ticks": "",
            "zerolinecolor": "white"
           },
           "zaxis": {
            "backgroundcolor": "#E5ECF6",
            "gridcolor": "white",
            "gridwidth": 2,
            "linecolor": "white",
            "showbackground": true,
            "ticks": "",
            "zerolinecolor": "white"
           }
          },
          "shapedefaults": {
           "line": {
            "color": "#2a3f5f"
           }
          },
          "ternary": {
           "aaxis": {
            "gridcolor": "white",
            "linecolor": "white",
            "ticks": ""
           },
           "baxis": {
            "gridcolor": "white",
            "linecolor": "white",
            "ticks": ""
           },
           "bgcolor": "#E5ECF6",
           "caxis": {
            "gridcolor": "white",
            "linecolor": "white",
            "ticks": ""
           }
          },
          "title": {
           "x": 0.05
          },
          "xaxis": {
           "automargin": true,
           "gridcolor": "white",
           "linecolor": "white",
           "ticks": "",
           "title": {
            "standoff": 15
           },
           "zerolinecolor": "white",
           "zerolinewidth": 2
          },
          "yaxis": {
           "automargin": true,
           "gridcolor": "white",
           "linecolor": "white",
           "ticks": "",
           "title": {
            "standoff": 15
           },
           "zerolinecolor": "white",
           "zerolinewidth": 2
          }
         }
        },
        "width": 1300,
        "xaxis": {
         "anchor": "y",
         "autorange": false,
         "domain": [
          0,
          1
         ],
         "range": [
          -0.025,
          1.1250000000000004
         ],
         "type": "linear"
        },
        "xaxis2": {
         "anchor": "y2",
         "autorange": true,
         "domain": [
          0,
          1
         ],
         "range": [
          -0.02499999999999991,
          1.1250000000000004
         ],
         "type": "linear"
        },
        "xaxis3": {
         "anchor": "y3",
         "autorange": true,
         "domain": [
          0,
          1
         ],
         "range": [
          -0.02499999999999991,
          1.0750000000000002
         ],
         "type": "linear"
        },
        "yaxis": {
         "anchor": "x",
         "autorange": true,
         "domain": [
          0.7777777777777778,
          1
         ],
         "range": [
          0,
          215.78947368421052
         ]
        },
        "yaxis2": {
         "anchor": "x2",
         "autorange": true,
         "domain": [
          0.3888888888888889,
          0.6111111111111112
         ],
         "range": [
          0,
          476.8421052631579
         ]
        },
        "yaxis3": {
         "anchor": "x3",
         "autorange": true,
         "domain": [
          0,
          0.22222222222222224
         ],
         "range": [
          0,
          421.0526315789474
         ]
        }
       }
      },
      "image/png": "[encoded data removed]",
      "text/html": [
       "<div>\n",
       "        \n",
       "        \n",
       "            <div id=\"dbf27f71-ee8c-4dc8-96d7-8bd4d1ac4583\" class=\"plotly-graph-div\" style=\"height:1200px; width:1300px;\"></div>\n",
       "            <script type=\"text/javascript\">\n",
       "                require([\"plotly\"], function(Plotly) {\n",
       "                    window.PLOTLYENV=window.PLOTLYENV || {};\n",
       "                    \n",
       "                if (document.getElementById(\"dbf27f71-ee8c-4dc8-96d7-8bd4d1ac4583\")) {\n",
       "                    Plotly.newPlot(\n",
       "                        'dbf27f71-ee8c-4dc8-96d7-8bd4d1ac4583',\n",
       "                        [{\"name\": \"MORA\", \"type\": \"histogram\", \"x\": [0.6488521999999999, 0.02349, 0.47368000000000005, 0.0, 0.007949999999999999, 0.06296000000000003, 0.012375, 0.0, 0.359196, 0.027719999999999998, 0.2989, 0.239891, 0.11002200000000001, 0.080325, 0.3980459999999999, 0.35395999999999994, 0.026025, 0.14634000000000003, 0.11625, 0.690609, 0.0066976, 0.6345069999999999, 0.0003, 0.061056000000000006, 0.22179, 0.6293145, 0.42705, 0.16518645, 0.0, 0.7432155, 0.24334619999999996, 0.10162790000000002, 0.0, 0.0, 0.0382962, 0.33855, 0.166725, 0.06761204999999999, 0.058305, 0.0393, 0.0, 0.00615, 0.21243380000000003, 0.006225, 0.08517, 0.34851620000000005, 0.026625, 0.0003, 0.018899999999999997, 0.062406, 0.01008, 0.31880379999999997, 0.2276062, 0.0, 0.009075, 0.0, 0.14484, 0.20655, 0.12645, 0.0, 0.31529000000000007, 0.6834640000000001, 0.0, 0.28182, 0.0186, 0.37885, 0.3197, 0.19147000000000003, 0.07329, 0.697119, 0.0, 0.18300999999999998, 0.143775, 0.20414000000000002, 0.0032864999999999995, 0.0, 0.012374999999999999, 0.21090000000000003, 0.026625, 0.03153, 0.7368, 0.655193, 0.14718, 0.0, 0.1403908, 0.727902, 0.2863538, 0.001302, 0.0996, 0.5420880000000001, 0.022874400000000007, 0.28964999999999996, 0.39535309999999985, 9.179999999999837e-05, 0.5173909999999999, 0.0, 0.25469699999999995, 0.32040379999999996, 0.006525, 0.600789, 0.7084125, 0.578055, 0.5179041000000001, 0.5419570000000001, 0.1424055, 0.058425, 0.4948679999999999, 0.048086800000000034, 0.026175000000000007, 0.28178955, 0.322437, 0.5407239999999998, 0.3405543, 0.6711959999999999, 0.3006945, 0.052200000000000024, 0.514902, 0.07173600000000006, 0.4548, 0.10624860000000004, 0.048608, 0.7936230000000002, 0.11211029999999997, 0.20076520000000006, 0.0, 0.4996920000000001, 0.0174062, 0.2605625999999999, 0.5466652499999999, 0.11823750000000002, 0.1641468, 0.05897474999999999, 0.3384525, 0.000749999999999999, 0.32811359999999995, 0.00015000000000000164, 0.44787, 0.36519650000000026, 0.0014999999999999979, 0.24408600000000003, 0.00014999999999999828, 0.3017445000000001, 0.15720120000000004, 0.5892657000000001, 0.19181839999999994, 0.0, 0.021782249999999996, 0.48787200000000003, 0.15276749999999992, 0.15243974999999998, 0.27360329999999994, 0.072912, 0.27298720000000004, 1.0672519999999999, 0.0426165, 0.08102489999999996, 0.0002249999999999999, 0.5094178, 0.31778660000000014, 0.21384690000000015, 0.111015, 0.5999040000000001, 0.0617181, 0.1432708, 0.5888002499999999, 0.5396945, 0.01966875, 0.18024869999999998, 0.006524999999999999, 0.48016800000000004, 0.0014999999999999979, 0.16496370000000002, 0.18765, 0.8265850000000001, 0.29351760000000005, 0.000918, 0.3877593, 0.7783095000000001, 0.3672484000000003, 0.0562437, 0.30591824999999995, 0.5555715000000001, 0.01023855, 0.3051854999999999, 0.4774399999999998, 0.0296469, 0.35200200000000004, 0.0396786, 0.21532590000000001, 0.12725469999999994, 0.012150000000000003, 0.24730199999999997, 0.034741499999999974, 0.061028999999999965, 0.48296129999999965, 0.3205670000000001, 0.08271120000000007, 0.2793, 0.038200499999999915, 0.25624430000000004, 0.03142500000000001, 0.11520359999999999, 0.23479049999999987, 0.6086119999999998, 0.016787199999999974, 0.5552789999999999, 0.12395099999999994, 0.106011, 0.3311766000000001, 0.7528275000000001, 0.050550000000000025, 0.10345935000000006, 0.18351599999999998, 0.6623917500000002, 0.14295350000000004, 0.11992610000000001, 0.031292, 0.12431325000000011, 0.09826239999999994, 0.2667299999999999, 0.07534125000000001, 0.17350109999999996, 0.06220275000000002, 0.11281874999999995, 0.13013370000000013, 0.005924999999999999, 0.2523678, 0.006075000000000001, 0.154989, 0.3387090000000002, 0.21284999999999996, 0.0003, 0.22387500000000005, 0.12156449999999999, 0.1984905000000001, 0.39916809999999997, 0.2531274, 0.022713, 0.007650000000000003, 0.0, 0.12921, 0.12233775000000001, 0.08378459999999988, 0.25104899999999997, 0.25414770000000003, 0.54419, 0.10185975000000001, 0.25533329999999993, 0.21795, 0.41116159999999985, 0.47290189999999993, 0.25607870000000016, 0.09375149999999992, 0.8565375000000002, 0.03688079999999999, 0.16447819999999996, 0.19909724999999998, 0.3324255999999997, 0.01695, 0.06598259999999999, 0.005774999999999999, 0.3800114999999999, 0.219225, 0.19100910000000015, 0.17955, 0.6389000000000001, 0.32165489999999985, 0.396786, 0.17138489999999992, 0.66239175, 0.4820549000000004, 0.0037929, 0.08173469999999994, 0.5639625, 0.0859269, 0.2978999999999998, 0.4807681000000001, 0.003488100000000002, 0.413741, 0.029346299999999995, 0.010510800000000004, 0.0983503999999999, 0.007425000000000003, 9.599999999995817e-05, 0.5870414999999999, 0.4519830000000002, 0.3060489999999998, 0.3768750000000002, 0.1047618000000001, 0.058874999999999955, 0.6608999999999999, 0.31650019999999984, 0.028125000000000046, 0.46959629999999997, 0.08910899999999988, 0.606729, 0.041776599999999976, 0.7555930000000001, 0.05233199999999995, 1.095918, 0.14142150000000012, 0.3316125, 0.45929999999999993, 0.20346570000000008, 0.0, 0.5870655000000001, 0.48123630000000006, 0.22744080000000005, 0.0, 0.4013017500000001, 0.11761449999999993, 0.3398153999999999, 0.5547217499999999, 0.2288164499999999, 0.18392460000000002, 0.03671324999999995, 0.4831287000000001, 0.00014999999999999733, 0.11776950000000004, 0.0002249999999999991, 0.48598620000000003, 0.3388628000000003, 0.001649999999999926, 0.052182000000000006, 7.500000000001066e-05, 1.0599255, 0.11605590000000011, 0.2626593000000004, 0.2502434999999999, 0.0, 0.006750000000000002, 9.6e-05, 0.11521919999999995, 0.20276325000000003, 0.04915409999999988, 0.0, 0.38286440000000016, 0.7730229999999999, 0.006149999999999986, 0.11325449999999986, 7.499999999998294e-05, 0.23198509999999986, 0.37613159999999995, 0.29355420000000026, 0.49694594999999986, 0.8736269999999998, 0.026394299999999996, 0.3039182, 0.5400967499999999, 0.2808984999999999, 0.01425525, 0.19750995, 0.007425000000000001, 0.39945149999999996, 0.0016499999999999603, 0.42423090000000013, 0.168897, 0.8373179999999999, 0.26937239999999996, 0.2945519999999999, 0.1823960999999999, 0.5841457499999999, 0.15365630000000072, 0.0429594, 0.20902559999999987, 0.28823849999999973, 0.027108900000000023, 0.3323999999999999, 0.5845779999999999, 0.24728610000000012, 0.499206, 0.0351351, 0.35123550000000003, 0.12700809999999993, 0.007650000000000001, -4.18332035678759e-17, 0.23388749999999978, 0.0819000000000001, 0.3515102999999996, 0.25533200000000006, 0.30452100000000015, 0.27696225, 0.23934599999999986, 0.18833799999999973, 0.024933750000000046, 0.42740235, 0.09109799999999986, 0.587068, 0.033034499999999974, 0.6572769999999997, 0.00029999999999994495, 0.0, 0.5594904000000002, 0.24983849999999996, 2.549999999996545e-05, 0.13592385000000012, 0.3108, 0.8680057499999999, 0.4167170000000002, 0.012286200000000023, 0.137178, 0.03249600000000005, 0.04267399999999996, 0.3384203999999996, 0.09258749999999989, 0.10585319999999991, 0.15136665000000002, 0.41283450000000005, 0.20187240000000012, 0.0002999999999999973, 0.16102270000000007, 0.0002999999999999991, 0.2114807999999999, 0.37434940000000044, 0.22274999999999992, 0.0003, 0.22131225, 0.00135, 0.08076540000000015, 0.37325310000000045, 0.2140058, 0.35336100000000004, 0.07632525000000001, 0.0, 0.1420974, 0.48755099999999996, 0.3640760999999998, 0.6137940000000001, 0.4644823000000005, 0.9442520000000001, 0.3624345, 0.5196473999999999, 0.22123724999999994, 0.4544709999999998, 0.4233652999999997, 0.12768280000000026, 0.42207464999999994, 0.12040349999999994, 0.05623019999999999, 0.3716656, 0.17298824999999993, 0.36712569999999967, 0.07810050000000002, 0.36248805, 0.007437750000000001, 0.13876649999999993, 0.22296224999999995, 0.08632980000000008, 0.16620000000000004, 0.8549679999999995, 0.1295399999999999, 0.356151, 0.15037349999999994, 0.8630309999999998, 0.42645530000000054, 0.005370000000000006, 0.36331829999999987, 0.21683999999999973, 0.05413530000000002, 0.26044949999999983, 0.17556359999999982, 0.01136130000000012, 0.635872, 0.026393400000000004, 0.12309180000000002, 0.30630289999999977, 0.055011749999999984, 4.7999999999958165e-05, 0.035809499999999786, 0.5277480000000001, 0.5302920999999997, 0.2707840000000001, 0.12140280000000021, 0.11736300000000008, 0.01684949999999982, 0.04016649999999975, 0.029499750000000047, 0.24819525000000006, 0.4197000000000001, 0.444216, 0.28605219999999987, 0.9617299999999996, 0.00029999999999994495, 0.1209435, 0.029466600000000114, 0.41417249999999983, 0.16127399999999995, 0.11326860000000019, 0.0, 0.4969319999999997, 0.16817830000000009, 0.19636750000000003, 0.0, 0.45748950000000016, 0.20201609999999995, 0.2693057999999997, 0.5328795000000001, 0.17980559999999987, 0.09411344999999999, 0.11048850000000016, 0.3188691000000002, 0.04764975, 0.3963585000000002, 0.047724749999999996, 0.4316198999999999, 0.38646850000000005, 0.11240024999999991, 0.000126, 0.11091300000000001, 0.147162, 0.07177590000000011, 0.3182325000000006, 0.28165819999999997, 0.09658049999999999, 0.008400000000000017, 0.0, 0.0567294, 0.2689049999999998, 0.09326999999999978, 0.09658050000000003, 0.12824180000000018, 0.583926, 0.127365, 0.049165199999999874, 0.11098799999999996, 0.45024610000000004, 0.4259472, 0.2001803000000003, 0.26905409999999996, 0.752451, 0.02870999999999998, 0.003952900000000093, 0.5003879999999997, 0.4396936999999997, 0.010904250000000013, 0.4535418, 0.054911999999999975, 0.4948709999999999, 0.11249999999999996, 0.5458734000000003, 0.09865050000000006, 0.3133699999999994, 0.15332999999999994, 0.2574330000000001, 0.42816500000000013, 0.49156124999999956, 0.3634336000000006, 0.05078490000000001, 0.4912052999999998, 0.4793369999999998, 0.021518850000000003, 0.3589499999999999, 0.7308398999999998, 0.013827300000000119, 0.475717, 0.029808600000000005, 0.00044999999999999646, 0.19037759999999992, 0.09495, 0.36601500000000003, 0.31924799999999975, 0.0666270000000002, 0.24029939999999972, 0.376282, 0.07876140000000018, 0.05212500000000008, 0.6786824999999995, 0.5641113999999997, 0.12202500000000005, 0.3564198, 0.12085800000000009, 0.6055559999999999, 0.04530219999999982, 0.6868899999999997, 0.517446, 0.44319600000000026, 0.5395176000000003, 0.2969234999999999, 0.387, 0.10761735000000022, 0.066272, 0.8402287499999996, 0.5534176000000001, 0.0741424000000001, 0.0, 0.016050000000000106, 0.06400919999999996, 0.29583389999999976, 0.1435500000000001, 0.0929990999999999, 0.07091714999999998, 0.016425000000000183, 0.2852112000000002, 0.0876, 0.23386820000000028, 0.0876, 0.4207446000000002, 0.3890494000000002, 0.001724999999999903, 0.4402094999999999, 7.499999999997727e-05, 0.2126969999999999, 0.03566700000000008, 0.3018453000000008, 0.23615640000000004, -1.1368683772161604e-17, 0.05494799999999999, 0.211842, 0.1364208, 0.2107499999999997, 0.12851429999999975, 0.09940800000000002, 0.4650505000000002, 0.8786349999999999, 0.027000000000000034, 0.17666999999999988, 0.0001499999999999204, 0.3344613999999997, 0.1993616, 0.10616310000000032, 0.3497546999999999, 0.24498449999999974, 0.04550999999999999, 0.5372722000000002, 0.07507499999999968, 0.11471159999999979, 0.004344750000000012, 0.019389899999999974, 0.095025, 0.2014215, 0.0016499999999999317, 0.05454000000000023, 0.00015000000000005355, 0.8677479999999995, 0.17945759999999994, 0.2716860000000002, 0.2166615000000001, 0.7762004999999996, 0.2708486000000008, 0.006662700000000002, 0.09709499999999983, 0.7262414999999998, 0.09556110000000001, 0.4225079999999999, 0.39092959999999954, 0.0002490000000001178, 0.476337, 0.0831609, 0.172533, 0.03767079999999988, 0.007499999999999997, 0.01099500000000002, 0.5583075000000001, 0.4524840000000002, 0.39755209999999946, 0.2970710000000002, 0.06075630000000016, 0.1041000000000001, 0.5406209999999997, 0.24631679999999959, 0.030750000000000034, 0.4607356500000001, 0.4719855000000001, 0.6363389999999997, 0.08767819999999985, 0.8865229999999998, 0.00032549999999992, 0.13905000000000015, 0.5430300000000001, 0.840675, 0.2337, 0.1383633000000003, 0.295738, 0.3783824999999995, 0.4514357999999999, 0.20256360000000023, 0.0, 0.38857950000000013, 0.18000129999999995, 0.2864198999999998, 0.5091172499999999, 0.16188599999999997, 0.06929999999999996, 0.03427500000000017, 0.1027479000000002, 7.500000000001161e-05, 0.27818580000000037, 0.0001500000000000225, 0.2125131, 0.48480910000000005, 0.0534749999999999, 0.00014999999999995453, 0.05189999999999997, 0.16218149999999995, 0.0249588000000001, 0.21084670000000122, 0.2762650000000002, -1.1368683772161604e-17, 0.15041475, 0.010944, 0.1115982, 0.2225249999999998, 0.2611277999999997, 0.443607, 0.24684070000000027, 0.5206179999999995, 0.03328725000000002, 0.08889299999999992, 0.051974999999999896, 0.3329676999999998, 0.48726839999999966, 0.1665482000000003, 0.31006064999999994, 0.9673634999999997, 0.08591999999999998, 0.26008110000000034, 0.4554172499999997, 0.4346562999999998, 0.15978974999999992, 0.4385562000000001, 0.007500000000000003, 0.353142, 0.05347499999999993, 0.055496100000000236, 0.15420000000000003, 0.6445869999999995, 0.18182609999999993, 0.710211, 0.13307620000000006, 0.3783824999999995, 0.4139016000000004, 0.054808200000000015, 0.4983311999999998, 0.37854899999999986, 0.05001884999999999, 0.14062049999999993, 0.46228279999999977, 0.005280000000000118, 0.29868800000000006, 0.00273, 0.00044999999999999885, 0.19964719999999986, 0.006974999999999997, 1.9895196601282805e-17, 0.15647700000000003, 0.1449000000000002, 0.4631082999999995, 0.4270970000000004, 0.10479000000000016, 0.05820000000000013, 0.15641699999999964, 0.17160149999999952, 0.029850000000000033, 0.1542769500000001, 0.10923750000000014, 0.3427859999999997, 0.09039129999999986, 0.7911989999999999, 0.00029999999999991996, 0.08325000000000014, 0.06709920000000008, 0.04588799999999992, 0.3322005000000001, 0.07615380000000027, 0.0, 0.6688964999999997, 0.24582130000000013, 0.0867709000000003, 0.0, 0.4738072500000003, 0.0618618, 0.051620699999999776, 0.5690362499999999, 0.1192548, 0.06870749999999994, 0.1860660000000002, 0.33296970000000026, 7.50000000000116e-05, 0.43421230000000044, 0.00022500000000002252, 0.1606608000000001, 0.22100300000000028, 0.0017999999999998848, 0.00014999999999995453, 7.499999999997442e-05, 0.07270499999999998, 0.0161400000000001, 0.25527890000000114, 0.2126443, -1.1368683772161604e-17, 0.068061, 1.4210854715202004e-18, 0.10464000000000002, 0.3607409999999997, 0.09269999999999971, 0.0, 0.0722040000000002, 0.6206839999999996, 0.21194100000000002, 0.19491239999999993, 7.499999999990621e-05, 0.5241068999999998, 0.36243639999999977, 0.1908365000000004, 0.12114329999999987, 0.32642999999999966, 0.020759999999999973, 0.14567570000000046, 0.5286022499999997, 0.4199698999999998, 0.060635999999999884, 0.007943250000000098, 0.009500250000000002, 0.25972500000000004, 0.0017249999999999304, 0.38833080000000025, 0.15975, 0.6338839999999996, 0.14459999999999995, 0.0, 0.22269530000000004, 0.6502214999999995, 0.38076740000000053, 0.014820000000000022, 0.10788194999999981, 0.5145284999999997, 0.04573365, 0.3934499999999999, 0.6683711999999997, 1.1823431123048066e-16, 0.454629, 0.00273, 0.1318062, 0.16831000000000004, 0.009149999999999998, 1.9895196601282805e-17, 0.733515, 0.2016000000000002, 0.33400639999999915, 0.1993940000000004, 0.10410000000000015, 0.09757500000000018, 0.8113754999999997, 0.4228979999999994, 0.002250000000000037, 0.07450815000000009, 0.27677700000000016, 0.8574299999999995, 0.051468299999999835, 0.908659, 0.10233599999999993, 0.14319600000000013, 0.4379808000000001, 0.16899149999999993, 0.14835000000000015, 0.08086950000000027, 0.0, 0.4284449999999995, 0.27610910000000005, 0.035380300000000336, 0.0, 0.36000300000000024, 0.0407477, 0.13840079999999974, 0.4393289999999998, 0.16125884999999998, 0.11004569999999994, 0.15516375000000004, 0.1469100000000002, 0.0022500000000000115, 0.36828780000000044, 0.0022500000000000232, 0.0955455, 0.4227669000000002, 0.0725249999999999, 0.10248599999999994, 0.07267499999999996, 0.452787, 0.13036620000000015, 0.23386200000000118, 0.19577770000000005, -1.1368683772161604e-17, 0.06487124999999999, 0.0006000000000000014, 0.10480919999999998, 0.21596474999999965, 0.11071919999999973, 0.0, 0.3253781000000003, 0.4609639999999993, 0.06874799999999998, 0.0956195999999999, 0.07267499999999989, 0.4305209999999996, 0.3757715999999999, 0.11881000000000036, 0.12943679999999988, 0.49519649999999965, 0.048260399999999974, 0.3373050000000004, 0.5052779999999996, 0.19543489999999974, 0.0747697499999999, 0.09818625000000009, 0.006975000000000003, 0.34540350000000014, 0.07424999999999993, 0.08525130000000027, 0.15990000000000004, 0.6551649999999997, 0.22546799999999995, 0.0, 0.21307920000000005, 0.4258184999999994, 0.4301780000000005, 0.020460000000000016, 0.06806759999999985, 0.34608899999999987, 0.045281549999999976, 0.1735574999999997, 0.4180592999999998, 1.1823431123048066e-16, 0.48536800000000013, 0.011879099999999998, 0.021923700000000018, 0.2895595, 0.013425, 1.9895196601282805e-17, 0.014602500000000122, 0.24870000000000017, 0.5265091999999993, 0.4444650000000005, 0.09477090000000017, 0.05752500000000014, 0.2502689999999997, 0.3225556999999992, 0.030075000000000036, 0.5423292, 0.5918220000000001, 0.6510299999999996, 0.18822579999999986, 0.9509709999999997, 0.0001499999999999204, 0.15495450000000013, 0.10859190000000013, 0.352836, 0.3165000000000001, 0.1196805000000003, 0.0, 0.4644854999999995, 0.4150432999999999, 0.1406626000000003, 0.0, 0.41346750000000027, 0.05607410000000001, 0.2643386999999998, 0.40308524999999995, 0.2801884499999999, 0.10075094999999998, 0.3139005000000001, 0.3816396000000003, 0.006450000000000009, 0.27044830000000036, 0.00667500000000002, 0.4791405000000001, 0.3348035000000004, 0.002174999999999896, 0.00014999999999994315, 0.00014999999999997584, 0.7902809999999999, 0.0230154000000002, 0.31841460000000094, 0.3586327, -1.1368683772161604e-17, 0.01597499999999999, 1.3322676295501879e-18, 0.10929089999999997, 0.3706214999999997, 0.13805249999999974, 0.0, 0.4537038000000003, 0.7310849999999995, 0.27345375, 0.13768649999999988, 0.00014999999999990764, 0.26556419999999953, 0.32866839999999997, 0.19470950000000034, 0.6054077999999998, 0.31782299999999963, 0.02114639999999997, 0.39574630000000005, 0.4774642499999998, 0.1431807999999998, -1.1368683772161603e-16, 0.4054171500000001, 0.013125000000000003, 0.6547905000000003, 0.0023249999999999417, 0.5765538000000002, 0.14070000000000005, 0.6839039999999995, 0.20853929999999993, 0.11879100000000001, 0.3442550999999999, 0.4485854999999994, 0.5022712000000007, 0.023160000000000017, 0.32445854999999985, 0.6537089999999999, 0.08134109999999994, 0.37349999999999983, 0.6380318999999992, 0.7194393000000001, 0.4697850000000001, 0.7183356, 0.053127000000000035, 0.11925840000000006, 0.007125, 0.893244, 0.26248950000000015, 0.3220380000000002, 0.40461919999999935, 0.5777890000000004, 0.8212959000000003, 0.04845000000000016, 0.8081309999999996, 0.5349776999999991, 0.022650000000000038, 0.23305784999999984, 0.039754500000000095, 0.8686889999999994, 0.09336239999999982, 1.071297, 0.9652005000000001, 0.17139600000000013, 0.2931108000000001, 0.33229349999999996, 0.2839500000000001, 0.1510581000000002, 0.470758, 0.017939999999999474, 0.5439024999999996, 0.07986200000000032, 0.0, 0.15891825000000015, 0.08076720000000003, 0.2153615999999998, 0.1359022499999999, 0.14163615000000002, 0.03426404999999997, 0.16960199999999995, 0.2866956000000001, 0.00015000000000001, 0.41194960000000036, 0.00015000000000002173, 0.2418716999999999, 0.5368251000000003, 0.002174999999999896, 0.9652005000000002, 0.00014999999999997584, 0.10800599999999995, 0.020912700000000183, 0.2658797000000009, 0.3174022999999997, -1.1368683772161604e-17, 0.15418575, 0.893244, 0.13146090000000002, 0.2418029999999996, 0.16595519999999978, 0.706137, 0.35150750000000014, 0.5616739999999995, 0.20519399999999988, 0.3441557999999998, 0.00022499999999990762, 0.45482599999999956, 0.25922530000000005, 0.20636670000000049, 0.16204514999999994, 0.9329639999999998, 0.15207810000000002, 0.31182800000000005, 0.2019262499999997, 0.3061202999999997, 0.21525074999999988, 0.6100019999999999, 0.0070500000000000024, 0.2102625000000004, 0.0022499999999999413, 0.4259898000000002, 0.14010000000000006, 0.7831809999999992, 0.23800439999999987, 0.131472, 0.16890840000000004, 0.06347999999999941, 0.4011533000000006, 0.7350522, 0.4278596999999998, 0.6572279999999999, 0.09874095000000001, 0.2302784999999998], \"xaxis\": \"x\", \"yaxis\": \"y\"}, {\"name\": \"EAR\", \"type\": \"histogram\", \"x\": [0.02349, 0.7304, 0.0, 0.0, 0.012374999999999999, 0.5301100000000002, 0.148665, 0.22049999999999995, 0.22449000000000005, 0.1365, 0.008175, 0.18954, 0.00825, 0.4659999999999999, 0.0, 0.0819, 0.8231, 0.1221, 0.35647999999999996, 0.7283000000000002, 0.4970199999999999, 0.34, 0.03153, 0.02789999999999999, 1.0784249999999997, 0.0, 0.12471, 0.0, 0.0, 0.10725, 0.04292999999999999, 0.18032000000000004, 0.00057, 0.0, 0.00198, 0.46395, 0.0, 0.32592, 0.0, 0.0, 0.21850000000000006, 0.0, 0.00045, 0.14482499999999998, 0.3905600000000001, 0.00015, 0.0, 0.061875, 0.0003, 0.0267, 0.18697500000000003, 0.10796999999999997, 0.18887000000000004, 0.072825, 0.0393, 0.17658, 0.1155, 0.0, 0.14484, 0.14635499999999996, 0.00615, 0.0, 0.35916, 0.22179, 0.02247, 0.0123, 0.0, 0.0003, 0.0, 0.31806, 0.61534, 0.04119, 0.00051, 0.10268000000000002, 0.07095, 0.0, 0.35602999999999996, 0.0, 0.5141700000000001, 0.0, 0.05592000000000001, 0.0, 0.006075, 0.7369500000000001, 0.00298, 0.15389999999999998, 0.0, 0.20206000000000002, 0.0, 0.13221000000000002, 0.02595, 1.0598249999999998, 0.022110000000000005, 0.7455, 0.0, 0.0, 0.006599999999999998, 0.5670000000000002, 0.13867500000000005, 0.2304299999999999, 0.30534000000000017, 0.15492000000000006, 0.0014250000000000007, 0.17466999999999994, 0.0015000000000000007, 0.43330000000000013, 0.0, 0.09645, 0.8036000000000002, 0.13244999999999998, 0.45127000000000017, 0.7006999999999998, 0.6317899999999999, 0.3669, 0.03318, 0.02869499999999999, 1.0802250000000002, 0.0, 0.13298999999999997, 0.0, 0.0, 0.10671, 0.11612999999999998, 0.18333000000000002, 0.0005700000000000002, 0.0, 0.0020099999999999996, 0.4549500000000001, 0.0, 0.3307299999999999, 0.0, 0.0, 0.1874999999999998, 0.0, 7.5e-05, 0.16912499999999991, 0.43284000000000034, 0.00015, 0.0, 0.05835, 0.0003, 0.0267, 0.181875, 0.09907500000000002, 0.24352000000000018, 0.0546, 0.03915, 0.14403000000000005, 0.10087500000000002, 0.0, 0.13097999999999993, 0.18911999999999982, 0.00015000000000000115, 0.0, 0.40989, 0.46764, 0.04319999999999998, 0.006525, 0.0, 0.00015000000000000001, 0.0, 0.28991999999999984, 0.63019, 0.04362, 0.00054, 0.1170000000000001, 0.057300000000000025, 0.0, 0.4398800000000004, 0.0, 0.5588300000000005, 0.0, 0.034020000000000016, 0.0, 0.0007499999999999986, 0.18764999999999998, 0.08021999999999997, 0.17437500000000006, 0.0, 0.13582000000000005, 0.0, 0.15337999999999996, 0.026175, 1.061775, 0.020370000000000013, 0.6127999999999999, 0.0, 0.0, 0.006375, 0.4908799999999999, 0.14189999999999992, 0.17224999999999985, 0.2781000000000002, 0.15229920000000008, 0.001350000000000001, 0.20962999999999996, 0.0014250000000000011, 0.49710000000000004, 0.0, 0.0924375, 0.7924000000000002, 0.11145000000000002, 0.50744, 0.6430999999999998, 0.5490599999999994, 0.3112000000000001, 0.04944, 0.033045, 1.0743457500000002, 0.0, 0.15584999999999996, 0.0, 0.0, 0.10701, 0.07738499999999997, 0.1586200000000001, 0.0005100000000000003, 0.0, 0.0026399999999999987, 0.4863000000000003, 0.0, 0.37453, 0.0, 0.0, 0.17552999999999985, 0.0, 0.006000000000000001, 0.14894999999999992, 0.3368900000000002, 7.500000000000002e-05, 0.0, 0.06142499999999998, 0.0003, 0.0326295, 0.19769999999999993, 0.08136000000000003, 0.20055000000000012, 0.0327, 0.01897499999999999, 0.14920499999999998, 0.097125, 0.0, 0.12923999999999988, 0.11249999999999977, 0.00022500000000000116, 0.0, 0.3311999999999997, 0.2976000000000001, 0.027539999999999995, 0.0063, 0.0, 0.0003, 0.0, 0.29631, 0.42260999999999993, 0.03744, 0.00033, 0.08940000000000001, 0.0501, 0.0, 0.6276300000000002, 0.0, 0.4772600000000001, 0.0, 0.05655000000000004, 0.0, 7.499999999999862e-05, 0.19125, -3.1832314562052486e-17, 0.1566000000000001, 0.0, 0.027510000000000073, 0.0, 0.2608700000000001, 0.025575000000000004, 1.0573957499999997, 0.022379400000000025, 0.8545, 0.0, 0.0, 0.007425, 0.3030298000000005, 0.1444349999999999, 0.19998999999999983, 0.3308800000000002, 0.16518000000000005, 0.0016500000000000006, 0.22878809999999988, 0.0017250000000000015, 0.7500950000000002, 0.0, 0.069834, 0.8616000000000003, 0.1077, 0.46643, 0.35669799999999985, 0.3106596000000001, 0.633595, 0.035730000000000005, 0.028439999999999997, 1.0110314999999999, 0.0, 0.16799999999999995, 0.0, 0.0, 0.10791000000000002, 0.05876999999999996, 0.4433400000000001, 0.00102, 0.0, 0.002459999999999999, 0.4593000000000002, 0.0, 0.3435500000000003, 0.0, 0.0, 0.1615099999999998, 0.0, 7.500000000000071e-05, 0.16619999999999996, 0.3486391000000003, 7.500000000000001e-05, 0.0, 0.058874999999999955, 0.00030000000000000003, 0.025695000000000006, 0.17219999999999988, 0.085095, 0.2313398000000001, 0.07755, 0.04671824999999999, 0.17264999999999997, 0.09832500000000001, 0.0, 0.12470999999999985, 0.13379969999999983, 0.0001500000000000012, 0.0, 0.24221999999999974, 0.42855000000000015, 0.026394299999999996, 0.00735, 0.0, 0.00015, 0.0, 0.2955899999999999, 0.4707898000000001, 0.05031000000000001, 0.00033, 0.08124000000000005, 0.07739999999999998, 0.0, 0.4924800000000005, 0.0, 0.2034089000000003, 0.0, 0.03382000000000003, 0.0, 7.499999999999864e-05, 0.169047, 0.19417999999999994, 0.1729500000000001, 0.0, 0.11115910000000008, 0.0, 0.39956, 0.028050000000000005, 0.9938564999999994, 0.021810000000000013, 0.9006000000000003, 0.0, 0.0, 0.0075, 0.5278300000000002, 0.14453999999999992, 0.18999999999999972, 0.4223900000000001, 0.1509135, 0.0018000000000000004, 0.1675853999999999, 0.001875000000000001, 0.4710090000000005, 0.0, 0.1221915, 0.8929539999999999, 0.129, 0.37084999999999946, 0.6526999999999998, 0.48395, 0.4174000000000004, 0.04401000000000001, 0.028740000000000005, 0.91249575, 0.0, 0.12953999999999996, 0.0, 0.0, 0.10647, 0.13970999999999997, 0.4199399999999999, 0.0010500000000000002, 0.0, 0.0028199999999999987, 0.44235, 0.0, 0.37478000000000056, 0.0, 0.0, 0.18811999999999984, 0.0, 0.00015000000000000072, 0.19822499999999987, 0.3884300000000005, 7.500000000000001e-05, 0.0, 0.05579999999999992, 0.00030000000000000003, 0.0314235, 0.20407499999999987, 0.11316000000000002, 0.24502999999999991, 0.07096725, 0.05039999999999996, 0.17869499999999996, 0.119925, 0.0, 0.10997999999999987, 0.13900499999999988, 7.50000000000012e-05, 0.0, 0.36413999999999985, 0.5808900000000001, 0.03531, 0.007425, 0.0, 0.0003, 0.0, 0.2976299999999999, 0.61903, 0.05488, 0.00048, 0.12016000000000004, 0.06952499999999999, 0.0, 0.37686000000000014, 0.0, 0.4085800000000004, 0.0, 0.06074000000000004, 0.0, 7.499999999999864e-05, 0.16664999999999996, 0.07800999999999995, 0.20655000000000004, 0.0, 0.26453000000000015, 0.0, 0.2063000000000001, 0.024708750000000005, 0.8974207499999993, 0.022830000000000024, 0.7383000000000005, 0.0, 0.0, 0.007499999999999999, 0.5177900000000003, 0.14006999999999992, 0.18449999999999983, 0.3270400000000002, 0.15425999999999995, 0.0016500000000000006, 0.1805599999999999, 0.0017250000000000015, 0.42480000000000057, 0.0, 0.11529149999999995, 0.7818000000000003, 0.12255, 0.3845499999999998, 0.5351999999999998, 0.4827900000000002, 0.32550000000000034, 0.04398, 0.03123, 0.8574457500000002, 0.0, 0.15332999999999997, 0.0, 0.0, 0.10583999999999998, 0.070695, 0.25501, 0.0005700000000000003, 0.0, 0.0029699999999999996, 0.38295000000000007, 0.0, 0.32538000000000056, 0.0, 0.0, 0.1599999999999999, 0.0, 7.500000000000071e-05, 0.1794749999999999, 0.40168000000000026, 0.00015, 0.0, 0.05407499999999993, 0.00030000000000000003, 0.0314235, 0.18787499999999996, 0.09792, 0.2160899999999999, 0.03449999999999999, 0.02392499999999996, 0.16756499999999988, 0.09644999999999995, 0.0, 0.14315999999999984, 0.09638999999999984, 0.0001500000000000012, 0.0, 0.32270999999999994, 0.5313600000000002, 0.028710000000000003, 0.007425, 0.0, 0.00015000000000000001, 0.0, 0.28793999999999986, 0.53628, 0.03760000000000001, 0.00033, 0.10142, 0.04919999999999998, 0.0, 0.3968200000000005, 0.0, 0.41034000000000015, 0.0, 0.061820000000000035, 0.0, 7.499999999999864e-05, 0.1938, -5.4569682106375696e-17, 0.18787500000000007, 0.0, 0.22803999999999996, 0.0, 0.16894000000000023, 0.02947500000000001, 0.8411707499999996, 0.020190000000000024, 0.7861000000000005, 0.0, 0.0, 0.0075, 0.5687700000000007, 0.13478999999999988, 0.20763999999999988, 0.27716, 0.1254705, 0.0016500000000000006, 0.1908834999999999, 0.0017250000000000015, 0.4164000000000005, 0.0, 0.2177144999999999, 0.7221, 0.34664999999999996, 0.32286999999999977, 0.5189999999999999, 0.5532535000000003, 0.3438260000000003, 0.05454, 0.028005, 0.8904322500000004, 0.0, 0.16931999999999997, 0.0, 0.0, 0.10563, 0.06574499999999998, 0.23476, 0.0004200000000000003, 0.0, 0.002939999999999999, 0.3870000000000002, 0.0, 0.33646000000000076, 0.0, 0.0, 0.17833999999999986, 0.0, 7.500000000000073e-05, 0.20175, 0.4568100000000001, 0.00015, 0.0, 0.05212499999999993, 0.00030000000000000003, 0.0314235, 0.2268, 0.092895, 0.22894349999999997, 0.03449999999999999, 0.016349999999999972, 0.15857999999999986, 0.13545, 0.0, 0.13274999999999987, 0.10504499999999983, 7.500000000000121e-05, 0.0, 0.33084000000000024, 0.5293800000000003, 0.045510000000000016, 0.007425, 0.0, 0.00015, 0.0, 0.30481049999999993, 0.5856700000000005, 0.04355000000000003, 0.0003, 0.10364000000000001, 0.05144999999999999, 0.0, 0.3703200000000007, 0.0, 0.4585400000000003, 0.0, 0.07342000000000001, 0.0, 7.499999999999864e-05, 0.17520000000000005, 0.012339999999999945, 0.20962500000000014, 0.0, 0.41581999999999986, 0.0, 0.12967000000000029, 0.034500000000000024, 0.8691322499999996, 0.019350000000000016, 0.6958000000000006, 0.0, 0.0, 0.0075, 0.6156200000000004, 0.1367699999999999, 0.1693399999999999, 0.28546000000000016, 0.12519480000000002, 0.0016500000000000006, 0.18315809999999982, 0.0017250000000000015, 0.3871650000000006, 0.0, 0.1583549999999999, 0.787465, 0.1638, 0.33802979999999994, 0.49839999999999995, 0.5564216, 0.3250980000000004, 0.04677, 0.025409999999999995, 0.8463525000000005, 0.0, 0.17309999999999998, 0.0, 0.0, 0.10563, 0.06620999999999999, 0.20609000000000005, 0.0004500000000000004, 0.0, 0.0028799999999999993, 0.3373500000000002, 0.0, 0.3238600000000005, 0.0, 0.0, 0.1399399999999998, 0.0, 7.500000000000071e-05, 0.212925, 0.4820100000000001, 0.00015, 0.0, 0.052274999999999947, 0.0003, 0.0314235, 0.18825000000000008, 0.08652, 0.21562159999999983, 0.05077499999999999, 0.03502499999999996, 0.14423999999999998, 0.10447499999999997, 0.0, 0.10208939999999986, 0.22478999999999993, 7.50000000000012e-05, 0.0, 0.34007999999999994, 0.5430300000000001, 0.08592000000000002, 0.007425, 0.0, 0.00015, 0.0, 0.27969479999999997, 0.6174900000000005, 0.041290000000000014, 0.0003, 0.08255, 0.05009999999999999, 0.0, 0.3729598000000003, 0.0, 0.47128, 0.0, 0.06872000000000003, 0.0, -1.3600232051658168e-18, 0.15435000000000001, 6.999999999994543e-05, 0.22072500000000017, 0.0, 0.3590699999999999, 0.0, 0.16777000000000022, 0.030675000000000018, 0.8291774999999998, 0.019290000000000026, 0.7021000000000005, 0.0, 0.0, 0.00950025, 0.5240100000000009, 0.13807454999999988, 0.1793, 0.39744670000000015, 0.10884000000000003, 0.0017250000000000015, 0.14374689999999982, 0.0018000000000000015, 0.34110000000000057, 0.0, 0.11845499999999991, 0.6733000000000002, 0.10785, 0.3470467000000001, 0.3790999999999999, 0.41193690000000033, 0.3250980000000004, 0.03606, 0.02789999999999999, 0.7593315000000005, 0.0, 0.14459999999999998, 0.0, 0.0, 0.10431000000000001, 0.0453, 0.26596, 0.00045000000000000037, 0.0, 0.002729999999999999, 0.3322005000000003, 0.0, 0.24919000000000072, 0.0, 0.0, 0.15325999999999976, 0.0, 7.500000000000071e-05, 0.196725, 0.3155900000000003, 7.5e-05, 0.0, 0.05819999999999995, 0.0003, 0.024288000000000004, 0.18675000000000003, 0.07413, 0.1686168999999998, 0.05479499999999998, 0.030074999999999966, 0.1516900499999999, 0.10730399999999997, 0.0, 0.10463999999999987, 0.08488499999999999, 0.0002250000000000012, 0.0, 0.37122000000000005, 0.4193700000000001, 0.020760000000000008, 0.006975, 0.0, 0.00015, 0.0, 0.2851406999999999, 0.598140000000001, 0.035800000000000026, 0.00033, 0.09590999999999998, 0.05594999999999998, 0.0, 0.33256670000000077, 0.0, 0.30633000000000016, 0.0, 0.06002000000000004, 0.0, 7.499999999999865e-05, 0.15975, 0.07505999999999995, 0.2041500000000002, 0.0, 0.25172, 0.0, 0.1314200000000002, 0.029850000000000022, 0.7406565, 0.020160000000000025, 0.7772000000000004, 0.0, 0.0, 0.00705, 0.5365300000000002, 0.13337999999999978, 0.20059000000000005, 0.3304099999999999, 0.13440000000000002, 0.001650000000000001, 0.11788999999999986, 0.002175000000000001, 0.5155000000000007, 0.0, 0.15779849999999987, 0.7388000000000003, 0.54525, 0.4417800000000002, 0.49349999999999977, 0.53009, 0.45390000000000047, 0.03837, 0.02980499999999999, 0.6638992500000004, 0.0, 0.17457629999999996, 0.0, 0.0, 0.1041, 0.081465, 0.2541199999999998, 0.0005700000000000005, 0.0, 0.002729999999999999, 0.29355000000000026, 0.0, 0.23556000000000088, 0.0, 0.0, 0.20317999999999972, 0.0, 7.500000000000071e-05, 0.1463249999999999, 0.4868421000000002, 7.5e-05, 0.0, 0.055874999999999966, 0.00030000000000000003, 0.024288000000000004, 0.19417500000000001, 0.06993, 0.17870999999999984, 0.07259999999999998, 0.08641574999999997, 0.15310500000000002, 0.14002499999999998, 0.0, 0.10118999999999985, 0.11421, 7.500000000000123e-05, 0.0, 0.3192899999999999, 0.40575, 0.020040000000000006, 0.006975, 0.0, 0.00015, 0.0, 0.30243, 0.650200000000001, 0.04556000000000002, 0.0002999999999999999, 0.15379000000000004, 0.07267499999999995, 0.0, 0.49417000000000066, 0.0, 0.4414720999999999, 0.0, 0.03656, 0.0, 7.499999999999865e-05, 0.16425000000000003, 0.04494999999999994, 0.15165000000000015, 0.0, 0.24013210000000001, 0.0, 0.2627400000000001, 0.030975000000000006, 0.6460492499999998, 0.02211000000000003, 0.8357800000000003, 0.0, 0.0, 0.00705, 0.4277914000000001, 0.1340699999999998, 0.34339999999999987, 0.2978680000000001, 0.13575330000000005, 0.0022500000000000007, 0.13374279999999986, 0.0024000000000000015, 0.6143280000000009, 0.0, 0.16955699999999987, 0.7694280000000003, 1.04055, 0.5779700000000004, 0.45149999999999973, 0.6269100000000006, 0.5307710000000004, 0.0501, 0.02965499999999999, 0.6155242500000004, 0.0, 0.16118999999999992, 0.0, 0.0, 0.10389000000000005, 0.06372, 0.14292999999999986, 0.0006000000000000004, 0.0, 0.0027599999999999994, 0.31665000000000015, 0.0, 0.2997480000000007, 0.0, 0.0, 0.22035109999999966, 0.0, 7.500000000000073e-05, 0.18674999999999994, 0.6248200000000008, 7.500000000000001e-05, 0.0, 0.057449999999999946, 0.00015000000000000004, 0.015745500000000003, 0.2100750000000001, 0.11284500000000001, 0.16314999999999957, 0.013724999999999984, 0.04109999999999996, 0.18751500000000004, 0.09269999999999995, 0.0, 0.10781999999999986, 0.20665499999999992, 0.0003000000000000012, 0.0, 0.3363641999999999, 0.59655, 0.029999999999999995, 0.00705, 0.0, 0.00015, 0.0, 0.30558000000000013, 0.37757140000000095, 0.04890000000000003, 0.0010500000000000002, 0.15347110000000003, 0.050924999999999956, 0.0, 0.7471980000000008, 0.0, 0.5953000000000006, 0.0, 0.007388000000000005, 0.0, 7.499999999999862e-05, 0.15345, 0.0001299999999999333, 0.20272500000000016, 0.0, 0.32982999999999996, 0.0, 0.6253611, 0.023700000000000002, 0.59962425, 0.02127000000000003, 0.6716000000000002, 0.0, 0.0, 0.007125, 0.5641400000000003, 0.13798499999999977, 0.3235999999999997, 0.33510000000000006, 0.12588, 0.0021750000000000003, 0.10969129999999983, 0.0022500000000000016, 0.4234130000000008, 0.0, 0.18599849999999993, 0.7047130000000005, 0.6682499999999995, 0.26990000000000036, 0.5448999999999997, 0.4572500000000002, 0.33721000000000045, 0.05208810000000002, 0.07438499999999999, 0.4765492500000002, 0.0, 0.21533999999999992, 0.0, 0.0, 0.10407000000000005, 0.034279050000000005, 0.30477999999999994, 9.00000000000005e-05, 0.0, 0.0027599999999999994, 0.2841000000000001, 0.0, 0.2570200000000006, 0.0, 0.0, 0.1930499999999997, 0.0, 7.500000000000073e-05, 0.2616749999999999, 0.44398000000000026, 0.00015, 0.0, 0.04837499999999996, 0.0003, 0.015745500000000003, 0.18420000000000003, 0.13886999999999997, 0.14659999999999956, 0.05429999999999998, 0.030449999999999987, 0.13284, 0.10027499999999995, 0.0, 0.12350999999999991, 0.3859949999999997, 7.500000000000123e-05, 0.0, 0.3748500000000001, 0.5273399999999998, 0.03507, 0.00705, 0.0, 0.0003, 0.0, 0.2996700000000002, 0.600350000000001, 0.045800000000000035, 0.00042, 0.1434000000000001, 0.054749999999999965, 0.0, 0.44647000000000087, 0.0, 0.4364000000000005, 0.0, 0.0558, 0.0, 7.499999999999862e-05, 0.14025, 0.08515999999999992, 0.26932500000000004, 0.0, 0.4789599999999999, 0.0, 0.5014699999999999, 0.022574999999999998, 0.45337424999999965], \"xaxis\": \"x2\", \"yaxis\": \"y2\"}, {\"name\": \"Dijkstra\", \"type\": \"histogram\", \"x\": [0.1803, 0.0123, 0.0, 0.5301100000000002, 0.0, 0.00198, 0.7304, 0.012374999999999999, 0.03765, 0.07095, 0.019725, 0.0078, 0.1503, 0.00015, 0.141225, 0.04425, 0.0003, 0.00615, 0.0, 0.0, 0.17899000000000004, 0.147945, 0.5593, 0.22216000000000005, 0.0072, 0.00135, 0.072825, 0.31017, 0.10796999999999997, 1.0377, 0.12645, 0.6176500000000001, 0.35417, 0.0, 0.06542000000000002, 0.0, 0.0, 0.34, 0.14484, 0.008175, 0.05592000000000001, 0.20176, 0.027764999999999995, 0.12075, 0.0003, 0.061875, 0.019575, 0.34140000000000004, 0.02595, 0.0, 0.17841, 0.0, 0.29608, 0.46395, 0.00825, 0.0, 0.0, 0.22179, 0.04292999999999999, 0.5164500000000001, 0.14635499999999996, 0.32592, 0.01005, 0.18697500000000003, 0.2022, 0.02349, 0.00057, 0.18075, 0.07329, 0.7369500000000001, 0.15827000000000002, 0.00298, 0.13938, 0.03894, 0.0, 0.09577500000000001, 0.22049999999999995, 0.7283000000000002, 0.0, 0.2638, 0.0, 0.03153, 0.00051, 0.07095, 0.3936299999999999, 0.10725, 0.18887000000000004, 0.006075, 0.13221000000000002, 0.10329, 0.00045, 1.0563, 0.20825, 0.006525, 0.0, 0.5669800000000002, 0.0, 0.0020099999999999996, 0.7455, 0.006599999999999998, 0.0522, 0.057300000000000025, 0.0, 0.04319999999999999, 0.17077500000000004, 0.00015, 0.165525, 0.04425, 0.0003, 0.00015000000000000115, 0.0, 0.0, 0.16218000000000007, 0.13795500000000005, 0.5725, 0.32960000000000017, 0.0072, 0.00135, 0.0546, 0.2749499999999999, 0.09907500000000002, 1.0396500000000002, 0.13464, 0.6308300000000001, 0.4312500000000003, 0.0, 0.0725100000000001, 0.0, 0.0, 0.3669, 0.1315499999999999, 0.0014250000000000007, 0.053380000000000045, 0.10272000000000012, 0.02855999999999999, 0.13109999999999997, 0.00015000000000000001, 0.05835, 0.039150000000000004, 0.3732400000000002, 0.026175, 0.0, 0.25683, 0.0, 0.42196000000000045, 0.4549500000000001, 0.0015000000000000007, 0.0, 0.0, 0.46764, 0.11612999999999998, 0.5340900000000002, 0.18911999999999982, 0.3307299999999999, 0.020279999999999992, 0.181875, 0.20219999999999996, 0.022110000000000005, 0.0, 0.15305999999999997, 0.05300999999999999, 0.18764999999999998, 0.1513600000000001, 0.07139999999999998, 0.13299, 0.04343, 0.0, 0.10087500000000005, 0.21106999999999992, 0.7006999999999998, 0.0, 0.23109999999999997, 0.01497, 0.03318, 0.00054, 0.07095, 0.54896, 0.10671, 0.2239600000000002, 0.0007499999999999986, 0.15339999999999995, 0.09102000000000003, 7.5e-05, 1.0581000000000003, 0.16115000000000002, 0.0063, 0.0, 0.4908799999999998, 0.0, 0.0026399999999999987, 0.6127999999999999, 0.006375, 0.059946000000000006, 0.0501, 0.0, 0.027540000000000005, 0.15300000000000008, 7.500000000000002e-05, 0.14535, 0.0324915, 0.0003, 0.00022500000000000116, 0.0, 0.0, 0.14733000000000002, 0.14117999999999992, 0.5306, 0.25134000000000023, 0.0072, 0.00135, 0.0327, 0.28265999999999997, 0.08136000000000003, 1.04115, 0.12927000000000008, 0.4519000000000001, 0.4781399999999999, 0.0, 0.06120000000000012, 0.0, 0.0, 0.2987000000000001, 0.12920999999999985, 0.001350000000000001, 0.05781000000000007, 0.05427000000000017, 0.032909999999999995, 0.11010000000000002, 0.0003, 0.06142499999999998, 0.018975, 0.33118000000000003, 0.025575000000000004, 0.0, 0.14658000000000002, 0.0, 0.5393300000000005, 0.4863000000000003, 0.0014250000000000011, 0.0, 0.0, 0.2976000000000001, 0.07738499999999997, 0.4896199999999997, 0.11249999999999977, 0.37453, 0.023029199999999986, 0.19769999999999993, 0.22279999999999994, 0.020370000000000013, 0.0005399999999999999, 0.18462, 0.04870499999999999, 0.19125, 0.16856000000000007, -2.7284841053187848e-17, 0.15585000000000004, 0.037439999999999994, 0.0, 0.09712500000000004, 0.17224999999999988, 0.6555999999999997, 0.0, 0.26180000000000003, 0.01365, 0.04944, 0.00033, 0.065121, 0.4548399999999997, 0.10701, 0.18565000000000015, 7.499999999999862e-05, 0.26087000000000005, 0.1005, 0.006000000000000001, 1.0581000000000003, 0.40510910000000006, 0.00735, 0.0, 0.3030198000000003, 0.0, 0.002459999999999999, 0.8545, 0.007425, 0.037342499999999994, 0.07739999999999998, 0.0, 0.026394300000000002, 0.16935000000000006, 7.500000000000001e-05, 0.16260000000000005, 0.0324915, 0.00030000000000000003, 0.0001500000000000012, 0.0, 0.0, 0.16149999999999998, 0.1437149999999999, 0.5687, 0.28083910000000034, 0.0072, 0.00135, 0.07755, 0.29312999999999995, 0.085095, 0.9776107499999996, 0.14883000000000005, 0.4825898000000003, 0.45462, 0.0, 0.08157000000000014, 0.0, 0.0, 0.3918, 0.1257299999999998, 0.0016500000000000006, 0.05799950000000006, 0.07578000000000018, 0.028304999999999997, 0.10635, 0.00015, 0.058874999999999955, 0.04671825, 0.3562500000000001, 0.028050000000000005, 0.0, 0.08024999999999999, 0.0, 0.4738691000000007, 0.4593000000000002, 0.0017250000000000015, 0.0, 0.0, 0.42855000000000015, 0.05876999999999996, 0.2912298000000001, 0.13379969999999983, 0.3435500000000003, 0.016349999999999983, 0.17219999999999988, 0.2154, 0.022379400000000025, -1.7763568394002506e-20, 0.16197000000000003, 0.06364499999999998, 0.169047, 0.14989810000000023, 0.10876999999999995, 0.16800000000000004, 0.04997000000000001, 0.0, 0.09832500000000005, 0.19998999999999992, 0.5984929999999997, 0.0, 0.2929, 0.002459999999999998, 0.035730000000000005, 0.00033, 0.0581865, 0.2983596, 0.10791000000000002, 0.18173980000000026, 7.499999999999864e-05, 0.3995699999999999, 0.10900500000000003, 7.500000000000071e-05, 0.9947857499999998, 0.4761200000000001, 0.007425, 0.0, 0.5278300000000002, 0.0, 0.0028199999999999987, 0.9006000000000003, 0.0075, 0.0897, 0.06952499999999999, 0.025275, 0.03531000000000001, 0.20295000000000002, 7.500000000000001e-05, 0.19462499999999996, 0.0324915, 0.00030000000000000003, 7.50000000000012e-05, 0.0, 0.0, 0.14355, 0.14381999999999992, 0.6116450000000001, 0.4785700000000004, 0.0072, 0.00135, 0.07096725, 0.26895, 0.11316000000000002, 0.8811749999999996, 0.13371000000000013, 0.6190300000000003, 0.3706599999999995, 0.0, 0.07594000000000019, 0.0, 0.0, 0.4174, 0.11045999999999977, 0.0018000000000000004, 0.06093000000000006, 0.1373400000000002, 0.028605000000000005, 0.12765, 0.0003, 0.05579999999999992, 0.025124999999999995, 0.28837000000000007, 0.024708750000000005, 0.0, 0.26292, 0.0, 0.4703100000000002, 0.44235, 0.001875000000000001, 0.0, 0.0, 0.58032, 0.13970999999999997, 0.3490300000000003, 0.13900499999999988, 0.37478000000000056, 0.01720349999999998, 0.20407499999999987, 0.18970000000000004, 0.021810000000000013, 0.00057, 0.10122000000000002, 0.060764999999999965, 0.16664999999999996, 0.13945450000000018, 0.010369999999999982, 0.12954000000000004, 0.05453000000000001, 0.0, 0.0946500000000001, 0.18999999999999984, 0.6526999999999998, 0.0, 0.28130900000000003, 0.01857, 0.04458000000000001, 0.00048, 0.063915, 0.4619399999999999, 0.10647, 0.2450300000000002, 7.499999999999864e-05, 0.20630000000000004, 0.11793000000000009, 0.00015000000000000072, 0.8962500000000003, 0.2574300000000004, 0.007425, 0.0, 0.5177900000000001, 0.0, 0.0029699999999999996, 0.7383000000000005, 0.007499999999999999, 0.0828, 0.04919999999999998, 0.0, 0.028710000000000013, 0.1842750000000001, 0.00015, 0.175875, 0.0324915, 0.00030000000000000003, 0.0001500000000000012, 0.0, 0.0, 0.14523999999999995, 0.13934999999999992, 0.5367999999999999, 0.2900800000000005, 0.0072, 0.00135, 0.03449999999999999, 0.26936999999999994, 0.09792, 0.824925, 0.13755000000000012, 0.5756600000000002, 0.34516999999999975, 0.0, 0.08666000000000011, 0.0, 0.0, 0.3255, 0.14315999999999973, 0.0016500000000000006, 0.06182000000000007, 0.2650000000000003, 0.031095, 0.1212, 0.00015000000000000001, 0.05407499999999993, 0.023925, 0.3992599999999996, 0.02947500000000001, 0.0, 0.23190000000000002, 0.0, 0.3295900000000002, 0.38295000000000007, 0.0017250000000000015, 0.0, 0.0, 0.5313599999999999, 0.070695, 0.4390099999999999, 0.09638999999999984, 0.32538000000000056, 0.01670999999999997, 0.18787499999999996, 0.17980000000000007, 0.022830000000000024, 0.0005699999999999999, 0.09081, 0.059069999999999956, 0.1938, 0.12497000000000012, -1.8189894035458566e-17, 0.15333000000000005, 0.03760000000000001, 0.0, 0.09645000000000006, 0.18449999999999991, 0.5351999999999998, 0.0, 0.245, 0.01857, 0.04398, 0.00033, 0.063915, 0.39300000000000007, 0.10583999999999998, 0.18500000000000008, 7.499999999999864e-05, 0.1689400000000002, 0.10849500000000009, 7.500000000000071e-05, 0.8412000000000005, 0.4455200000000001, 0.007425, 0.0, 0.5687700000000004, 0.0, 0.002939999999999999, 0.7861000000000005, 0.0075, 0.17055, 0.05144999999999999, 0.01635, 0.04551000000000003, 0.20602500000000018, 0.00015, 0.1981500000000001, 0.0471645, 0.00030000000000000003, 7.500000000000121e-05, 0.0, 0.0, 0.17834, 0.13406999999999988, 0.509, 0.4879200000000003, 0.0072, 0.00135, 0.03449999999999999, 0.2982705, 0.092895, 0.8455499999999998, 0.10852050000000009, 0.5856700000000006, 0.32285999999999976, 0.0, 0.10364000000000016, 0.0, 0.0, 0.33072599999999996, 0.13271999999999975, 0.0016500000000000006, 0.07474000000000006, 0.19054000000000018, 0.02787, 0.34529999999999994, 0.00015, 0.05212499999999993, 0.0, 0.2028799999999996, 0.034500000000000024, 0.0, 0.18308999999999997, 0.0, 0.5463500000000001, 0.3870000000000002, 0.0017250000000000015, 0.0, 0.0, 0.52938, 0.06574499999999998, 0.2817735000000002, 0.10504499999999983, 0.33646000000000076, 0.01694999999999998, 0.2268, 0.19020000000000006, 0.020190000000000024, 0.0004499999999999999, 0.14774999999999983, 0.06148499999999993, 0.17520000000000005, 0.13340000000000016, -1.8189894035458566e-17, 0.16932000000000003, 0.04355000000000003, 0.0, 0.11910000000000007, 0.20763999999999996, 0.5321, 0.0, 0.2131, -5.684341886080802e-19, 0.05454, 0.0003, 0.078588, 0.46617, 0.10563, 0.19276000000000026, 7.499999999999864e-05, 0.1296700000000002, 0.09709500000000007, 7.500000000000073e-05, 0.8668500000000009, 0.2877799999999999, 0.007425, 0.0, 0.6156200000000002, 0.0, 0.0028799999999999993, 0.6958000000000006, 0.0075, 0.12314999999999998, 0.05009999999999999, 0.0, 0.08592000000000002, 0.18742500000000023, 0.00015, 0.17962500000000015, 0.03520499999999999, 0.0003, 7.50000000000012e-05, 0.0, 0.0, 0.12867000000000003, 0.1360499999999999, 0.5814000000000001, 0.36615, 0.0666, 0.06075, 0.05077499999999999, 0.27969480000000013, 0.08652, 0.8115750000000004, 0.12201480000000009, 0.6184900000000008, 0.33702979999999993, 0.0, 0.07536000000000015, 0.0, 0.0, 0.32509799999999994, 0.10208939999999973, 0.0016500000000000006, 0.06872000000000009, 0.27838000000000007, 0.025274999999999995, 0.10305, 0.00015, 0.052274999999999947, 0.035024999999999994, 0.36219999999999963, 0.030675000000000018, 0.0, 0.23153999999999997, 0.0, 0.41746979999999945, 0.3373500000000002, 0.0017250000000000015, 0.0, 0.0, 0.5430299999999999, 0.06620999999999999, 0.4189916, 0.22478999999999993, 0.3238600000000005, 0.0031799999999999762, 0.18825000000000008, 0.18110000000000012, 0.019350000000000016, 0.0004499999999999999, 0.1085399999999998, 0.058679999999999934, 0.15435000000000001, 0.13315000000000018, 6.99999999999818e-05, 0.17310000000000003, 0.041290000000000014, 0.0, 0.1044750000000001, 0.17342, 0.49840000000000007, 0.0, 0.206065, -5.684341886080802e-19, 0.04677, 0.0003, 0.0666285, 0.46319, 0.10563, 0.18622000000000016, -1.3600232051658168e-18, 0.1677700000000001, 0.08556000000000007, 7.500000000000071e-05, 0.8287500000000011, 0.19465, 0.006975, 0.0, 0.5240100000000006, 0.0, 0.002729999999999999, 0.7021000000000005, 0.00950025, 0.08325, 0.05594999999999998, 0.0, 0.020760000000000008, 0.20055000000000014, 7.5e-05, 0.1931250000000001, 0.03520499999999999, 0.0003, 0.0002250000000000012, 0.0, 0.0, 0.14501, 0.13735454999999988, 0.5053000000000002, 0.3044099999999999, 0.0071999999999999955, 0.0013499999999999957, 0.05479499999999998, 0.27152070000000006, 0.07413, 0.7230540000000006, 0.09270000000000009, 0.6198667000000013, 0.32532000000000005, 0.0, 0.08766000000000013, 0.0, 0.0, 0.32509799999999994, 0.10463999999999976, 0.0017250000000000015, 0.06002000000000009, 0.2714567000000001, 0.02776499999999999, 0.1065, 0.00015, 0.05819999999999995, 0.030074999999999987, 0.36508999999999964, 0.029850000000000022, 0.0, 0.28287, 0.0, 0.28337999999999974, 0.3322005000000003, 0.0018000000000000015, 0.0, 0.0, 0.4193699999999998, 0.0453, 0.4002900000000001, 0.08488499999999999, 0.24919000000000072, 0.016139999999999977, 0.18675000000000003, 0.17310000000000006, 0.019290000000000026, 0.00044999999999999977, 0.08834999999999972, 0.06530504999999995, 0.15975, 0.1042969000000001, 0.0017599999999999823, 0.14460000000000006, 0.035800000000000026, 0.0, 0.1073040000000001, 0.1793000000000001, 0.3791000000000001, 0.0, 0.16799999999999998, 0.01362, 0.03606, 0.00033, 0.059493, 0.39473000000000014, 0.10431000000000001, 0.14596690000000023, 7.499999999999865e-05, 0.1314200000000001, 0.08638500000000003, 7.500000000000071e-05, 0.7417290000000012, 0.3806220999999999, 0.006975, 0.0, 0.53653, 0.0, 0.002729999999999999, 0.7772000000000004, 0.00705, 0.11385, 0.07267499999999995, 0.046725, 0.020040000000000006, 0.1480500000000001, 7.5e-05, 0.142725, 0.04394849999999999, 0.00030000000000000003, 7.500000000000123e-05, 0.0, 0.0, 0.16336000000000006, 0.13265999999999978, 0.4938000000000003, 0.4569121000000001, 0.0071999999999999955, 0.0013499999999999957, 0.07259999999999998, 0.27168000000000014, 0.06993, 0.6240750000000005, 0.11946000000000011, 0.6502000000000013, 0.4417800000000003, 0.0, 0.11397000000000017, 0.0, 0.0, 0.3486, 0.10118999999999974, 0.001650000000000001, 0.04709000000000003, 0.06245000000000022, 0.02966999999999999, 0.5439, 0.00015, 0.055874999999999966, 0.03969074999999999, 0.31086999999999965, 0.030975000000000006, 0.0, 0.20424, 0.0, 0.6335020999999997, 0.29355000000000026, 0.002175000000000001, 0.0, 0.0, 0.4057499999999997, 0.081465, 0.30874000000000007, 0.11421, 0.23556000000000088, 0.014939999999999972, 0.19417500000000001, 0.1652, 0.020160000000000025, 0.00057, 0.11504999999999971, 0.06485999999999995, 0.16425000000000003, 0.09339000000000006, -1.7810937909719844e-17, 0.17457630000000005, 0.04556000000000002, 0.0, 0.09330000000000012, 0.20059000000000016, 0.5987999999999998, 0.0, 0.24499999999999997, 0.012059999999999996, 0.03837, 0.0002999999999999999, 0.0682365, 0.4844799999999998, 0.1041, 0.1787100000000002, 7.499999999999865e-05, 0.26274, 0.08824500000000009, 7.500000000000071e-05, 0.6419250000000011, 0.14933999999999995, 0.00705, 0.0, 0.4277913999999999, 0.0, 0.0027599999999999994, 0.8357800000000003, 0.00705, 0.1256085, 0.050924999999999956, 0.0, 0.029999999999999995, 0.1991250000000001, 7.500000000000001e-05, 0.18315000000000003, 0.04394849999999999, 0.00015000000000000004, 0.0003000000000000012, 0.0, 0.0, 0.18376000000000006, 0.1333499999999998, 0.5121000000000003, 0.2744280000000005, 0.0071999999999999955, 0.0013499999999999957, 0.013724999999999984, 0.27237000000000017, 0.11284500000000001, 0.5776500000000007, 0.11913330000000011, 0.4074214000000014, 0.5481200000000005, 0.0, 0.11708000000000014, 0.0, 0.0, 0.34277100000000005, 0.10841999999999974, 0.0022500000000000007, 0.026188000000000013, 0.35327000000000014, 0.02951999999999999, 1.0392, 0.00015, 0.057449999999999946, 0.0411, 0.5973099999999996, 0.023700000000000002, 0.0, 0.2216742, 0.0, 0.6855279999999997, 0.31665000000000015, 0.0024000000000000015, 0.0, 0.0, 0.5965499999999997, 0.06372, 0.5920100000000001, 0.20665499999999992, 0.2997480000000007, 0.01661999999999998, 0.2100750000000001, 0.16900000000000004, 0.02211000000000003, -1.021405182655144e-19, 0.11468999999999978, 0.07642499999999994, 0.15345, 0.10489000000000014, 0.00012999999999998218, 0.16118999999999997, 0.048700000000000014, 0.0, 0.09270000000000007, 0.34340000000000004, 0.6395000000000001, 0.0, 0.257328, 0.03321, 0.0501, 0.0010500000000000002, 0.059694000000000004, 0.5361199999999999, 0.10389000000000005, 0.16002999999999995, 7.499999999999862e-05, 0.6253610999999999, 0.11109000000000008, 7.500000000000073e-05, 0.5935500000000011, 0.28182000000000007, 0.00705, 0.0, 0.5641400000000001, 0.0, 0.0027599999999999994, 0.6716000000000002, 0.007125, 0.14205, 0.054749999999999965, 0.0, 0.03507, 0.26572500000000004, 0.00015, 0.25807500000000005, 0.04394849999999999, 0.0003, 7.500000000000123e-05, 0.0, 0.0, 0.16020000000000012, 0.13726499999999978, 0.45710000000000034, 0.31214000000000053, 0.0071999999999999955, 0.0013499999999999957, 0.05429999999999998, 0.2996700000000001, 0.13886999999999997, 0.43140000000000056, 0.10755000000000009, 0.6003500000000015, 0.26916000000000057, 0.0, 0.11055000000000018, 0.0, 0.0, 0.33721, 0.12128999999999975, 0.0021750000000000003, 0.05654000000000002, 0.41676, 0.07425, 0.6668999999999995, 0.0003, 0.04837499999999996, 0.030450000000000012, 0.4284099999999992, 0.022574999999999998, 0.0, 0.26195999999999986, 0.0, 0.47104000000000007, 0.2841000000000001, 0.0022500000000000016, 0.0, 0.0, 0.5251199999999996, 0.034279050000000005, 0.4623599999999999, 0.3859949999999997, 0.2570200000000006, 0.018329999999999968, 0.18420000000000003, 0.1758000000000001, 0.02127000000000003, 0.00231, 0.1128899999999998, 0.05779499999999996, 0.14025, 0.08193000000000014, -1.782278028864918e-17, 0.21534, 0.04580000000000002, 0.0, 0.10027500000000003, 0.3235999999999999, 0.5449, 0.0, 0.24761299999999997, -2.2737367544323208e-18, 0.05430810000000002, 0.00042, 0.059694000000000004, 0.4425199999999997, 0.10407000000000005, 0.14359999999999987, 7.499999999999862e-05, 0.5014699999999999, 0.07504500000000003, 7.500000000000073e-05, 0.4545750000000009], \"xaxis\": \"x3\", \"yaxis\": \"y3\"}],\n",
       "                        {\"annotations\": [{\"font\": {\"size\": 16}, \"showarrow\": false, \"text\": \"MORA\", \"x\": 0.5, \"xanchor\": \"center\", \"xref\": \"paper\", \"y\": 1.0, \"yanchor\": \"bottom\", \"yref\": \"paper\"}, {\"font\": {\"size\": 16}, \"showarrow\": false, \"text\": \"EAR\", \"x\": 0.5, \"xanchor\": \"center\", \"xref\": \"paper\", \"y\": 0.6111111111111112, \"yanchor\": \"bottom\", \"yref\": \"paper\"}, {\"font\": {\"size\": 16}, \"showarrow\": false, \"text\": \"Dijkstra\", \"x\": 0.5, \"xanchor\": \"center\", \"xref\": \"paper\", \"y\": 0.22222222222222224, \"yanchor\": \"bottom\", \"yref\": \"paper\"}], \"autosize\": false, \"height\": 1200, \"template\": {\"data\": {\"bar\": [{\"error_x\": {\"color\": \"#2a3f5f\"}, \"error_y\": {\"color\": \"#2a3f5f\"}, \"marker\": {\"line\": {\"color\": \"#E5ECF6\", \"width\": 0.5}}, \"type\": \"bar\"}], \"barpolar\": [{\"marker\": {\"line\": {\"color\": \"#E5ECF6\", \"width\": 0.5}}, \"type\": \"barpolar\"}], \"carpet\": [{\"aaxis\": {\"endlinecolor\": \"#2a3f5f\", \"gridcolor\": \"white\", \"linecolor\": \"white\", \"minorgridcolor\": \"white\", \"startlinecolor\": \"#2a3f5f\"}, \"baxis\": {\"endlinecolor\": \"#2a3f5f\", \"gridcolor\": \"white\", \"linecolor\": \"white\", \"minorgridcolor\": \"white\", \"startlinecolor\": \"#2a3f5f\"}, \"type\": \"carpet\"}], \"choropleth\": [{\"colorbar\": {\"outlinewidth\": 0, \"ticks\": \"\"}, \"type\": \"choropleth\"}], \"contour\": [{\"colorbar\": {\"outlinewidth\": 0, \"ticks\": \"\"}, \"colorscale\": [[0.0, \"#0d0887\"], [0.1111111111111111, \"#46039f\"], [0.2222222222222222, \"#7201a8\"], [0.3333333333333333, \"#9c179e\"], [0.4444444444444444, \"#bd3786\"], [0.5555555555555556, \"#d8576b\"], [0.6666666666666666, \"#ed7953\"], [0.7777777777777778, \"#fb9f3a\"], [0.8888888888888888, \"#fdca26\"], [1.0, \"#f0f921\"]], \"type\": \"contour\"}], \"contourcarpet\": [{\"colorbar\": {\"outlinewidth\": 0, \"ticks\": \"\"}, \"type\": \"contourcarpet\"}], \"heatmap\": [{\"colorbar\": {\"outlinewidth\": 0, \"ticks\": \"\"}, \"colorscale\": [[0.0, \"#0d0887\"], [0.1111111111111111, \"#46039f\"], [0.2222222222222222, \"#7201a8\"], [0.3333333333333333, \"#9c179e\"], [0.4444444444444444, \"#bd3786\"], [0.5555555555555556, \"#d8576b\"], [0.6666666666666666, \"#ed7953\"], [0.7777777777777778, \"#fb9f3a\"], [0.8888888888888888, \"#fdca26\"], [1.0, \"#f0f921\"]], \"type\": \"heatmap\"}], \"heatmapgl\": [{\"colorbar\": {\"outlinewidth\": 0, \"ticks\": \"\"}, \"colorscale\": [[0.0, \"#0d0887\"], [0.1111111111111111, \"#46039f\"], [0.2222222222222222, \"#7201a8\"], [0.3333333333333333, \"#9c179e\"], [0.4444444444444444, \"#bd3786\"], [0.5555555555555556, \"#d8576b\"], [0.6666666666666666, \"#ed7953\"], [0.7777777777777778, \"#fb9f3a\"], [0.8888888888888888, \"#fdca26\"], [1.0, \"#f0f921\"]], \"type\": \"heatmapgl\"}], \"histogram\": [{\"marker\": {\"colorbar\": {\"outlinewidth\": 0, \"ticks\": \"\"}}, \"type\": \"histogram\"}], \"histogram2d\": [{\"colorbar\": {\"outlinewidth\": 0, \"ticks\": \"\"}, \"colorscale\": [[0.0, \"#0d0887\"], [0.1111111111111111, \"#46039f\"], [0.2222222222222222, \"#7201a8\"], [0.3333333333333333, \"#9c179e\"], [0.4444444444444444, \"#bd3786\"], [0.5555555555555556, \"#d8576b\"], [0.6666666666666666, \"#ed7953\"], [0.7777777777777778, \"#fb9f3a\"], [0.8888888888888888, \"#fdca26\"], [1.0, \"#f0f921\"]], \"type\": \"histogram2d\"}], \"histogram2dcontour\": [{\"colorbar\": {\"outlinewidth\": 0, \"ticks\": \"\"}, \"colorscale\": [[0.0, \"#0d0887\"], [0.1111111111111111, \"#46039f\"], [0.2222222222222222, \"#7201a8\"], [0.3333333333333333, \"#9c179e\"], [0.4444444444444444, \"#bd3786\"], [0.5555555555555556, \"#d8576b\"], [0.6666666666666666, \"#ed7953\"], [0.7777777777777778, \"#fb9f3a\"], [0.8888888888888888, \"#fdca26\"], [1.0, \"#f0f921\"]], \"type\": \"histogram2dcontour\"}], \"mesh3d\": [{\"colorbar\": {\"outlinewidth\": 0, \"ticks\": \"\"}, \"type\": \"mesh3d\"}], \"parcoords\": [{\"line\": {\"colorbar\": {\"outlinewidth\": 0, \"ticks\": \"\"}}, \"type\": \"parcoords\"}], \"pie\": [{\"automargin\": true, \"type\": \"pie\"}], \"scatter\": [{\"marker\": {\"colorbar\": {\"outlinewidth\": 0, \"ticks\": \"\"}}, \"type\": \"scatter\"}], \"scatter3d\": [{\"line\": {\"colorbar\": {\"outlinewidth\": 0, \"ticks\": \"\"}}, \"marker\": {\"colorbar\": {\"outlinewidth\": 0, \"ticks\": \"\"}}, \"type\": \"scatter3d\"}], \"scattercarpet\": [{\"marker\": {\"colorbar\": {\"outlinewidth\": 0, \"ticks\": \"\"}}, \"type\": \"scattercarpet\"}], \"scattergeo\": [{\"marker\": {\"colorbar\": {\"outlinewidth\": 0, \"ticks\": \"\"}}, \"type\": \"scattergeo\"}], \"scattergl\": [{\"marker\": {\"colorbar\": {\"outlinewidth\": 0, \"ticks\": \"\"}}, \"type\": \"scattergl\"}], \"scattermapbox\": [{\"marker\": {\"colorbar\": {\"outlinewidth\": 0, \"ticks\": \"\"}}, \"type\": \"scattermapbox\"}], \"scatterpolar\": [{\"marker\": {\"colorbar\": {\"outlinewidth\": 0, \"ticks\": \"\"}}, \"type\": \"scatterpolar\"}], \"scatterpolargl\": [{\"marker\": {\"colorbar\": {\"outlinewidth\": 0, \"ticks\": \"\"}}, \"type\": \"scatterpolargl\"}], \"scatterternary\": [{\"marker\": {\"colorbar\": {\"outlinewidth\": 0, \"ticks\": \"\"}}, \"type\": \"scatterternary\"}], \"surface\": [{\"colorbar\": {\"outlinewidth\": 0, \"ticks\": \"\"}, \"colorscale\": [[0.0, \"#0d0887\"], [0.1111111111111111, \"#46039f\"], [0.2222222222222222, \"#7201a8\"], [0.3333333333333333, \"#9c179e\"], [0.4444444444444444, \"#bd3786\"], [0.5555555555555556, \"#d8576b\"], [0.6666666666666666, \"#ed7953\"], [0.7777777777777778, \"#fb9f3a\"], [0.8888888888888888, \"#fdca26\"], [1.0, \"#f0f921\"]], \"type\": \"surface\"}], \"table\": [{\"cells\": {\"fill\": {\"color\": \"#EBF0F8\"}, \"line\": {\"color\": \"white\"}}, \"header\": {\"fill\": {\"color\": \"#C8D4E3\"}, \"line\": {\"color\": \"white\"}}, \"type\": \"table\"}]}, \"layout\": {\"annotationdefaults\": {\"arrowcolor\": \"#2a3f5f\", \"arrowhead\": 0, \"arrowwidth\": 1}, \"coloraxis\": {\"colorbar\": {\"outlinewidth\": 0, \"ticks\": \"\"}}, \"colorscale\": {\"diverging\": [[0, \"#8e0152\"], [0.1, \"#c51b7d\"], [0.2, \"#de77ae\"], [0.3, \"#f1b6da\"], [0.4, \"#fde0ef\"], [0.5, \"#f7f7f7\"], [0.6, \"#e6f5d0\"], [0.7, \"#b8e186\"], [0.8, \"#7fbc41\"], [0.9, \"#4d9221\"], [1, \"#276419\"]], \"sequential\": [[0.0, \"#0d0887\"], [0.1111111111111111, \"#46039f\"], [0.2222222222222222, \"#7201a8\"], [0.3333333333333333, \"#9c179e\"], [0.4444444444444444, \"#bd3786\"], [0.5555555555555556, \"#d8576b\"], [0.6666666666666666, \"#ed7953\"], [0.7777777777777778, \"#fb9f3a\"], [0.8888888888888888, \"#fdca26\"], [1.0, \"#f0f921\"]], \"sequentialminus\": [[0.0, \"#0d0887\"], [0.1111111111111111, \"#46039f\"], [0.2222222222222222, \"#7201a8\"], [0.3333333333333333, \"#9c179e\"], [0.4444444444444444, \"#bd3786\"], [0.5555555555555556, \"#d8576b\"], [0.6666666666666666, \"#ed7953\"], [0.7777777777777778, \"#fb9f3a\"], [0.8888888888888888, \"#fdca26\"], [1.0, \"#f0f921\"]]}, \"colorway\": [\"#636efa\", \"#EF553B\", \"#00cc96\", \"#ab63fa\", \"#FFA15A\", \"#19d3f3\", \"#FF6692\", \"#B6E880\", \"#FF97FF\", \"#FECB52\"], \"font\": {\"color\": \"#2a3f5f\"}, \"geo\": {\"bgcolor\": \"white\", \"lakecolor\": \"white\", \"landcolor\": \"#E5ECF6\", \"showlakes\": true, \"showland\": true, \"subunitcolor\": \"white\"}, \"hoverlabel\": {\"align\": \"left\"}, \"hovermode\": \"closest\", \"mapbox\": {\"style\": \"light\"}, \"paper_bgcolor\": \"white\", \"plot_bgcolor\": \"#E5ECF6\", \"polar\": {\"angularaxis\": {\"gridcolor\": \"white\", \"linecolor\": \"white\", \"ticks\": \"\"}, \"bgcolor\": \"#E5ECF6\", \"radialaxis\": {\"gridcolor\": \"white\", \"linecolor\": \"white\", \"ticks\": \"\"}}, \"scene\": {\"xaxis\": {\"backgroundcolor\": \"#E5ECF6\", \"gridcolor\": \"white\", \"gridwidth\": 2, \"linecolor\": \"white\", \"showbackground\": true, \"ticks\": \"\", \"zerolinecolor\": \"white\"}, \"yaxis\": {\"backgroundcolor\": \"#E5ECF6\", \"gridcolor\": \"white\", \"gridwidth\": 2, \"linecolor\": \"white\", \"showbackground\": true, \"ticks\": \"\", \"zerolinecolor\": \"white\"}, \"zaxis\": {\"backgroundcolor\": \"#E5ECF6\", \"gridcolor\": \"white\", \"gridwidth\": 2, \"linecolor\": \"white\", \"showbackground\": true, \"ticks\": \"\", \"zerolinecolor\": \"white\"}}, \"shapedefaults\": {\"line\": {\"color\": \"#2a3f5f\"}}, \"ternary\": {\"aaxis\": {\"gridcolor\": \"white\", \"linecolor\": \"white\", \"ticks\": \"\"}, \"baxis\": {\"gridcolor\": \"white\", \"linecolor\": \"white\", \"ticks\": \"\"}, \"bgcolor\": \"#E5ECF6\", \"caxis\": {\"gridcolor\": \"white\", \"linecolor\": \"white\", \"ticks\": \"\"}}, \"title\": {\"x\": 0.05}, \"xaxis\": {\"automargin\": true, \"gridcolor\": \"white\", \"linecolor\": \"white\", \"ticks\": \"\", \"title\": {\"standoff\": 15}, \"zerolinecolor\": \"white\", \"zerolinewidth\": 2}, \"yaxis\": {\"automargin\": true, \"gridcolor\": \"white\", \"linecolor\": \"white\", \"ticks\": \"\", \"title\": {\"standoff\": 15}, \"zerolinecolor\": \"white\", \"zerolinewidth\": 2}}}, \"width\": 1300, \"xaxis\": {\"anchor\": \"y\", \"domain\": [0.0, 1.0]}, \"xaxis2\": {\"anchor\": \"y2\", \"domain\": [0.0, 1.0]}, \"xaxis3\": {\"anchor\": \"y3\", \"domain\": [0.0, 1.0]}, \"yaxis\": {\"anchor\": \"x\", \"domain\": [0.7777777777777778, 1.0]}, \"yaxis2\": {\"anchor\": \"x2\", \"domain\": [0.3888888888888889, 0.6111111111111112]}, \"yaxis3\": {\"anchor\": \"x3\", \"domain\": [0.0, 0.22222222222222224]}},\n",
       "                        {\"responsive\": true}\n",
       "                    ).then(function(){\n",
       "                            \n",
       "var gd = document.getElementById('dbf27f71-ee8c-4dc8-96d7-8bd4d1ac4583');\n",
       "var x = new MutationObserver(function (mutations, observer) {{\n",
       "        var display = window.getComputedStyle(gd).display;\n",
       "        if (!display || display === 'none') {{\n",
       "            console.log([gd, 'removed!']);\n",
       "            Plotly.purge(gd);\n",
       "            observer.disconnect();\n",
       "        }}\n",
       "}});\n",
       "\n",
       "// Listen for the removal of the full notebook cells\n",
       "var notebookContainer = gd.closest('#notebook-container');\n",
       "if (notebookContainer) {{\n",
       "    x.observe(notebookContainer, {childList: true});\n",
       "}}\n",
       "\n",
       "// Listen for the clearing of the current output cell\n",
       "var outputEl = gd.closest('.output');\n",
       "if (outputEl) {{\n",
       "    x.observe(outputEl, {childList: true});\n",
       "}}\n",
       "\n",
       "                        })\n",
       "                };\n",
       "                });\n",
       "            </script>\n",
       "        </div>"
      ]
     },
     "metadata": {},
     "output_type": "display_data"
    }
   ],
   "source": [
    "cat = []\n",
    "for idx, df in enumerate([df_MORA['Link usage'], df_EAR['Link usage'], df_D['Link usage']]):\n",
    "    cat.append([])\n",
    "    for row in df:\n",
    "        l = json.loads(row)\n",
    "        cat[idx] = cat[idx] +l\n",
    "\n",
    "names = ['MORA', 'EAR', 'Dijkstra']\n",
    "fig = make_subplots(rows=len(cat), cols=1, subplot_titles=('MORA', 'EAR', 'Dijkstra'))\n",
    "\n",
    "for alg in range(len(cat)):\n",
    "    fig.add_trace(go.Histogram(x=cat[alg], name=names[alg]), row = alg+1, col=1)\n",
    "    \n",
    "fig.update_layout(\n",
    "autosize=False,\n",
    "width=1300,\n",
    "height=1200,)\n",
    "\n",
    "fig.show()"
   ]
  }
 ],
 "metadata": {
  "kernelspec": {
   "display_name": "Python (experiments)",
   "language": "python",
   "name": "experiments"
  },
  "language_info": {
   "codemirror_mode": {
    "name": "ipython",
    "version": 3
   },
   "file_extension": ".py",
   "mimetype": "text/x-python",
   "name": "python",
   "nbconvert_exporter": "python",
   "pygments_lexer": "ipython3",
   "version": "3.5.6"
  }
 },
 "nbformat": 4,
 "nbformat_minor": 4
}
